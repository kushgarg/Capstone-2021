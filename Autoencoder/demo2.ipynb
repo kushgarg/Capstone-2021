{
 "metadata": {
  "language_info": {
   "codemirror_mode": {
    "name": "ipython",
    "version": 3
   },
   "file_extension": ".py",
   "mimetype": "text/x-python",
   "name": "python",
   "nbconvert_exporter": "python",
   "pygments_lexer": "ipython3",
   "version": "3.8.6"
  },
  "orig_nbformat": 2,
  "kernelspec": {
   "name": "python386jvsc74a57bd0004de6046f1b3d314f33fdb43a2dc798b2646e5600efd8df5066c8b63a00ff6d",
   "display_name": "Python 3.8.6 64-bit"
  }
 },
 "nbformat": 4,
 "nbformat_minor": 2,
 "cells": [
  {
   "cell_type": "code",
   "execution_count": 4,
   "metadata": {},
   "outputs": [],
   "source": [
    "import netCDF4 as nc4"
   ]
  },
  {
   "cell_type": "code",
   "execution_count": 1,
   "metadata": {},
   "outputs": [],
   "source": [
    "file_path =['C:/Users/Administrator/OneDrive - The University of Melbourne/capstone/data/OFAM_2017/ocean_eta_t/ocean_eta_t_2000_01.nc']\n",
    "file_path.append('C:/Users/Administrator/OneDrive - The University of Melbourne/capstone/data/OFAM_2017/ocean_eta_t/ocean_eta_t_2000_02.nc')\n",
    "file_path.append('C:/Users/Administrator/OneDrive - The University of Melbourne/capstone/data/OFAM_2017/ocean_eta_t/ocean_eta_t_2000_03.nc')\n",
    "file_path.append('C:/Users/Administrator/OneDrive - The University of Melbourne/capstone/data/OFAM_2017/ocean_eta_t/ocean_eta_t_2000_04.nc')\n",
    "# file_path.append('C:/Users/Administrator/OneDrive - The University of Melbourne/capstone/data/OFAM_2017/ocean_eta_t/ocean_eta_t_2000_05.nc')\n",
    "# file_path.append('C:/Users/Administrator/OneDrive - The University of Melbourne/capstone/data/OFAM_2017/ocean_eta_t/ocean_eta_t_2000_06.nc')"
   ]
  },
  {
   "cell_type": "code",
   "execution_count": 2,
   "metadata": {},
   "outputs": [
    {
     "output_type": "execute_result",
     "data": {
      "text/plain": [
       "['C:/Users/Administrator/OneDrive - The University of Melbourne/capstone/data/OFAM_2017/ocean_eta_t/ocean_eta_t_2000_01.nc',\n",
       " 'C:/Users/Administrator/OneDrive - The University of Melbourne/capstone/data/OFAM_2017/ocean_eta_t/ocean_eta_t_2000_02.nc',\n",
       " 'C:/Users/Administrator/OneDrive - The University of Melbourne/capstone/data/OFAM_2017/ocean_eta_t/ocean_eta_t_2000_03.nc',\n",
       " 'C:/Users/Administrator/OneDrive - The University of Melbourne/capstone/data/OFAM_2017/ocean_eta_t/ocean_eta_t_2000_04.nc']"
      ]
     },
     "metadata": {},
     "execution_count": 2
    }
   ],
   "source": [
    "file_path"
   ]
  },
  {
   "cell_type": "code",
   "execution_count": 8,
   "metadata": {},
   "outputs": [],
   "source": [
    "ds = nc4.MFDataset(file_path)\n",
    "eta_t_arr = ds.variables['eta_t'][:]"
   ]
  },
  {
   "cell_type": "code",
   "execution_count": 9,
   "metadata": {},
   "outputs": [
    {
     "output_type": "execute_result",
     "data": {
      "text/plain": [
       "(121, 1500, 3600)"
      ]
     },
     "metadata": {},
     "execution_count": 9
    }
   ],
   "source": [
    "eta_t_arr.shape"
   ]
  },
  {
   "cell_type": "code",
   "execution_count": 12,
   "metadata": {},
   "outputs": [
    {
     "output_type": "execute_result",
     "data": {
      "text/plain": [
       "(121, 1500)"
      ]
     },
     "metadata": {},
     "execution_count": 12
    }
   ],
   "source": [
    "time_ytocean_arr = eta_t_arr[:,:,1]\n",
    "time_ytocean_arr.shape"
   ]
  },
  {
   "cell_type": "code",
   "execution_count": 13,
   "metadata": {},
   "outputs": [
    {
     "output_type": "execute_result",
     "data": {
      "text/plain": [
       "(81, 1500)"
      ]
     },
     "metadata": {},
     "execution_count": 13
    }
   ],
   "source": [
    "from sklearn.model_selection import train_test_split\n",
    "time_ytocean_train, time_ytocean_test = train_test_split(time_ytocean_arr, test_size=0.33)\n",
    "time_ytocean_train.shape"
   ]
  },
  {
   "cell_type": "code",
   "execution_count": 14,
   "metadata": {},
   "outputs": [],
   "source": [
    "input_size = 1500\n",
    "hidden_size = 150\n",
    "output_size = 1500"
   ]
  },
  {
   "cell_type": "code",
   "execution_count": 16,
   "metadata": {},
   "outputs": [
    {
     "output_type": "stream",
     "name": "stdout",
     "text": [
      "Model: \"model\"\n_________________________________________________________________\nLayer (type)                 Output Shape              Param #   \n=================================================================\ninput_1 (InputLayer)         [(None, 1500)]            0         \n_________________________________________________________________\ndense (Dense)                (None, 150)               225150    \n_________________________________________________________________\ndense_1 (Dense)              (None, 1500)              226500    \n=================================================================\nTotal params: 451,650\nTrainable params: 451,650\nNon-trainable params: 0\n_________________________________________________________________\n"
     ]
    }
   ],
   "source": [
    "from keras.datasets import mnist\n",
    "from keras.models import Model\n",
    "from keras.layers import Input, add\n",
    "from keras.layers.core import  Dense, Dropout, Activation, Flatten, Reshape\n",
    "\n",
    "x = Input(shape=(input_size,))\n",
    "h = Dense(hidden_size, activation='relu')(x)\n",
    "r = Dense(output_size, activation='sigmoid')(h)\n",
    "\n",
    "autoencoder = Model(inputs=x, outputs=r)\n",
    "autoencoder.compile(optimizer='adam', loss='mse')\n",
    "autoencoder.summary()"
   ]
  },
  {
   "cell_type": "code",
   "execution_count": 19,
   "metadata": {},
   "outputs": [
    {
     "output_type": "execute_result",
     "data": {
      "image/png": "[encoded data removed]",
      "text/plain": [
       "<IPython.core.display.Image object>"
      ]
     },
     "metadata": {},
     "execution_count": 19
    }
   ],
   "source": [
    "import keras\n",
    "from keras import regularizers\n",
    "from keras.regularizers import l2\n",
    "from keras.layers.convolutional import Conv2D, MaxPooling2D, UpSampling2D, ZeroPadding2D\n",
    "from keras.utils import np_utils\n",
    "keras.utils.plot_model(autoencoder, \"time_ytocean_autoencoder.png\")"
   ]
  },
  {
   "cell_type": "code",
   "execution_count": 20,
   "metadata": {},
   "outputs": [
    {
     "output_type": "stream",
     "name": "stdout",
     "text": [
      "Epoch 1/100\n",
      "1/1 [==============================] - 2s 2s/step - loss: 345039328.0000 - val_loss: 345039488.0000\n",
      "Epoch 2/100\n",
      "1/1 [==============================] - 0s 51ms/step - loss: 345039488.0000 - val_loss: 345039040.0000\n",
      "Epoch 3/100\n",
      "1/1 [==============================] - 0s 60ms/step - loss: 345039040.0000 - val_loss: 345039232.0000\n",
      "Epoch 4/100\n",
      "1/1 [==============================] - 0s 51ms/step - loss: 345039232.0000 - val_loss: 345039232.0000\n",
      "Epoch 5/100\n",
      "1/1 [==============================] - 0s 51ms/step - loss: 345039232.0000 - val_loss: 345039424.0000\n",
      "Epoch 6/100\n",
      "1/1 [==============================] - 0s 50ms/step - loss: 345039392.0000 - val_loss: 345039296.0000\n",
      "Epoch 7/100\n",
      "1/1 [==============================] - 0s 50ms/step - loss: 345039296.0000 - val_loss: 345039168.0000\n",
      "Epoch 8/100\n",
      "1/1 [==============================] - 0s 48ms/step - loss: 345039136.0000 - val_loss: 345039168.0000\n",
      "Epoch 9/100\n",
      "1/1 [==============================] - 0s 49ms/step - loss: 345039136.0000 - val_loss: 345039040.0000\n",
      "Epoch 10/100\n",
      "1/1 [==============================] - 0s 48ms/step - loss: 345039040.0000 - val_loss: 345038912.0000\n",
      "Epoch 11/100\n",
      "1/1 [==============================] - 0s 53ms/step - loss: 345038912.0000 - val_loss: 345038688.0000\n",
      "Epoch 12/100\n",
      "1/1 [==============================] - 0s 49ms/step - loss: 345038688.0000 - val_loss: 345038784.0000\n",
      "Epoch 13/100\n",
      "1/1 [==============================] - 0s 49ms/step - loss: 345038784.0000 - val_loss: 345038912.0000\n",
      "Epoch 14/100\n",
      "1/1 [==============================] - 0s 49ms/step - loss: 345038880.0000 - val_loss: 345038912.0000\n",
      "Epoch 15/100\n",
      "1/1 [==============================] - 0s 49ms/step - loss: 345038880.0000 - val_loss: 345038752.0000\n",
      "Epoch 16/100\n",
      "1/1 [==============================] - 0s 52ms/step - loss: 345038752.0000 - val_loss: 345038656.0000\n",
      "Epoch 17/100\n",
      "1/1 [==============================] - 0s 50ms/step - loss: 345038656.0000 - val_loss: 345038688.0000\n",
      "Epoch 18/100\n",
      "1/1 [==============================] - 0s 51ms/step - loss: 345038688.0000 - val_loss: 345038688.0000\n",
      "Epoch 19/100\n",
      "1/1 [==============================] - 0s 51ms/step - loss: 345038688.0000 - val_loss: 345038784.0000\n",
      "Epoch 20/100\n",
      "1/1 [==============================] - 0s 49ms/step - loss: 345038784.0000 - val_loss: 345038784.0000\n",
      "Epoch 21/100\n",
      "1/1 [==============================] - 0s 49ms/step - loss: 345038784.0000 - val_loss: 345038784.0000\n",
      "Epoch 22/100\n",
      "1/1 [==============================] - 0s 49ms/step - loss: 345038784.0000 - val_loss: 345038784.0000\n",
      "Epoch 23/100\n",
      "1/1 [==============================] - 0s 48ms/step - loss: 345038784.0000 - val_loss: 345038912.0000\n",
      "Epoch 24/100\n",
      "1/1 [==============================] - 0s 49ms/step - loss: 345038880.0000 - val_loss: 345038912.0000\n",
      "Epoch 25/100\n",
      "1/1 [==============================] - 0s 47ms/step - loss: 345038880.0000 - val_loss: 345038912.0000\n",
      "Epoch 26/100\n",
      "1/1 [==============================] - 0s 49ms/step - loss: 345038880.0000 - val_loss: 345038784.0000\n",
      "Epoch 27/100\n",
      "1/1 [==============================] - 0s 51ms/step - loss: 345038816.0000 - val_loss: 345038784.0000\n",
      "Epoch 28/100\n",
      "1/1 [==============================] - 0s 50ms/step - loss: 345038816.0000 - val_loss: 345038784.0000\n",
      "Epoch 29/100\n",
      "1/1 [==============================] - 0s 54ms/step - loss: 345038816.0000 - val_loss: 345038784.0000\n",
      "Epoch 30/100\n",
      "1/1 [==============================] - 0s 54ms/step - loss: 345038816.0000 - val_loss: 345038784.0000\n",
      "Epoch 31/100\n",
      "1/1 [==============================] - 0s 53ms/step - loss: 345038816.0000 - val_loss: 345038784.0000\n",
      "Epoch 32/100\n",
      "1/1 [==============================] - 0s 52ms/step - loss: 345038816.0000 - val_loss: 345038784.0000\n",
      "Epoch 33/100\n",
      "1/1 [==============================] - 0s 50ms/step - loss: 345038816.0000 - val_loss: 345038784.0000\n",
      "Epoch 34/100\n",
      "1/1 [==============================] - 0s 53ms/step - loss: 345038816.0000 - val_loss: 345038784.0000\n",
      "Epoch 35/100\n",
      "1/1 [==============================] - 0s 50ms/step - loss: 345038816.0000 - val_loss: 345038784.0000\n",
      "Epoch 36/100\n",
      "1/1 [==============================] - 0s 50ms/step - loss: 345038816.0000 - val_loss: 345038752.0000\n",
      "Epoch 37/100\n",
      "1/1 [==============================] - 0s 49ms/step - loss: 345038752.0000 - val_loss: 345038784.0000\n",
      "Epoch 38/100\n",
      "1/1 [==============================] - 0s 50ms/step - loss: 345038784.0000 - val_loss: 345038784.0000\n",
      "Epoch 39/100\n",
      "1/1 [==============================] - 0s 53ms/step - loss: 345038784.0000 - val_loss: 345038752.0000\n",
      "Epoch 40/100\n",
      "1/1 [==============================] - 0s 49ms/step - loss: 345038752.0000 - val_loss: 345038784.0000\n",
      "Epoch 41/100\n",
      "1/1 [==============================] - 0s 50ms/step - loss: 345038816.0000 - val_loss: 345038784.0000\n",
      "Epoch 42/100\n",
      "1/1 [==============================] - 0s 53ms/step - loss: 345038784.0000 - val_loss: 345038784.0000\n",
      "Epoch 43/100\n",
      "1/1 [==============================] - 0s 49ms/step - loss: 345038784.0000 - val_loss: 345038784.0000\n",
      "Epoch 44/100\n",
      "1/1 [==============================] - 0s 49ms/step - loss: 345038784.0000 - val_loss: 345038752.0000\n",
      "Epoch 45/100\n",
      "1/1 [==============================] - 0s 49ms/step - loss: 345038752.0000 - val_loss: 345038688.0000\n",
      "Epoch 46/100\n",
      "1/1 [==============================] - 0s 52ms/step - loss: 345038688.0000 - val_loss: 345038656.0000\n",
      "Epoch 47/100\n",
      "1/1 [==============================] - 0s 48ms/step - loss: 345038656.0000 - val_loss: 345038592.0000\n",
      "Epoch 48/100\n",
      "1/1 [==============================] - 0s 48ms/step - loss: 345038592.0000 - val_loss: 345038656.0000\n",
      "Epoch 49/100\n",
      "1/1 [==============================] - 0s 51ms/step - loss: 345038656.0000 - val_loss: 345038656.0000\n",
      "Epoch 50/100\n",
      "1/1 [==============================] - 0s 54ms/step - loss: 345038656.0000 - val_loss: 345038656.0000\n",
      "Epoch 51/100\n",
      "1/1 [==============================] - 0s 48ms/step - loss: 345038656.0000 - val_loss: 345038592.0000\n",
      "Epoch 52/100\n",
      "1/1 [==============================] - 0s 48ms/step - loss: 345038592.0000 - val_loss: 345038528.0000\n",
      "Epoch 53/100\n",
      "1/1 [==============================] - 0s 47ms/step - loss: 345038560.0000 - val_loss: 345038688.0000\n",
      "Epoch 54/100\n",
      "1/1 [==============================] - 0s 52ms/step - loss: 345038688.0000 - val_loss: 345038592.0000\n",
      "Epoch 55/100\n",
      "1/1 [==============================] - 0s 48ms/step - loss: 345038592.0000 - val_loss: 345038656.0000\n",
      "Epoch 56/100\n",
      "1/1 [==============================] - 0s 50ms/step - loss: 345038656.0000 - val_loss: 345038656.0000\n",
      "Epoch 57/100\n",
      "1/1 [==============================] - 0s 51ms/step - loss: 345038656.0000 - val_loss: 345038912.0000\n",
      "Epoch 58/100\n",
      "1/1 [==============================] - 0s 49ms/step - loss: 345038880.0000 - val_loss: 345038912.0000\n",
      "Epoch 59/100\n",
      "1/1 [==============================] - 0s 60ms/step - loss: 345038912.0000 - val_loss: 345038912.0000\n",
      "Epoch 60/100\n",
      "1/1 [==============================] - 0s 50ms/step - loss: 345038880.0000 - val_loss: 345038912.0000\n",
      "Epoch 61/100\n",
      "1/1 [==============================] - 0s 47ms/step - loss: 345038912.0000 - val_loss: 345038784.0000\n",
      "Epoch 62/100\n",
      "1/1 [==============================] - 0s 47ms/step - loss: 345038816.0000 - val_loss: 345038784.0000\n",
      "Epoch 63/100\n",
      "1/1 [==============================] - 0s 48ms/step - loss: 345038784.0000 - val_loss: 345039008.0000\n",
      "Epoch 64/100\n",
      "1/1 [==============================] - 0s 50ms/step - loss: 345039008.0000 - val_loss: 345038944.0000\n",
      "Epoch 65/100\n",
      "1/1 [==============================] - 0s 47ms/step - loss: 345038944.0000 - val_loss: 345038944.0000\n",
      "Epoch 66/100\n",
      "1/1 [==============================] - 0s 50ms/step - loss: 345038944.0000 - val_loss: 345038944.0000\n",
      "Epoch 67/100\n",
      "1/1 [==============================] - 0s 47ms/step - loss: 345038944.0000 - val_loss: 345039008.0000\n",
      "Epoch 68/100\n",
      "1/1 [==============================] - 0s 50ms/step - loss: 345039008.0000 - val_loss: 345039040.0000\n",
      "Epoch 69/100\n",
      "1/1 [==============================] - 0s 51ms/step - loss: 345039040.0000 - val_loss: 345039104.0000\n",
      "Epoch 70/100\n",
      "1/1 [==============================] - 0s 49ms/step - loss: 345039104.0000 - val_loss: 345039168.0000\n",
      "Epoch 71/100\n",
      "1/1 [==============================] - 0s 50ms/step - loss: 345039136.0000 - val_loss: 345039168.0000\n",
      "Epoch 72/100\n",
      "1/1 [==============================] - 0s 50ms/step - loss: 345039136.0000 - val_loss: 345039168.0000\n",
      "Epoch 73/100\n",
      "1/1 [==============================] - 0s 54ms/step - loss: 345039136.0000 - val_loss: 345039104.0000\n",
      "Epoch 74/100\n",
      "1/1 [==============================] - 0s 57ms/step - loss: 345039104.0000 - val_loss: 345039008.0000\n",
      "Epoch 75/100\n",
      "1/1 [==============================] - 0s 55ms/step - loss: 345039008.0000 - val_loss: 345039040.0000\n",
      "Epoch 76/100\n",
      "1/1 [==============================] - 0s 52ms/step - loss: 345039040.0000 - val_loss: 345039008.0000\n",
      "Epoch 77/100\n",
      "1/1 [==============================] - 0s 52ms/step - loss: 345039008.0000 - val_loss: 345039008.0000\n",
      "Epoch 78/100\n",
      "1/1 [==============================] - 0s 51ms/step - loss: 345039008.0000 - val_loss: 345039104.0000\n",
      "Epoch 79/100\n",
      "1/1 [==============================] - 0s 47ms/step - loss: 345039104.0000 - val_loss: 345039104.0000\n",
      "Epoch 80/100\n",
      "1/1 [==============================] - 0s 48ms/step - loss: 345039104.0000 - val_loss: 345039104.0000\n",
      "Epoch 81/100\n",
      "1/1 [==============================] - 0s 57ms/step - loss: 345039104.0000 - val_loss: 345039104.0000\n",
      "Epoch 82/100\n",
      "1/1 [==============================] - 0s 51ms/step - loss: 345039104.0000 - val_loss: 345039104.0000\n",
      "Epoch 83/100\n",
      "1/1 [==============================] - 0s 50ms/step - loss: 345039104.0000 - val_loss: 345039104.0000\n",
      "Epoch 84/100\n",
      "1/1 [==============================] - 0s 62ms/step - loss: 345039104.0000 - val_loss: 345039008.0000\n",
      "Epoch 85/100\n",
      "1/1 [==============================] - 0s 62ms/step - loss: 345039008.0000 - val_loss: 345039008.0000\n",
      "Epoch 86/100\n",
      "1/1 [==============================] - 0s 50ms/step - loss: 345039008.0000 - val_loss: 345038944.0000\n",
      "Epoch 87/100\n",
      "1/1 [==============================] - 0s 49ms/step - loss: 345038944.0000 - val_loss: 345039008.0000\n",
      "Epoch 88/100\n",
      "1/1 [==============================] - 0s 52ms/step - loss: 345039008.0000 - val_loss: 345038944.0000\n",
      "Epoch 89/100\n",
      "1/1 [==============================] - 0s 55ms/step - loss: 345038944.0000 - val_loss: 345038912.0000\n",
      "Epoch 90/100\n",
      "1/1 [==============================] - 0s 49ms/step - loss: 345038912.0000 - val_loss: 345038912.0000\n",
      "Epoch 91/100\n",
      "1/1 [==============================] - 0s 57ms/step - loss: 345038912.0000 - val_loss: 345038912.0000\n",
      "Epoch 92/100\n",
      "1/1 [==============================] - 0s 50ms/step - loss: 345038912.0000 - val_loss: 345038912.0000\n",
      "Epoch 93/100\n",
      "1/1 [==============================] - 0s 48ms/step - loss: 345038880.0000 - val_loss: 345038912.0000\n",
      "Epoch 94/100\n",
      "1/1 [==============================] - 0s 59ms/step - loss: 345038880.0000 - val_loss: 345038912.0000\n",
      "Epoch 95/100\n",
      "1/1 [==============================] - 0s 53ms/step - loss: 345038880.0000 - val_loss: 345038784.0000\n",
      "Epoch 96/100\n",
      "1/1 [==============================] - 0s 55ms/step - loss: 345038816.0000 - val_loss: 345038784.0000\n",
      "Epoch 97/100\n",
      "1/1 [==============================] - 0s 54ms/step - loss: 345038816.0000 - val_loss: 345038784.0000\n",
      "Epoch 98/100\n",
      "1/1 [==============================] - 0s 56ms/step - loss: 345038816.0000 - val_loss: 345038784.0000\n",
      "Epoch 99/100\n",
      "1/1 [==============================] - 0s 53ms/step - loss: 345038816.0000 - val_loss: 345038752.0000\n",
      "Epoch 100/100\n",
      "1/1 [==============================] - 0s 51ms/step - loss: 345038752.0000 - val_loss: 345038784.0000\n"
     ]
    }
   ],
   "source": [
    "epochs = 100\n",
    "batch_size = 1500\n",
    "\n",
    "history = autoencoder.fit(time_ytocean_train, time_ytocean_train, batch_size=batch_size, epochs=epochs, verbose=1, validation_data=(time_ytocean_test, time_ytocean_test))"
   ]
  },
  {
   "cell_type": "code",
   "execution_count": 22,
   "metadata": {},
   "outputs": [
    {
     "output_type": "stream",
     "name": "stdout",
     "text": [
      "dict_keys(['loss', 'val_loss'])\n"
     ]
    },
    {
     "output_type": "display_data",
     "data": {
      "text/plain": "<Figure size 432x288 with 1 Axes>",
      "image/svg+xml": "<?xml version=\"1.0\" encoding=\"utf-8\" standalone=\"no\"?>\r\n<!DOCTYPE svg PUBLIC \"-//W3C//DTD SVG 1.1//EN\"\r\n  \"http://www.w3.org/Graphics/SVG/1.1/DTD/svg11.dtd\">\r\n<svg height=\"277.314375pt\" version=\"1.1\" viewBox=\"0 0 395.328125 277.314375\" width=\"395.328125pt\" xmlns=\"http://www.w3.org/2000/svg\" xmlns:xlink=\"http://www.w3.org/1999/xlink\">\r\n <metadata>\r\n  <rdf:RDF xmlns:cc=\"http://creativecommons.org/ns#\" xmlns:dc=\"http://purl.org/dc/elements/1.1/\" xmlns:rdf=\"http://www.w3.org/1999/02/22-rdf-syntax-ns#\">\r\n   <cc:Work>\r\n    <dc:type rdf:resource=\"http://purl.org/dc/dcmitype/StillImage\"/>\r\n    <dc:date>2021-04-18T23:26:22.522130</dc:date>\r\n    <dc:format>image/svg+xml</dc:format>\r\n    <dc:creator>\r\n     <cc:Agent>\r\n      <dc:title>Matplotlib v3.4.1, https://matplotlib.org/</dc:title>\r\n     </cc:Agent>\r\n    </dc:creator>\r\n   </cc:Work>\r\n  </rdf:RDF>\r\n </metadata>\r\n <defs>\r\n  <style type=\"text/css\">*{stroke-linecap:butt;stroke-linejoin:round;}</style>\r\n </defs>\r\n <g id=\"figure_1\">\r\n  <g id=\"patch_1\">\r\n   <path d=\"M 0 277.314375 \r\nL 395.328125 277.314375 \r\nL 395.328125 0 \r\nL 0 0 \r\nz\r\n\" style=\"fill:none;\"/>\r\n  </g>\r\n  <g id=\"axes_1\">\r\n   <g id=\"patch_2\">\r\n    <path d=\"M 53.328125 239.758125 \r\nL 388.128125 239.758125 \r\nL 388.128125 22.318125 \r\nL 53.328125 22.318125 \r\nz\r\n\" style=\"fill:#ffffff;\"/>\r\n   </g>\r\n   <g id=\"matplotlib.axis_1\">\r\n    <g id=\"xtick_1\">\r\n     <g id=\"line2d_1\">\r\n      <defs>\r\n       <path d=\"M 0 0 \r\nL 0 3.5 \r\n\" id=\"m62bfb9a1f9\" style=\"stroke:#000000;stroke-width:0.8;\"/>\r\n      </defs>\r\n      <g>\r\n       <use style=\"stroke:#000000;stroke-width:0.8;\" x=\"68.546307\" xlink:href=\"#m62bfb9a1f9\" y=\"239.758125\"/>\r\n      </g>\r\n     </g>\r\n     <g id=\"text_1\">\r\n      <!-- 0 -->\r\n      <g transform=\"translate(65.365057 254.356562)scale(0.1 -0.1)\">\r\n       <defs>\r\n        <path d=\"M 2034 4250 \r\nQ 1547 4250 1301 3770 \r\nQ 1056 3291 1056 2328 \r\nQ 1056 1369 1301 889 \r\nQ 1547 409 2034 409 \r\nQ 2525 409 2770 889 \r\nQ 3016 1369 3016 2328 \r\nQ 3016 3291 2770 3770 \r\nQ 2525 4250 2034 4250 \r\nz\r\nM 2034 4750 \r\nQ 2819 4750 3233 4129 \r\nQ 3647 3509 3647 2328 \r\nQ 3647 1150 3233 529 \r\nQ 2819 -91 2034 -91 \r\nQ 1250 -91 836 529 \r\nQ 422 1150 422 2328 \r\nQ 422 3509 836 4129 \r\nQ 1250 4750 2034 4750 \r\nz\r\n\" id=\"DejaVuSans-30\" transform=\"scale(0.015625)\"/>\r\n       </defs>\r\n       <use xlink:href=\"#DejaVuSans-30\"/>\r\n      </g>\r\n     </g>\r\n    </g>\r\n    <g id=\"xtick_2\">\r\n     <g id=\"line2d_2\">\r\n      <g>\r\n       <use style=\"stroke:#000000;stroke-width:0.8;\" x=\"130.03391\" xlink:href=\"#m62bfb9a1f9\" y=\"239.758125\"/>\r\n      </g>\r\n     </g>\r\n     <g id=\"text_2\">\r\n      <!-- 20 -->\r\n      <g transform=\"translate(123.67141 254.356562)scale(0.1 -0.1)\">\r\n       <defs>\r\n        <path d=\"M 1228 531 \r\nL 3431 531 \r\nL 3431 0 \r\nL 469 0 \r\nL 469 531 \r\nQ 828 903 1448 1529 \r\nQ 2069 2156 2228 2338 \r\nQ 2531 2678 2651 2914 \r\nQ 2772 3150 2772 3378 \r\nQ 2772 3750 2511 3984 \r\nQ 2250 4219 1831 4219 \r\nQ 1534 4219 1204 4116 \r\nQ 875 4013 500 3803 \r\nL 500 4441 \r\nQ 881 4594 1212 4672 \r\nQ 1544 4750 1819 4750 \r\nQ 2544 4750 2975 4387 \r\nQ 3406 4025 3406 3419 \r\nQ 3406 3131 3298 2873 \r\nQ 3191 2616 2906 2266 \r\nQ 2828 2175 2409 1742 \r\nQ 1991 1309 1228 531 \r\nz\r\n\" id=\"DejaVuSans-32\" transform=\"scale(0.015625)\"/>\r\n       </defs>\r\n       <use xlink:href=\"#DejaVuSans-32\"/>\r\n       <use x=\"63.623047\" xlink:href=\"#DejaVuSans-30\"/>\r\n      </g>\r\n     </g>\r\n    </g>\r\n    <g id=\"xtick_3\">\r\n     <g id=\"line2d_3\">\r\n      <g>\r\n       <use style=\"stroke:#000000;stroke-width:0.8;\" x=\"191.521513\" xlink:href=\"#m62bfb9a1f9\" y=\"239.758125\"/>\r\n      </g>\r\n     </g>\r\n     <g id=\"text_3\">\r\n      <!-- 40 -->\r\n      <g transform=\"translate(185.159013 254.356562)scale(0.1 -0.1)\">\r\n       <defs>\r\n        <path d=\"M 2419 4116 \r\nL 825 1625 \r\nL 2419 1625 \r\nL 2419 4116 \r\nz\r\nM 2253 4666 \r\nL 3047 4666 \r\nL 3047 1625 \r\nL 3713 1625 \r\nL 3713 1100 \r\nL 3047 1100 \r\nL 3047 0 \r\nL 2419 0 \r\nL 2419 1100 \r\nL 313 1100 \r\nL 313 1709 \r\nL 2253 4666 \r\nz\r\n\" id=\"DejaVuSans-34\" transform=\"scale(0.015625)\"/>\r\n       </defs>\r\n       <use xlink:href=\"#DejaVuSans-34\"/>\r\n       <use x=\"63.623047\" xlink:href=\"#DejaVuSans-30\"/>\r\n      </g>\r\n     </g>\r\n    </g>\r\n    <g id=\"xtick_4\">\r\n     <g id=\"line2d_4\">\r\n      <g>\r\n       <use style=\"stroke:#000000;stroke-width:0.8;\" x=\"253.009117\" xlink:href=\"#m62bfb9a1f9\" y=\"239.758125\"/>\r\n      </g>\r\n     </g>\r\n     <g id=\"text_4\">\r\n      <!-- 60 -->\r\n      <g transform=\"translate(246.646617 254.356562)scale(0.1 -0.1)\">\r\n       <defs>\r\n        <path d=\"M 2113 2584 \r\nQ 1688 2584 1439 2293 \r\nQ 1191 2003 1191 1497 \r\nQ 1191 994 1439 701 \r\nQ 1688 409 2113 409 \r\nQ 2538 409 2786 701 \r\nQ 3034 994 3034 1497 \r\nQ 3034 2003 2786 2293 \r\nQ 2538 2584 2113 2584 \r\nz\r\nM 3366 4563 \r\nL 3366 3988 \r\nQ 3128 4100 2886 4159 \r\nQ 2644 4219 2406 4219 \r\nQ 1781 4219 1451 3797 \r\nQ 1122 3375 1075 2522 \r\nQ 1259 2794 1537 2939 \r\nQ 1816 3084 2150 3084 \r\nQ 2853 3084 3261 2657 \r\nQ 3669 2231 3669 1497 \r\nQ 3669 778 3244 343 \r\nQ 2819 -91 2113 -91 \r\nQ 1303 -91 875 529 \r\nQ 447 1150 447 2328 \r\nQ 447 3434 972 4092 \r\nQ 1497 4750 2381 4750 \r\nQ 2619 4750 2861 4703 \r\nQ 3103 4656 3366 4563 \r\nz\r\n\" id=\"DejaVuSans-36\" transform=\"scale(0.015625)\"/>\r\n       </defs>\r\n       <use xlink:href=\"#DejaVuSans-36\"/>\r\n       <use x=\"63.623047\" xlink:href=\"#DejaVuSans-30\"/>\r\n      </g>\r\n     </g>\r\n    </g>\r\n    <g id=\"xtick_5\">\r\n     <g id=\"line2d_5\">\r\n      <g>\r\n       <use style=\"stroke:#000000;stroke-width:0.8;\" x=\"314.49672\" xlink:href=\"#m62bfb9a1f9\" y=\"239.758125\"/>\r\n      </g>\r\n     </g>\r\n     <g id=\"text_5\">\r\n      <!-- 80 -->\r\n      <g transform=\"translate(308.13422 254.356562)scale(0.1 -0.1)\">\r\n       <defs>\r\n        <path d=\"M 2034 2216 \r\nQ 1584 2216 1326 1975 \r\nQ 1069 1734 1069 1313 \r\nQ 1069 891 1326 650 \r\nQ 1584 409 2034 409 \r\nQ 2484 409 2743 651 \r\nQ 3003 894 3003 1313 \r\nQ 3003 1734 2745 1975 \r\nQ 2488 2216 2034 2216 \r\nz\r\nM 1403 2484 \r\nQ 997 2584 770 2862 \r\nQ 544 3141 544 3541 \r\nQ 544 4100 942 4425 \r\nQ 1341 4750 2034 4750 \r\nQ 2731 4750 3128 4425 \r\nQ 3525 4100 3525 3541 \r\nQ 3525 3141 3298 2862 \r\nQ 3072 2584 2669 2484 \r\nQ 3125 2378 3379 2068 \r\nQ 3634 1759 3634 1313 \r\nQ 3634 634 3220 271 \r\nQ 2806 -91 2034 -91 \r\nQ 1263 -91 848 271 \r\nQ 434 634 434 1313 \r\nQ 434 1759 690 2068 \r\nQ 947 2378 1403 2484 \r\nz\r\nM 1172 3481 \r\nQ 1172 3119 1398 2916 \r\nQ 1625 2713 2034 2713 \r\nQ 2441 2713 2670 2916 \r\nQ 2900 3119 2900 3481 \r\nQ 2900 3844 2670 4047 \r\nQ 2441 4250 2034 4250 \r\nQ 1625 4250 1398 4047 \r\nQ 1172 3844 1172 3481 \r\nz\r\n\" id=\"DejaVuSans-38\" transform=\"scale(0.015625)\"/>\r\n       </defs>\r\n       <use xlink:href=\"#DejaVuSans-38\"/>\r\n       <use x=\"63.623047\" xlink:href=\"#DejaVuSans-30\"/>\r\n      </g>\r\n     </g>\r\n    </g>\r\n    <g id=\"xtick_6\">\r\n     <g id=\"line2d_6\">\r\n      <g>\r\n       <use style=\"stroke:#000000;stroke-width:0.8;\" x=\"375.984323\" xlink:href=\"#m62bfb9a1f9\" y=\"239.758125\"/>\r\n      </g>\r\n     </g>\r\n     <g id=\"text_6\">\r\n      <!-- 100 -->\r\n      <g transform=\"translate(366.440573 254.356562)scale(0.1 -0.1)\">\r\n       <defs>\r\n        <path d=\"M 794 531 \r\nL 1825 531 \r\nL 1825 4091 \r\nL 703 3866 \r\nL 703 4441 \r\nL 1819 4666 \r\nL 2450 4666 \r\nL 2450 531 \r\nL 3481 531 \r\nL 3481 0 \r\nL 794 0 \r\nL 794 531 \r\nz\r\n\" id=\"DejaVuSans-31\" transform=\"scale(0.015625)\"/>\r\n       </defs>\r\n       <use xlink:href=\"#DejaVuSans-31\"/>\r\n       <use x=\"63.623047\" xlink:href=\"#DejaVuSans-30\"/>\r\n       <use x=\"127.246094\" xlink:href=\"#DejaVuSans-30\"/>\r\n      </g>\r\n     </g>\r\n    </g>\r\n    <g id=\"text_7\">\r\n     <!-- epoch -->\r\n     <g transform=\"translate(205.5 268.034687)scale(0.1 -0.1)\">\r\n      <defs>\r\n       <path d=\"M 3597 1894 \r\nL 3597 1613 \r\nL 953 1613 \r\nQ 991 1019 1311 708 \r\nQ 1631 397 2203 397 \r\nQ 2534 397 2845 478 \r\nQ 3156 559 3463 722 \r\nL 3463 178 \r\nQ 3153 47 2828 -22 \r\nQ 2503 -91 2169 -91 \r\nQ 1331 -91 842 396 \r\nQ 353 884 353 1716 \r\nQ 353 2575 817 3079 \r\nQ 1281 3584 2069 3584 \r\nQ 2775 3584 3186 3129 \r\nQ 3597 2675 3597 1894 \r\nz\r\nM 3022 2063 \r\nQ 3016 2534 2758 2815 \r\nQ 2500 3097 2075 3097 \r\nQ 1594 3097 1305 2825 \r\nQ 1016 2553 972 2059 \r\nL 3022 2063 \r\nz\r\n\" id=\"DejaVuSans-65\" transform=\"scale(0.015625)\"/>\r\n       <path d=\"M 1159 525 \r\nL 1159 -1331 \r\nL 581 -1331 \r\nL 581 3500 \r\nL 1159 3500 \r\nL 1159 2969 \r\nQ 1341 3281 1617 3432 \r\nQ 1894 3584 2278 3584 \r\nQ 2916 3584 3314 3078 \r\nQ 3713 2572 3713 1747 \r\nQ 3713 922 3314 415 \r\nQ 2916 -91 2278 -91 \r\nQ 1894 -91 1617 61 \r\nQ 1341 213 1159 525 \r\nz\r\nM 3116 1747 \r\nQ 3116 2381 2855 2742 \r\nQ 2594 3103 2138 3103 \r\nQ 1681 3103 1420 2742 \r\nQ 1159 2381 1159 1747 \r\nQ 1159 1113 1420 752 \r\nQ 1681 391 2138 391 \r\nQ 2594 391 2855 752 \r\nQ 3116 1113 3116 1747 \r\nz\r\n\" id=\"DejaVuSans-70\" transform=\"scale(0.015625)\"/>\r\n       <path d=\"M 1959 3097 \r\nQ 1497 3097 1228 2736 \r\nQ 959 2375 959 1747 \r\nQ 959 1119 1226 758 \r\nQ 1494 397 1959 397 \r\nQ 2419 397 2687 759 \r\nQ 2956 1122 2956 1747 \r\nQ 2956 2369 2687 2733 \r\nQ 2419 3097 1959 3097 \r\nz\r\nM 1959 3584 \r\nQ 2709 3584 3137 3096 \r\nQ 3566 2609 3566 1747 \r\nQ 3566 888 3137 398 \r\nQ 2709 -91 1959 -91 \r\nQ 1206 -91 779 398 \r\nQ 353 888 353 1747 \r\nQ 353 2609 779 3096 \r\nQ 1206 3584 1959 3584 \r\nz\r\n\" id=\"DejaVuSans-6f\" transform=\"scale(0.015625)\"/>\r\n       <path d=\"M 3122 3366 \r\nL 3122 2828 \r\nQ 2878 2963 2633 3030 \r\nQ 2388 3097 2138 3097 \r\nQ 1578 3097 1268 2742 \r\nQ 959 2388 959 1747 \r\nQ 959 1106 1268 751 \r\nQ 1578 397 2138 397 \r\nQ 2388 397 2633 464 \r\nQ 2878 531 3122 666 \r\nL 3122 134 \r\nQ 2881 22 2623 -34 \r\nQ 2366 -91 2075 -91 \r\nQ 1284 -91 818 406 \r\nQ 353 903 353 1747 \r\nQ 353 2603 823 3093 \r\nQ 1294 3584 2113 3584 \r\nQ 2378 3584 2631 3529 \r\nQ 2884 3475 3122 3366 \r\nz\r\n\" id=\"DejaVuSans-63\" transform=\"scale(0.015625)\"/>\r\n       <path d=\"M 3513 2113 \r\nL 3513 0 \r\nL 2938 0 \r\nL 2938 2094 \r\nQ 2938 2591 2744 2837 \r\nQ 2550 3084 2163 3084 \r\nQ 1697 3084 1428 2787 \r\nQ 1159 2491 1159 1978 \r\nL 1159 0 \r\nL 581 0 \r\nL 581 4863 \r\nL 1159 4863 \r\nL 1159 2956 \r\nQ 1366 3272 1645 3428 \r\nQ 1925 3584 2291 3584 \r\nQ 2894 3584 3203 3211 \r\nQ 3513 2838 3513 2113 \r\nz\r\n\" id=\"DejaVuSans-68\" transform=\"scale(0.015625)\"/>\r\n      </defs>\r\n      <use xlink:href=\"#DejaVuSans-65\"/>\r\n      <use x=\"61.523438\" xlink:href=\"#DejaVuSans-70\"/>\r\n      <use x=\"125\" xlink:href=\"#DejaVuSans-6f\"/>\r\n      <use x=\"186.181641\" xlink:href=\"#DejaVuSans-63\"/>\r\n      <use x=\"241.162109\" xlink:href=\"#DejaVuSans-68\"/>\r\n     </g>\r\n    </g>\r\n   </g>\r\n   <g id=\"matplotlib.axis_2\">\r\n    <g id=\"ytick_1\">\r\n     <g id=\"line2d_7\">\r\n      <defs>\r\n       <path d=\"M 0 0 \r\nL -3.5 0 \r\n\" id=\"mb6b9a50b93\" style=\"stroke:#000000;stroke-width:0.8;\"/>\r\n      </defs>\r\n      <g>\r\n       <use style=\"stroke:#000000;stroke-width:0.8;\" x=\"53.328125\" xlink:href=\"#mb6b9a50b93\" y=\"215.049034\"/>\r\n      </g>\r\n     </g>\r\n     <g id=\"text_8\">\r\n      <!-- 8600 -->\r\n      <g transform=\"translate(20.878125 218.848253)scale(0.1 -0.1)\">\r\n       <use xlink:href=\"#DejaVuSans-38\"/>\r\n       <use x=\"63.623047\" xlink:href=\"#DejaVuSans-36\"/>\r\n       <use x=\"127.246094\" xlink:href=\"#DejaVuSans-30\"/>\r\n       <use x=\"190.869141\" xlink:href=\"#DejaVuSans-30\"/>\r\n      </g>\r\n     </g>\r\n    </g>\r\n    <g id=\"ytick_2\">\r\n     <g id=\"line2d_8\">\r\n      <g>\r\n       <use style=\"stroke:#000000;stroke-width:0.8;\" x=\"53.328125\" xlink:href=\"#mb6b9a50b93\" y=\"173.867216\"/>\r\n      </g>\r\n     </g>\r\n     <g id=\"text_9\">\r\n      <!-- 8800 -->\r\n      <g transform=\"translate(20.878125 177.666435)scale(0.1 -0.1)\">\r\n       <use xlink:href=\"#DejaVuSans-38\"/>\r\n       <use x=\"63.623047\" xlink:href=\"#DejaVuSans-38\"/>\r\n       <use x=\"127.246094\" xlink:href=\"#DejaVuSans-30\"/>\r\n       <use x=\"190.869141\" xlink:href=\"#DejaVuSans-30\"/>\r\n      </g>\r\n     </g>\r\n    </g>\r\n    <g id=\"ytick_3\">\r\n     <g id=\"line2d_9\">\r\n      <g>\r\n       <use style=\"stroke:#000000;stroke-width:0.8;\" x=\"53.328125\" xlink:href=\"#mb6b9a50b93\" y=\"132.685398\"/>\r\n      </g>\r\n     </g>\r\n     <g id=\"text_10\">\r\n      <!-- 9000 -->\r\n      <g transform=\"translate(20.878125 136.484616)scale(0.1 -0.1)\">\r\n       <defs>\r\n        <path d=\"M 703 97 \r\nL 703 672 \r\nQ 941 559 1184 500 \r\nQ 1428 441 1663 441 \r\nQ 2288 441 2617 861 \r\nQ 2947 1281 2994 2138 \r\nQ 2813 1869 2534 1725 \r\nQ 2256 1581 1919 1581 \r\nQ 1219 1581 811 2004 \r\nQ 403 2428 403 3163 \r\nQ 403 3881 828 4315 \r\nQ 1253 4750 1959 4750 \r\nQ 2769 4750 3195 4129 \r\nQ 3622 3509 3622 2328 \r\nQ 3622 1225 3098 567 \r\nQ 2575 -91 1691 -91 \r\nQ 1453 -91 1209 -44 \r\nQ 966 3 703 97 \r\nz\r\nM 1959 2075 \r\nQ 2384 2075 2632 2365 \r\nQ 2881 2656 2881 3163 \r\nQ 2881 3666 2632 3958 \r\nQ 2384 4250 1959 4250 \r\nQ 1534 4250 1286 3958 \r\nQ 1038 3666 1038 3163 \r\nQ 1038 2656 1286 2365 \r\nQ 1534 2075 1959 2075 \r\nz\r\n\" id=\"DejaVuSans-39\" transform=\"scale(0.015625)\"/>\r\n       </defs>\r\n       <use xlink:href=\"#DejaVuSans-39\"/>\r\n       <use x=\"63.623047\" xlink:href=\"#DejaVuSans-30\"/>\r\n       <use x=\"127.246094\" xlink:href=\"#DejaVuSans-30\"/>\r\n       <use x=\"190.869141\" xlink:href=\"#DejaVuSans-30\"/>\r\n      </g>\r\n     </g>\r\n    </g>\r\n    <g id=\"ytick_4\">\r\n     <g id=\"line2d_10\">\r\n      <g>\r\n       <use style=\"stroke:#000000;stroke-width:0.8;\" x=\"53.328125\" xlink:href=\"#mb6b9a50b93\" y=\"91.50358\"/>\r\n      </g>\r\n     </g>\r\n     <g id=\"text_11\">\r\n      <!-- 9200 -->\r\n      <g transform=\"translate(20.878125 95.302798)scale(0.1 -0.1)\">\r\n       <use xlink:href=\"#DejaVuSans-39\"/>\r\n       <use x=\"63.623047\" xlink:href=\"#DejaVuSans-32\"/>\r\n       <use x=\"127.246094\" xlink:href=\"#DejaVuSans-30\"/>\r\n       <use x=\"190.869141\" xlink:href=\"#DejaVuSans-30\"/>\r\n      </g>\r\n     </g>\r\n    </g>\r\n    <g id=\"ytick_5\">\r\n     <g id=\"line2d_11\">\r\n      <g>\r\n       <use style=\"stroke:#000000;stroke-width:0.8;\" x=\"53.328125\" xlink:href=\"#mb6b9a50b93\" y=\"50.321761\"/>\r\n      </g>\r\n     </g>\r\n     <g id=\"text_12\">\r\n      <!-- 9400 -->\r\n      <g transform=\"translate(20.878125 54.12098)scale(0.1 -0.1)\">\r\n       <use xlink:href=\"#DejaVuSans-39\"/>\r\n       <use x=\"63.623047\" xlink:href=\"#DejaVuSans-34\"/>\r\n       <use x=\"127.246094\" xlink:href=\"#DejaVuSans-30\"/>\r\n       <use x=\"190.869141\" xlink:href=\"#DejaVuSans-30\"/>\r\n      </g>\r\n     </g>\r\n    </g>\r\n    <g id=\"text_13\">\r\n     <!-- loss -->\r\n     <g transform=\"translate(14.798438 140.695937)rotate(-90)scale(0.1 -0.1)\">\r\n      <defs>\r\n       <path d=\"M 603 4863 \r\nL 1178 4863 \r\nL 1178 0 \r\nL 603 0 \r\nL 603 4863 \r\nz\r\n\" id=\"DejaVuSans-6c\" transform=\"scale(0.015625)\"/>\r\n       <path d=\"M 2834 3397 \r\nL 2834 2853 \r\nQ 2591 2978 2328 3040 \r\nQ 2066 3103 1784 3103 \r\nQ 1356 3103 1142 2972 \r\nQ 928 2841 928 2578 \r\nQ 928 2378 1081 2264 \r\nQ 1234 2150 1697 2047 \r\nL 1894 2003 \r\nQ 2506 1872 2764 1633 \r\nQ 3022 1394 3022 966 \r\nQ 3022 478 2636 193 \r\nQ 2250 -91 1575 -91 \r\nQ 1294 -91 989 -36 \r\nQ 684 19 347 128 \r\nL 347 722 \r\nQ 666 556 975 473 \r\nQ 1284 391 1588 391 \r\nQ 1994 391 2212 530 \r\nQ 2431 669 2431 922 \r\nQ 2431 1156 2273 1281 \r\nQ 2116 1406 1581 1522 \r\nL 1381 1569 \r\nQ 847 1681 609 1914 \r\nQ 372 2147 372 2553 \r\nQ 372 3047 722 3315 \r\nQ 1072 3584 1716 3584 \r\nQ 2034 3584 2315 3537 \r\nQ 2597 3491 2834 3397 \r\nz\r\n\" id=\"DejaVuSans-73\" transform=\"scale(0.015625)\"/>\r\n      </defs>\r\n      <use xlink:href=\"#DejaVuSans-6c\"/>\r\n      <use x=\"27.783203\" xlink:href=\"#DejaVuSans-6f\"/>\r\n      <use x=\"88.964844\" xlink:href=\"#DejaVuSans-73\"/>\r\n      <use x=\"141.064453\" xlink:href=\"#DejaVuSans-73\"/>\r\n     </g>\r\n    </g>\r\n    <g id=\"text_14\">\r\n     <!-- +3.4503000000e8 -->\r\n     <g transform=\"translate(53.328125 19.318125)scale(0.1 -0.1)\">\r\n      <defs>\r\n       <path d=\"M 2944 4013 \r\nL 2944 2272 \r\nL 4684 2272 \r\nL 4684 1741 \r\nL 2944 1741 \r\nL 2944 0 \r\nL 2419 0 \r\nL 2419 1741 \r\nL 678 1741 \r\nL 678 2272 \r\nL 2419 2272 \r\nL 2419 4013 \r\nL 2944 4013 \r\nz\r\n\" id=\"DejaVuSans-2b\" transform=\"scale(0.015625)\"/>\r\n       <path d=\"M 2597 2516 \r\nQ 3050 2419 3304 2112 \r\nQ 3559 1806 3559 1356 \r\nQ 3559 666 3084 287 \r\nQ 2609 -91 1734 -91 \r\nQ 1441 -91 1130 -33 \r\nQ 819 25 488 141 \r\nL 488 750 \r\nQ 750 597 1062 519 \r\nQ 1375 441 1716 441 \r\nQ 2309 441 2620 675 \r\nQ 2931 909 2931 1356 \r\nQ 2931 1769 2642 2001 \r\nQ 2353 2234 1838 2234 \r\nL 1294 2234 \r\nL 1294 2753 \r\nL 1863 2753 \r\nQ 2328 2753 2575 2939 \r\nQ 2822 3125 2822 3475 \r\nQ 2822 3834 2567 4026 \r\nQ 2313 4219 1838 4219 \r\nQ 1578 4219 1281 4162 \r\nQ 984 4106 628 3988 \r\nL 628 4550 \r\nQ 988 4650 1302 4700 \r\nQ 1616 4750 1894 4750 \r\nQ 2613 4750 3031 4423 \r\nQ 3450 4097 3450 3541 \r\nQ 3450 3153 3228 2886 \r\nQ 3006 2619 2597 2516 \r\nz\r\n\" id=\"DejaVuSans-33\" transform=\"scale(0.015625)\"/>\r\n       <path d=\"M 684 794 \r\nL 1344 794 \r\nL 1344 0 \r\nL 684 0 \r\nL 684 794 \r\nz\r\n\" id=\"DejaVuSans-2e\" transform=\"scale(0.015625)\"/>\r\n       <path d=\"M 691 4666 \r\nL 3169 4666 \r\nL 3169 4134 \r\nL 1269 4134 \r\nL 1269 2991 \r\nQ 1406 3038 1543 3061 \r\nQ 1681 3084 1819 3084 \r\nQ 2600 3084 3056 2656 \r\nQ 3513 2228 3513 1497 \r\nQ 3513 744 3044 326 \r\nQ 2575 -91 1722 -91 \r\nQ 1428 -91 1123 -41 \r\nQ 819 9 494 109 \r\nL 494 744 \r\nQ 775 591 1075 516 \r\nQ 1375 441 1709 441 \r\nQ 2250 441 2565 725 \r\nQ 2881 1009 2881 1497 \r\nQ 2881 1984 2565 2268 \r\nQ 2250 2553 1709 2553 \r\nQ 1456 2553 1204 2497 \r\nQ 953 2441 691 2322 \r\nL 691 4666 \r\nz\r\n\" id=\"DejaVuSans-35\" transform=\"scale(0.015625)\"/>\r\n      </defs>\r\n      <use xlink:href=\"#DejaVuSans-2b\"/>\r\n      <use x=\"83.789062\" xlink:href=\"#DejaVuSans-33\"/>\r\n      <use x=\"147.412109\" xlink:href=\"#DejaVuSans-2e\"/>\r\n      <use x=\"179.199219\" xlink:href=\"#DejaVuSans-34\"/>\r\n      <use x=\"242.822266\" xlink:href=\"#DejaVuSans-35\"/>\r\n      <use x=\"306.445312\" xlink:href=\"#DejaVuSans-30\"/>\r\n      <use x=\"370.068359\" xlink:href=\"#DejaVuSans-33\"/>\r\n      <use x=\"433.691406\" xlink:href=\"#DejaVuSans-30\"/>\r\n      <use x=\"497.314453\" xlink:href=\"#DejaVuSans-30\"/>\r\n      <use x=\"560.9375\" xlink:href=\"#DejaVuSans-30\"/>\r\n      <use x=\"624.560547\" xlink:href=\"#DejaVuSans-30\"/>\r\n      <use x=\"688.183594\" xlink:href=\"#DejaVuSans-30\"/>\r\n      <use x=\"751.806641\" xlink:href=\"#DejaVuSans-30\"/>\r\n      <use x=\"815.429688\" xlink:href=\"#DejaVuSans-65\"/>\r\n      <use x=\"876.953125\" xlink:href=\"#DejaVuSans-38\"/>\r\n     </g>\r\n    </g>\r\n   </g>\r\n   <g id=\"line2d_12\">\r\n    <path clip-path=\"url(#pf256adf87a)\" d=\"M 68.546307 65.147216 \r\nL 71.620687 32.201761 \r\nL 74.695067 124.449034 \r\nL 77.769447 84.914489 \r\nL 80.843827 84.914489 \r\nL 83.918208 51.969034 \r\nL 86.992588 71.736307 \r\nL 90.066968 104.681761 \r\nL 93.141348 104.681761 \r\nL 96.215728 124.449034 \r\nL 99.290108 150.805398 \r\nL 102.364489 196.929034 \r\nL 105.438869 177.161761 \r\nL 108.513249 157.394489 \r\nL 111.587629 157.394489 \r\nL 114.662009 183.750852 \r\nL 117.736389 203.518125 \r\nL 120.81077 196.929034 \r\nL 123.88515 196.929034 \r\nL 126.95953 177.161761 \r\nL 130.03391 177.161761 \r\nL 133.10829 177.161761 \r\nL 136.18267 177.161761 \r\nL 139.257051 157.394489 \r\nL 142.331431 157.394489 \r\nL 145.405811 157.394489 \r\nL 148.480191 170.57267 \r\nL 151.554571 170.57267 \r\nL 154.628951 170.57267 \r\nL 157.703332 170.57267 \r\nL 160.777712 170.57267 \r\nL 163.852092 170.57267 \r\nL 166.926472 170.57267 \r\nL 170.000852 170.57267 \r\nL 173.075232 170.57267 \r\nL 176.149613 170.57267 \r\nL 179.223993 183.750852 \r\nL 182.298373 177.161761 \r\nL 185.372753 177.161761 \r\nL 188.447133 183.750852 \r\nL 191.521513 170.57267 \r\nL 194.595894 177.161761 \r\nL 197.670274 177.161761 \r\nL 200.744654 177.161761 \r\nL 203.819034 183.750852 \r\nL 206.893414 196.929034 \r\nL 209.967794 203.518125 \r\nL 213.042175 216.696307 \r\nL 216.116555 203.518125 \r\nL 219.190935 203.518125 \r\nL 222.265315 203.518125 \r\nL 225.339695 216.696307 \r\nL 228.414075 223.285398 \r\nL 231.488456 196.929034 \r\nL 234.562836 216.696307 \r\nL 237.637216 203.518125 \r\nL 240.711596 203.518125 \r\nL 243.785976 157.394489 \r\nL 246.860356 150.805398 \r\nL 249.934737 157.394489 \r\nL 253.009117 150.805398 \r\nL 256.083497 170.57267 \r\nL 259.157877 177.161761 \r\nL 262.232257 131.038125 \r\nL 265.306637 144.216307 \r\nL 268.381018 144.216307 \r\nL 271.455398 144.216307 \r\nL 274.529778 131.038125 \r\nL 277.604158 124.449034 \r\nL 280.678538 111.270852 \r\nL 283.752918 104.681761 \r\nL 286.827299 104.681761 \r\nL 289.901679 104.681761 \r\nL 292.976059 111.270852 \r\nL 296.050439 131.038125 \r\nL 299.124819 124.449034 \r\nL 302.199199 131.038125 \r\nL 305.27358 131.038125 \r\nL 308.34796 111.270852 \r\nL 311.42234 111.270852 \r\nL 314.49672 111.270852 \r\nL 317.5711 111.270852 \r\nL 320.64548 111.270852 \r\nL 323.719861 111.270852 \r\nL 326.794241 131.038125 \r\nL 329.868621 131.038125 \r\nL 332.943001 144.216307 \r\nL 336.017381 131.038125 \r\nL 339.091761 144.216307 \r\nL 342.166142 150.805398 \r\nL 345.240522 150.805398 \r\nL 348.314902 150.805398 \r\nL 351.389282 157.394489 \r\nL 354.463662 157.394489 \r\nL 357.538042 157.394489 \r\nL 360.612423 170.57267 \r\nL 363.686803 170.57267 \r\nL 366.761183 170.57267 \r\nL 369.835563 170.57267 \r\nL 372.909943 183.750852 \r\n\" style=\"fill:none;stroke:#1f77b4;stroke-linecap:square;stroke-width:1.5;\"/>\r\n   </g>\r\n   <g id=\"line2d_13\">\r\n    <path clip-path=\"url(#pf256adf87a)\" d=\"M 68.546307 32.201761 \r\nL 71.620687 124.449034 \r\nL 74.695067 84.914489 \r\nL 77.769447 84.914489 \r\nL 80.843827 45.379943 \r\nL 83.918208 71.736307 \r\nL 86.992588 98.09267 \r\nL 90.066968 98.09267 \r\nL 93.141348 124.449034 \r\nL 96.215728 150.805398 \r\nL 99.290108 196.929034 \r\nL 102.364489 177.161761 \r\nL 105.438869 150.805398 \r\nL 108.513249 150.805398 \r\nL 111.587629 183.750852 \r\nL 114.662009 203.518125 \r\nL 117.736389 196.929034 \r\nL 120.81077 196.929034 \r\nL 123.88515 177.161761 \r\nL 126.95953 177.161761 \r\nL 130.03391 177.161761 \r\nL 133.10829 177.161761 \r\nL 136.18267 150.805398 \r\nL 139.257051 150.805398 \r\nL 142.331431 150.805398 \r\nL 145.405811 177.161761 \r\nL 148.480191 177.161761 \r\nL 151.554571 177.161761 \r\nL 154.628951 177.161761 \r\nL 157.703332 177.161761 \r\nL 160.777712 177.161761 \r\nL 163.852092 177.161761 \r\nL 166.926472 177.161761 \r\nL 170.000852 177.161761 \r\nL 173.075232 177.161761 \r\nL 176.149613 183.750852 \r\nL 179.223993 177.161761 \r\nL 182.298373 177.161761 \r\nL 185.372753 183.750852 \r\nL 188.447133 177.161761 \r\nL 191.521513 177.161761 \r\nL 194.595894 177.161761 \r\nL 197.670274 177.161761 \r\nL 200.744654 183.750852 \r\nL 203.819034 196.929034 \r\nL 206.893414 203.518125 \r\nL 209.967794 216.696307 \r\nL 213.042175 203.518125 \r\nL 216.116555 203.518125 \r\nL 219.190935 203.518125 \r\nL 222.265315 216.696307 \r\nL 225.339695 229.874489 \r\nL 228.414075 196.929034 \r\nL 231.488456 216.696307 \r\nL 234.562836 203.518125 \r\nL 237.637216 203.518125 \r\nL 240.711596 150.805398 \r\nL 243.785976 150.805398 \r\nL 246.860356 150.805398 \r\nL 249.934737 150.805398 \r\nL 253.009117 177.161761 \r\nL 256.083497 177.161761 \r\nL 259.157877 131.038125 \r\nL 262.232257 144.216307 \r\nL 265.306637 144.216307 \r\nL 268.381018 144.216307 \r\nL 271.455398 131.038125 \r\nL 274.529778 124.449034 \r\nL 277.604158 111.270852 \r\nL 280.678538 98.09267 \r\nL 283.752918 98.09267 \r\nL 286.827299 98.09267 \r\nL 289.901679 111.270852 \r\nL 292.976059 131.038125 \r\nL 296.050439 124.449034 \r\nL 299.124819 131.038125 \r\nL 302.199199 131.038125 \r\nL 305.27358 111.270852 \r\nL 308.34796 111.270852 \r\nL 311.42234 111.270852 \r\nL 314.49672 111.270852 \r\nL 317.5711 111.270852 \r\nL 320.64548 111.270852 \r\nL 323.719861 131.038125 \r\nL 326.794241 131.038125 \r\nL 329.868621 144.216307 \r\nL 332.943001 131.038125 \r\nL 336.017381 144.216307 \r\nL 339.091761 150.805398 \r\nL 342.166142 150.805398 \r\nL 345.240522 150.805398 \r\nL 348.314902 150.805398 \r\nL 351.389282 150.805398 \r\nL 354.463662 150.805398 \r\nL 357.538042 177.161761 \r\nL 360.612423 177.161761 \r\nL 363.686803 177.161761 \r\nL 366.761183 177.161761 \r\nL 369.835563 183.750852 \r\nL 372.909943 177.161761 \r\n\" style=\"fill:none;stroke:#ff7f0e;stroke-linecap:square;stroke-width:1.5;\"/>\r\n   </g>\r\n   <g id=\"patch_3\">\r\n    <path d=\"M 53.328125 239.758125 \r\nL 53.328125 22.318125 \r\n\" style=\"fill:none;stroke:#000000;stroke-linecap:square;stroke-linejoin:miter;stroke-width:0.8;\"/>\r\n   </g>\r\n   <g id=\"patch_4\">\r\n    <path d=\"M 388.128125 239.758125 \r\nL 388.128125 22.318125 \r\n\" style=\"fill:none;stroke:#000000;stroke-linecap:square;stroke-linejoin:miter;stroke-width:0.8;\"/>\r\n   </g>\r\n   <g id=\"patch_5\">\r\n    <path d=\"M 53.328125 239.758125 \r\nL 388.128125 239.758125 \r\n\" style=\"fill:none;stroke:#000000;stroke-linecap:square;stroke-linejoin:miter;stroke-width:0.8;\"/>\r\n   </g>\r\n   <g id=\"patch_6\">\r\n    <path d=\"M 53.328125 22.318125 \r\nL 388.128125 22.318125 \r\n\" style=\"fill:none;stroke:#000000;stroke-linecap:square;stroke-linejoin:miter;stroke-width:0.8;\"/>\r\n   </g>\r\n   <g id=\"text_15\">\r\n    <!-- model loss -->\r\n    <g transform=\"translate(188.548438 16.318125)scale(0.12 -0.12)\">\r\n     <defs>\r\n      <path d=\"M 3328 2828 \r\nQ 3544 3216 3844 3400 \r\nQ 4144 3584 4550 3584 \r\nQ 5097 3584 5394 3201 \r\nQ 5691 2819 5691 2113 \r\nL 5691 0 \r\nL 5113 0 \r\nL 5113 2094 \r\nQ 5113 2597 4934 2840 \r\nQ 4756 3084 4391 3084 \r\nQ 3944 3084 3684 2787 \r\nQ 3425 2491 3425 1978 \r\nL 3425 0 \r\nL 2847 0 \r\nL 2847 2094 \r\nQ 2847 2600 2669 2842 \r\nQ 2491 3084 2119 3084 \r\nQ 1678 3084 1418 2786 \r\nQ 1159 2488 1159 1978 \r\nL 1159 0 \r\nL 581 0 \r\nL 581 3500 \r\nL 1159 3500 \r\nL 1159 2956 \r\nQ 1356 3278 1631 3431 \r\nQ 1906 3584 2284 3584 \r\nQ 2666 3584 2933 3390 \r\nQ 3200 3197 3328 2828 \r\nz\r\n\" id=\"DejaVuSans-6d\" transform=\"scale(0.015625)\"/>\r\n      <path d=\"M 2906 2969 \r\nL 2906 4863 \r\nL 3481 4863 \r\nL 3481 0 \r\nL 2906 0 \r\nL 2906 525 \r\nQ 2725 213 2448 61 \r\nQ 2172 -91 1784 -91 \r\nQ 1150 -91 751 415 \r\nQ 353 922 353 1747 \r\nQ 353 2572 751 3078 \r\nQ 1150 3584 1784 3584 \r\nQ 2172 3584 2448 3432 \r\nQ 2725 3281 2906 2969 \r\nz\r\nM 947 1747 \r\nQ 947 1113 1208 752 \r\nQ 1469 391 1925 391 \r\nQ 2381 391 2643 752 \r\nQ 2906 1113 2906 1747 \r\nQ 2906 2381 2643 2742 \r\nQ 2381 3103 1925 3103 \r\nQ 1469 3103 1208 2742 \r\nQ 947 2381 947 1747 \r\nz\r\n\" id=\"DejaVuSans-64\" transform=\"scale(0.015625)\"/>\r\n      <path id=\"DejaVuSans-20\" transform=\"scale(0.015625)\"/>\r\n     </defs>\r\n     <use xlink:href=\"#DejaVuSans-6d\"/>\r\n     <use x=\"97.412109\" xlink:href=\"#DejaVuSans-6f\"/>\r\n     <use x=\"158.59375\" xlink:href=\"#DejaVuSans-64\"/>\r\n     <use x=\"222.070312\" xlink:href=\"#DejaVuSans-65\"/>\r\n     <use x=\"283.59375\" xlink:href=\"#DejaVuSans-6c\"/>\r\n     <use x=\"311.376953\" xlink:href=\"#DejaVuSans-20\"/>\r\n     <use x=\"343.164062\" xlink:href=\"#DejaVuSans-6c\"/>\r\n     <use x=\"370.947266\" xlink:href=\"#DejaVuSans-6f\"/>\r\n     <use x=\"432.128906\" xlink:href=\"#DejaVuSans-73\"/>\r\n     <use x=\"484.228516\" xlink:href=\"#DejaVuSans-73\"/>\r\n    </g>\r\n   </g>\r\n   <g id=\"legend_1\">\r\n    <g id=\"patch_7\">\r\n     <path d=\"M 299.89375 59.674375 \r\nL 381.128125 59.674375 \r\nQ 383.128125 59.674375 383.128125 57.674375 \r\nL 383.128125 29.318125 \r\nQ 383.128125 27.318125 381.128125 27.318125 \r\nL 299.89375 27.318125 \r\nQ 297.89375 27.318125 297.89375 29.318125 \r\nL 297.89375 57.674375 \r\nQ 297.89375 59.674375 299.89375 59.674375 \r\nz\r\n\" style=\"fill:#ffffff;opacity:0.8;stroke:#cccccc;stroke-linejoin:miter;\"/>\r\n    </g>\r\n    <g id=\"line2d_14\">\r\n     <path d=\"M 301.89375 35.416562 \r\nL 321.89375 35.416562 \r\n\" style=\"fill:none;stroke:#1f77b4;stroke-linecap:square;stroke-width:1.5;\"/>\r\n    </g>\r\n    <g id=\"line2d_15\"/>\r\n    <g id=\"text_16\">\r\n     <!-- train -->\r\n     <g transform=\"translate(329.89375 38.916562)scale(0.1 -0.1)\">\r\n      <defs>\r\n       <path d=\"M 1172 4494 \r\nL 1172 3500 \r\nL 2356 3500 \r\nL 2356 3053 \r\nL 1172 3053 \r\nL 1172 1153 \r\nQ 1172 725 1289 603 \r\nQ 1406 481 1766 481 \r\nL 2356 481 \r\nL 2356 0 \r\nL 1766 0 \r\nQ 1100 0 847 248 \r\nQ 594 497 594 1153 \r\nL 594 3053 \r\nL 172 3053 \r\nL 172 3500 \r\nL 594 3500 \r\nL 594 4494 \r\nL 1172 4494 \r\nz\r\n\" id=\"DejaVuSans-74\" transform=\"scale(0.015625)\"/>\r\n       <path d=\"M 2631 2963 \r\nQ 2534 3019 2420 3045 \r\nQ 2306 3072 2169 3072 \r\nQ 1681 3072 1420 2755 \r\nQ 1159 2438 1159 1844 \r\nL 1159 0 \r\nL 581 0 \r\nL 581 3500 \r\nL 1159 3500 \r\nL 1159 2956 \r\nQ 1341 3275 1631 3429 \r\nQ 1922 3584 2338 3584 \r\nQ 2397 3584 2469 3576 \r\nQ 2541 3569 2628 3553 \r\nL 2631 2963 \r\nz\r\n\" id=\"DejaVuSans-72\" transform=\"scale(0.015625)\"/>\r\n       <path d=\"M 2194 1759 \r\nQ 1497 1759 1228 1600 \r\nQ 959 1441 959 1056 \r\nQ 959 750 1161 570 \r\nQ 1363 391 1709 391 \r\nQ 2188 391 2477 730 \r\nQ 2766 1069 2766 1631 \r\nL 2766 1759 \r\nL 2194 1759 \r\nz\r\nM 3341 1997 \r\nL 3341 0 \r\nL 2766 0 \r\nL 2766 531 \r\nQ 2569 213 2275 61 \r\nQ 1981 -91 1556 -91 \r\nQ 1019 -91 701 211 \r\nQ 384 513 384 1019 \r\nQ 384 1609 779 1909 \r\nQ 1175 2209 1959 2209 \r\nL 2766 2209 \r\nL 2766 2266 \r\nQ 2766 2663 2505 2880 \r\nQ 2244 3097 1772 3097 \r\nQ 1472 3097 1187 3025 \r\nQ 903 2953 641 2809 \r\nL 641 3341 \r\nQ 956 3463 1253 3523 \r\nQ 1550 3584 1831 3584 \r\nQ 2591 3584 2966 3190 \r\nQ 3341 2797 3341 1997 \r\nz\r\n\" id=\"DejaVuSans-61\" transform=\"scale(0.015625)\"/>\r\n       <path d=\"M 603 3500 \r\nL 1178 3500 \r\nL 1178 0 \r\nL 603 0 \r\nL 603 3500 \r\nz\r\nM 603 4863 \r\nL 1178 4863 \r\nL 1178 4134 \r\nL 603 4134 \r\nL 603 4863 \r\nz\r\n\" id=\"DejaVuSans-69\" transform=\"scale(0.015625)\"/>\r\n       <path d=\"M 3513 2113 \r\nL 3513 0 \r\nL 2938 0 \r\nL 2938 2094 \r\nQ 2938 2591 2744 2837 \r\nQ 2550 3084 2163 3084 \r\nQ 1697 3084 1428 2787 \r\nQ 1159 2491 1159 1978 \r\nL 1159 0 \r\nL 581 0 \r\nL 581 3500 \r\nL 1159 3500 \r\nL 1159 2956 \r\nQ 1366 3272 1645 3428 \r\nQ 1925 3584 2291 3584 \r\nQ 2894 3584 3203 3211 \r\nQ 3513 2838 3513 2113 \r\nz\r\n\" id=\"DejaVuSans-6e\" transform=\"scale(0.015625)\"/>\r\n      </defs>\r\n      <use xlink:href=\"#DejaVuSans-74\"/>\r\n      <use x=\"39.208984\" xlink:href=\"#DejaVuSans-72\"/>\r\n      <use x=\"80.322266\" xlink:href=\"#DejaVuSans-61\"/>\r\n      <use x=\"141.601562\" xlink:href=\"#DejaVuSans-69\"/>\r\n      <use x=\"169.384766\" xlink:href=\"#DejaVuSans-6e\"/>\r\n     </g>\r\n    </g>\r\n    <g id=\"line2d_16\">\r\n     <path d=\"M 301.89375 50.094687 \r\nL 321.89375 50.094687 \r\n\" style=\"fill:none;stroke:#ff7f0e;stroke-linecap:square;stroke-width:1.5;\"/>\r\n    </g>\r\n    <g id=\"line2d_17\"/>\r\n    <g id=\"text_17\">\r\n     <!-- validation -->\r\n     <g transform=\"translate(329.89375 53.594687)scale(0.1 -0.1)\">\r\n      <defs>\r\n       <path d=\"M 191 3500 \r\nL 800 3500 \r\nL 1894 563 \r\nL 2988 3500 \r\nL 3597 3500 \r\nL 2284 0 \r\nL 1503 0 \r\nL 191 3500 \r\nz\r\n\" id=\"DejaVuSans-76\" transform=\"scale(0.015625)\"/>\r\n      </defs>\r\n      <use xlink:href=\"#DejaVuSans-76\"/>\r\n      <use x=\"59.179688\" xlink:href=\"#DejaVuSans-61\"/>\r\n      <use x=\"120.458984\" xlink:href=\"#DejaVuSans-6c\"/>\r\n      <use x=\"148.242188\" xlink:href=\"#DejaVuSans-69\"/>\r\n      <use x=\"176.025391\" xlink:href=\"#DejaVuSans-64\"/>\r\n      <use x=\"239.501953\" xlink:href=\"#DejaVuSans-61\"/>\r\n      <use x=\"300.78125\" xlink:href=\"#DejaVuSans-74\"/>\r\n      <use x=\"339.990234\" xlink:href=\"#DejaVuSans-69\"/>\r\n      <use x=\"367.773438\" xlink:href=\"#DejaVuSans-6f\"/>\r\n      <use x=\"428.955078\" xlink:href=\"#DejaVuSans-6e\"/>\r\n     </g>\r\n    </g>\r\n   </g>\r\n  </g>\r\n </g>\r\n <defs>\r\n  <clipPath id=\"pf256adf87a\">\r\n   <rect height=\"217.44\" width=\"334.8\" x=\"53.328125\" y=\"22.318125\"/>\r\n  </clipPath>\r\n </defs>\r\n</svg>\r\n",
      "image/png": "[encoded data removed]"
     },
     "metadata": {
      "needs_background": "light"
     }
    }
   ],
   "source": [
    "import numpy as np\n",
    "import matplotlib.pyplot as plt\n",
    "import tensorflow.keras\n",
    "print(history.history.keys())\n",
    "\n",
    "plt.plot(history.history['loss'])\n",
    "plt.plot(history.history['val_loss'])\n",
    "plt.title('model loss')\n",
    "plt.ylabel('loss')\n",
    "plt.xlabel('epoch')\n",
    "plt.legend(['train', 'validation'], loc='upper right')\n",
    "plt.show()"
   ]
  }
 ]
}
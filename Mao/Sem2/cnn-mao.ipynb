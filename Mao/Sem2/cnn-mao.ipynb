{
 "cells": [
  {
   "cell_type": "code",
   "execution_count": 1,
   "id": "1795d601",
   "metadata": {},
   "outputs": [],
   "source": [
    "import netCDF4 as nc4\n",
    "import keras\n",
    "import xarray,numpy as np\n",
    "from sklearn.model_selection import train_test_split\n",
    "from sklearn import preprocessing\n",
    "from keras.datasets import mnist\n",
    "from keras.models import Model\n",
    "from keras.layers import Input, add\n",
    "from keras.layers.core import  Dense, Dropout, Activation, Flatten, Reshape\n",
    "from keras import regularizers\n",
    "from keras.regularizers import l2\n",
    "from keras.layers.convolutional import Conv2D, MaxPooling2D, UpSampling2D, ZeroPadding2D\n",
    "from keras.utils import np_utils\n",
    "from tensorflow.keras import layers"
   ]
  },
  {
   "cell_type": "markdown",
   "id": "b71e6d28",
   "metadata": {},
   "source": [
    "# Read data"
   ]
  },
  {
   "cell_type": "code",
   "execution_count": 2,
   "id": "6208fbe1",
   "metadata": {},
   "outputs": [
    {
     "data": {
      "text/plain": [
       "(31, 1500, 3600)"
      ]
     },
     "execution_count": 2,
     "metadata": {},
     "output_type": "execute_result"
    }
   ],
   "source": [
    "file_path =['C:/Users/myxll/OneDrive - The University of Melbourne/capstone/data/OFAM_2017/ocean_eta_t/ocean_eta_t_2000_01.nc']\n",
    "ds = nc4.MFDataset(file_path)\n",
    "eta_t = ds.variables['eta_t'][:]\n",
    "eta_t_numpy = np.array(eta_t)\n",
    "eta_t_numpy = np.nan_to_num(eta_t_numpy)\n",
    "eta_t_numpy.shape"
   ]
  },
  {
   "cell_type": "code",
   "execution_count": 3,
   "id": "4cc7a165",
   "metadata": {},
   "outputs": [
    {
     "data": {
      "text/plain": [
       "(1500, 3600)"
      ]
     },
     "execution_count": 3,
     "metadata": {},
     "output_type": "execute_result"
    }
   ],
   "source": [
    "input_data = eta_t_numpy[0,:,:]\n",
    "input_data.shape"
   ]
  },
  {
   "cell_type": "code",
   "execution_count": 5,
   "id": "cbbbf87c",
   "metadata": {},
   "outputs": [
    {
     "data": {
      "text/plain": [
       "array([-32768., -32768., -32768., ..., -32768., -32768., -32768.],\n",
       "      dtype=float32)"
      ]
     },
     "execution_count": 5,
     "metadata": {},
     "output_type": "execute_result"
    }
   ],
   "source": [
    "input_data[0]"
   ]
  },
  {
   "cell_type": "markdown",
   "id": "aeda3780",
   "metadata": {},
   "source": [
    "# fixed missing values with 0"
   ]
  },
  {
   "cell_type": "code",
   "execution_count": 6,
   "id": "f1d6777e",
   "metadata": {},
   "outputs": [],
   "source": [
    "for i in range(0,len(input_data)):\n",
    "    arr = input_data[i]\n",
    "    arr[arr == -32768] = 0"
   ]
  },
  {
   "cell_type": "code",
   "execution_count": 7,
   "id": "e83b7a12",
   "metadata": {},
   "outputs": [
    {
     "data": {
      "text/plain": [
       "array([0., 0., 0., ..., 0., 0., 0.], dtype=float32)"
      ]
     },
     "execution_count": 7,
     "metadata": {},
     "output_type": "execute_result"
    }
   ],
   "source": [
    "input_data[0]"
   ]
  },
  {
   "cell_type": "markdown",
   "id": "c9a979be",
   "metadata": {},
   "source": [
    "# Normalize the input"
   ]
  },
  {
   "cell_type": "code",
   "execution_count": 8,
   "id": "d67afc84",
   "metadata": {},
   "outputs": [
    {
     "name": "stdout",
     "output_type": "stream",
     "text": [
      "1476.3408\n"
     ]
    },
    {
     "data": {
      "text/plain": [
       "array([[ 0.        ,  0.        ,  0.        , ...,  0.        ,\n",
       "         0.        ,  0.        ],\n",
       "       [ 0.        ,  0.        ,  0.        , ...,  0.        ,\n",
       "         0.        ,  0.        ],\n",
       "       [ 0.        ,  0.        ,  0.        , ...,  0.        ,\n",
       "         0.        ,  0.        ],\n",
       "       ...,\n",
       "       [-0.82399976, -0.82399976, -0.79348123, ..., -0.82399976,\n",
       "        -0.82399976, -0.82399976],\n",
       "       [-0.82399976, -0.79348123, -0.79348123, ..., -0.82399976,\n",
       "        -0.82399976, -0.82399976],\n",
       "       [-0.76296276, -0.76296276, -0.7324442 , ..., -0.76296276,\n",
       "        -0.76296276, -0.76296276]], dtype=float32)"
      ]
     },
     "execution_count": 8,
     "metadata": {},
     "output_type": "execute_result"
    }
   ],
   "source": [
    "def normalize_matrix(matrix):\n",
    "    norm = np.linalg.norm(matrix)\n",
    "    print(norm)\n",
    "    matrix = matrix/norm  # normalized matrix\n",
    "    return matrix\n",
    "\n",
    "normalize_matrix(input_data)\n",
    "input_data"
   ]
  },
  {
   "cell_type": "code",
   "execution_count": 9,
   "id": "d31fe930",
   "metadata": {},
   "outputs": [
    {
     "data": {
      "text/plain": [
       "array([-0.82399976, -0.82399976, -0.82399976, ..., -0.82399976,\n",
       "       -0.82399976, -0.82399976], dtype=float32)"
      ]
     },
     "execution_count": 9,
     "metadata": {},
     "output_type": "execute_result"
    }
   ],
   "source": [
    "input_data[-40]"
   ]
  },
  {
   "cell_type": "markdown",
   "id": "a2cee3e3",
   "metadata": {},
   "source": [
    "# Split array into 128*128"
   ]
  },
  {
   "cell_type": "code",
   "execution_count": 10,
   "id": "2c522bc7",
   "metadata": {},
   "outputs": [
    {
     "name": "stdout",
     "output_type": "stream",
     "text": [
      "112\n",
      "36\n"
     ]
    }
   ],
   "source": [
    "import math\n",
    "lat = 128\n",
    "long = 128\n",
    "\n",
    "pad_rows = math.ceil(3600/lat)*lat - 3600\n",
    "pad_cols = math.ceil(1500/long)*long - 1500\n",
    "print(pad_rows)\n",
    "print(pad_cols)"
   ]
  },
  {
   "cell_type": "code",
   "execution_count": 11,
   "id": "b9b839a7",
   "metadata": {},
   "outputs": [],
   "source": [
    "input_data=np.pad(input_data,((0,pad_cols),(0,pad_rows)), 'constant',constant_values=(0,0))"
   ]
  },
  {
   "cell_type": "code",
   "execution_count": 12,
   "id": "c86dbb5c",
   "metadata": {},
   "outputs": [
    {
     "data": {
      "text/plain": [
       "(1536, 3712)"
      ]
     },
     "execution_count": 12,
     "metadata": {},
     "output_type": "execute_result"
    }
   ],
   "source": [
    "input_data.shape"
   ]
  },
  {
   "cell_type": "code",
   "execution_count": 13,
   "id": "8538d5b9",
   "metadata": {},
   "outputs": [],
   "source": [
    "l = np.array_split(input_data,len(input_data)/lat,axis=0)\n",
    "input_data_split = []\n",
    "for i in range(len(l)):\n",
    "    dd = np.array_split(l[i],29,axis=1)\n",
    "    input_data_split += dd\n",
    "input_data_split = np.array(input_data_split)"
   ]
  },
  {
   "cell_type": "code",
   "execution_count": 14,
   "id": "1e09db16",
   "metadata": {},
   "outputs": [
    {
     "data": {
      "text/plain": [
       "(348, 128, 128)"
      ]
     },
     "execution_count": 14,
     "metadata": {},
     "output_type": "execute_result"
    }
   ],
   "source": [
    "input_data_split.shape"
   ]
  },
  {
   "cell_type": "markdown",
   "id": "203c60c7",
   "metadata": {},
   "source": [
    "# split train set & validation set"
   ]
  },
  {
   "cell_type": "code",
   "execution_count": 15,
   "id": "a77541d5",
   "metadata": {},
   "outputs": [
    {
     "data": {
      "text/plain": [
       "(233, 128, 128)"
      ]
     },
     "execution_count": 15,
     "metadata": {},
     "output_type": "execute_result"
    }
   ],
   "source": [
    "train_set, test_set = train_test_split(input_data_split, test_size=0.33)\n",
    "train_set.shape"
   ]
  },
  {
   "cell_type": "markdown",
   "id": "97a6fd39",
   "metadata": {},
   "source": [
    "# Autoencoder"
   ]
  },
  {
   "cell_type": "code",
   "execution_count": 21,
   "id": "47e31571",
   "metadata": {},
   "outputs": [
    {
     "name": "stdout",
     "output_type": "stream",
     "text": [
      "Model: \"model_3\"\n",
      "_________________________________________________________________\n",
      "Layer (type)                 Output Shape              Param #   \n",
      "=================================================================\n",
      "input_4 (InputLayer)         [(None, 128, 128, 1)]     0         \n",
      "_________________________________________________________________\n",
      "conv2d_9 (Conv2D)            (None, 128, 128, 16)      160       \n",
      "_________________________________________________________________\n",
      "max_pooling2d_9 (MaxPooling2 (None, 64, 64, 16)        0         \n",
      "_________________________________________________________________\n",
      "conv2d_10 (Conv2D)           (None, 62, 62, 8)         1160      \n",
      "_________________________________________________________________\n",
      "max_pooling2d_10 (MaxPooling (None, 31, 31, 8)         0         \n",
      "_________________________________________________________________\n",
      "conv2d_11 (Conv2D)           (None, 16, 16, 4)         292       \n",
      "_________________________________________________________________\n",
      "max_pooling2d_11 (MaxPooling (None, 8, 8, 4)           0         \n",
      "_________________________________________________________________\n",
      "conv2d_transpose_12 (Conv2DT (None, 8, 8, 8)           296       \n",
      "_________________________________________________________________\n",
      "up_sampling2d_9 (UpSampling2 (None, 16, 16, 8)         0         \n",
      "_________________________________________________________________\n",
      "conv2d_transpose_13 (Conv2DT (None, 16, 16, 8)         584       \n",
      "_________________________________________________________________\n",
      "up_sampling2d_10 (UpSampling (None, 32, 32, 8)         0         \n",
      "_________________________________________________________________\n",
      "conv2d_transpose_14 (Conv2DT (None, 32, 32, 16)        1168      \n",
      "_________________________________________________________________\n",
      "up_sampling2d_11 (UpSampling (None, 128, 128, 16)      0         \n",
      "_________________________________________________________________\n",
      "conv2d_transpose_15 (Conv2DT (None, 128, 128, 1)       145       \n",
      "=================================================================\n",
      "Total params: 3,805\n",
      "Trainable params: 3,805\n",
      "Non-trainable params: 0\n",
      "_________________________________________________________________\n"
     ]
    }
   ],
   "source": [
    "input_img = keras.Input(shape=(128, 128,1))\n",
    "\n",
    "x = layers.Conv2D(16, (3, 3), activation='relu', padding='same')(input_img)\n",
    "x = layers.MaxPooling2D((2, 2), padding='same')(x)\n",
    "x = layers.Conv2D(8, (3, 3), activation='relu',strides=(1,1))(x)\n",
    "x = layers.MaxPooling2D((2, 2), padding='same')(x)\n",
    "x = layers.Conv2D(4, (3, 3), activation='relu', padding='same',strides=(2,2))(x)\n",
    "encoded = layers.MaxPooling2D((2, 2), padding='same')(x)\n",
    "\n",
    "x = layers.Conv2DTranspose(8, (3, 3), activation='relu', padding='same')(encoded)\n",
    "x = layers.UpSampling2D((2, 2))(x)\n",
    "x = layers.Conv2DTranspose(8, (3, 3), activation='relu', padding='same')(x)\n",
    "x = layers.UpSampling2D((2, 2))(x)\n",
    "x = layers.Conv2DTranspose(16, (3, 3), activation='relu', padding='same')(x)\n",
    "x = layers.UpSampling2D((4, 4))(x)\n",
    "decoded = layers.Conv2DTranspose(1, (3, 3), activation='sigmoid', padding='same')(x)\n",
    "\n",
    "autoencoder = keras.Model(input_img, decoded)\n",
    "autoencoder.compile(optimizer='adam', loss='mse')\n",
    "autoencoder.summary()"
   ]
  },
  {
   "cell_type": "code",
   "execution_count": 17,
   "id": "01f45beb",
   "metadata": {},
   "outputs": [
    {
     "name": "stdout",
     "output_type": "stream",
     "text": [
      "Epoch 1/100\n",
      "8/8 [==============================] - 4s 455ms/step - loss: 0.7793 - val_loss: 0.7028\n",
      "Epoch 2/100\n",
      "8/8 [==============================] - 2s 213ms/step - loss: 0.6413 - val_loss: 0.6183\n",
      "Epoch 3/100\n",
      "8/8 [==============================] - 2s 211ms/step - loss: 0.6782 - val_loss: 0.4512\n",
      "Epoch 4/100\n",
      "8/8 [==============================] - 2s 219ms/step - loss: 0.4993 - val_loss: 0.3588\n",
      "Epoch 5/100\n",
      "8/8 [==============================] - 2s 211ms/step - loss: 0.3561 - val_loss: 0.3425\n",
      "Epoch 6/100\n",
      "8/8 [==============================] - 2s 219ms/step - loss: 0.3569 - val_loss: 0.3374\n",
      "Epoch 7/100\n",
      "8/8 [==============================] - 2s 222ms/step - loss: 0.3838 - val_loss: 0.3337\n",
      "Epoch 8/100\n",
      "8/8 [==============================] - 2s 217ms/step - loss: 0.4009 - val_loss: 0.3296\n",
      "Epoch 9/100\n",
      "8/8 [==============================] - 2s 208ms/step - loss: 0.4027 - val_loss: 0.3276\n",
      "Epoch 10/100\n",
      "8/8 [==============================] - 2s 211ms/step - loss: 0.3324 - val_loss: 0.3264\n",
      "Epoch 11/100\n",
      "8/8 [==============================] - 2s 209ms/step - loss: 0.3265 - val_loss: 0.3255\n",
      "Epoch 12/100\n",
      "8/8 [==============================] - 2s 211ms/step - loss: 0.3544 - val_loss: 0.3247\n",
      "Epoch 13/100\n",
      "8/8 [==============================] - 2s 209ms/step - loss: 0.3680 - val_loss: 0.3241\n",
      "Epoch 14/100\n",
      "8/8 [==============================] - 2s 212ms/step - loss: 0.3325 - val_loss: 0.3235\n",
      "Epoch 15/100\n",
      "8/8 [==============================] - 2s 207ms/step - loss: 0.3350 - val_loss: 0.3231\n",
      "Epoch 16/100\n",
      "8/8 [==============================] - 2s 221ms/step - loss: 0.3303 - val_loss: 0.3228\n",
      "Epoch 17/100\n",
      "8/8 [==============================] - 2s 218ms/step - loss: 0.3210 - val_loss: 0.3225\n",
      "Epoch 18/100\n",
      "8/8 [==============================] - 2s 219ms/step - loss: 0.4184 - val_loss: 0.3222\n",
      "Epoch 19/100\n",
      "8/8 [==============================] - 2s 219ms/step - loss: 0.3586 - val_loss: 0.3220\n",
      "Epoch 20/100\n",
      "8/8 [==============================] - 2s 229ms/step - loss: 0.3967 - val_loss: 0.3218\n",
      "Epoch 21/100\n",
      "8/8 [==============================] - 2s 213ms/step - loss: 0.3241 - val_loss: 0.3215\n",
      "Epoch 22/100\n",
      "8/8 [==============================] - 2s 226ms/step - loss: 0.3710 - val_loss: 0.3212\n",
      "Epoch 23/100\n",
      "8/8 [==============================] - 2s 238ms/step - loss: 0.3290 - val_loss: 0.3209\n",
      "Epoch 24/100\n",
      "8/8 [==============================] - 2s 224ms/step - loss: 0.3954 - val_loss: 0.3208\n",
      "Epoch 25/100\n",
      "8/8 [==============================] - 3s 315ms/step - loss: 0.4308 - val_loss: 0.3204\n",
      "Epoch 26/100\n",
      "8/8 [==============================] - 2s 244ms/step - loss: 0.3762 - val_loss: 0.3201\n",
      "Epoch 27/100\n",
      "8/8 [==============================] - 2s 222ms/step - loss: 0.3390 - val_loss: 0.3198\n",
      "Epoch 28/100\n",
      "8/8 [==============================] - 2s 244ms/step - loss: 0.3085 - val_loss: 0.3195\n",
      "Epoch 29/100\n",
      "8/8 [==============================] - 2s 219ms/step - loss: 0.3172 - val_loss: 0.3192\n",
      "Epoch 30/100\n",
      "8/8 [==============================] - 2s 218ms/step - loss: 0.3092 - val_loss: 0.3189\n",
      "Epoch 31/100\n",
      "8/8 [==============================] - 2s 224ms/step - loss: 0.3250 - val_loss: 0.3187\n",
      "Epoch 32/100\n",
      "8/8 [==============================] - 2s 225ms/step - loss: 0.3230 - val_loss: 0.3185\n",
      "Epoch 33/100\n",
      "8/8 [==============================] - 2s 231ms/step - loss: 0.3221 - val_loss: 0.3183\n",
      "Epoch 34/100\n",
      "8/8 [==============================] - 2s 224ms/step - loss: 0.3678 - val_loss: 0.3181\n",
      "Epoch 35/100\n",
      "8/8 [==============================] - 2s 209ms/step - loss: 0.2970 - val_loss: 0.3181\n",
      "Epoch 36/100\n",
      "8/8 [==============================] - 2s 213ms/step - loss: 0.3066 - val_loss: 0.3178\n",
      "Epoch 37/100\n",
      "8/8 [==============================] - 2s 217ms/step - loss: 0.3170 - val_loss: 0.3176\n",
      "Epoch 38/100\n",
      "8/8 [==============================] - 2s 218ms/step - loss: 0.3302 - val_loss: 0.3175\n",
      "Epoch 39/100\n",
      "8/8 [==============================] - 2s 215ms/step - loss: 0.3225 - val_loss: 0.3174\n",
      "Epoch 40/100\n",
      "8/8 [==============================] - 2s 211ms/step - loss: 0.2613 - val_loss: 0.3173\n",
      "Epoch 41/100\n",
      "8/8 [==============================] - 2s 215ms/step - loss: 0.3407 - val_loss: 0.3174\n",
      "Epoch 42/100\n",
      "8/8 [==============================] - 2s 216ms/step - loss: 0.3644 - val_loss: 0.3174\n",
      "Epoch 43/100\n",
      "8/8 [==============================] - 2s 214ms/step - loss: 0.3637 - val_loss: 0.3172\n",
      "Epoch 44/100\n",
      "8/8 [==============================] - 2s 223ms/step - loss: 0.3048 - val_loss: 0.3172\n",
      "Epoch 45/100\n",
      "8/8 [==============================] - 2s 213ms/step - loss: 0.3665 - val_loss: 0.3171\n",
      "Epoch 46/100\n",
      "8/8 [==============================] - 2s 211ms/step - loss: 0.3466 - val_loss: 0.3169\n",
      "Epoch 47/100\n",
      "8/8 [==============================] - 2s 215ms/step - loss: 0.2884 - val_loss: 0.3170\n",
      "Epoch 48/100\n",
      "8/8 [==============================] - 2s 218ms/step - loss: 0.3281 - val_loss: 0.3168\n",
      "Epoch 49/100\n",
      "8/8 [==============================] - 2s 214ms/step - loss: 0.3065 - val_loss: 0.3169\n",
      "Epoch 50/100\n",
      "8/8 [==============================] - 2s 223ms/step - loss: 0.3164 - val_loss: 0.3167\n",
      "Epoch 51/100\n",
      "8/8 [==============================] - 2s 222ms/step - loss: 0.2876 - val_loss: 0.3167\n",
      "Epoch 52/100\n",
      "8/8 [==============================] - 2s 207ms/step - loss: 0.3611 - val_loss: 0.3166\n",
      "Epoch 53/100\n",
      "8/8 [==============================] - 2s 208ms/step - loss: 0.3707 - val_loss: 0.3166\n",
      "Epoch 54/100\n",
      "8/8 [==============================] - 2s 221ms/step - loss: 0.3301 - val_loss: 0.3165\n",
      "Epoch 55/100\n",
      "8/8 [==============================] - 2s 211ms/step - loss: 0.3022 - val_loss: 0.3165\n",
      "Epoch 56/100\n",
      "8/8 [==============================] - 2s 221ms/step - loss: 0.3254 - val_loss: 0.3164\n",
      "Epoch 57/100\n",
      "8/8 [==============================] - 2s 216ms/step - loss: 0.3292 - val_loss: 0.3163\n",
      "Epoch 58/100\n",
      "8/8 [==============================] - 2s 222ms/step - loss: 0.3906 - val_loss: 0.3163\n",
      "Epoch 59/100\n",
      "8/8 [==============================] - 2s 225ms/step - loss: 0.3380 - val_loss: 0.3162\n",
      "Epoch 60/100\n",
      "8/8 [==============================] - 2s 213ms/step - loss: 0.3800 - val_loss: 0.3162\n",
      "Epoch 61/100\n",
      "8/8 [==============================] - 2s 218ms/step - loss: 0.2788 - val_loss: 0.3161\n",
      "Epoch 62/100\n",
      "8/8 [==============================] - 2s 215ms/step - loss: 0.3189 - val_loss: 0.3161\n",
      "Epoch 63/100\n",
      "8/8 [==============================] - 2s 216ms/step - loss: 0.3447 - val_loss: 0.3161\n",
      "Epoch 64/100\n",
      "8/8 [==============================] - 2s 213ms/step - loss: 0.3722 - val_loss: 0.3160\n",
      "Epoch 65/100\n",
      "8/8 [==============================] - 2s 215ms/step - loss: 0.3331 - val_loss: 0.3160\n",
      "Epoch 66/100\n",
      "8/8 [==============================] - 2s 217ms/step - loss: 0.3869 - val_loss: 0.3160\n",
      "Epoch 67/100\n",
      "8/8 [==============================] - 2s 213ms/step - loss: 0.3639 - val_loss: 0.3159\n",
      "Epoch 68/100\n",
      "8/8 [==============================] - 2s 221ms/step - loss: 0.3533 - val_loss: 0.3159\n",
      "Epoch 69/100\n",
      "8/8 [==============================] - 2s 216ms/step - loss: 0.3149 - val_loss: 0.3159\n",
      "Epoch 70/100\n",
      "8/8 [==============================] - 2s 217ms/step - loss: 0.2980 - val_loss: 0.3158\n",
      "Epoch 71/100\n",
      "8/8 [==============================] - 2s 212ms/step - loss: 0.3706 - val_loss: 0.3158\n",
      "Epoch 72/100\n",
      "8/8 [==============================] - 2s 214ms/step - loss: 0.3337 - val_loss: 0.3158\n",
      "Epoch 73/100\n",
      "8/8 [==============================] - 2s 214ms/step - loss: 0.3179 - val_loss: 0.3158\n",
      "Epoch 74/100\n",
      "8/8 [==============================] - 2s 214ms/step - loss: 0.3405 - val_loss: 0.3157\n",
      "Epoch 75/100\n",
      "8/8 [==============================] - 2s 214ms/step - loss: 0.3201 - val_loss: 0.3157\n",
      "Epoch 76/100\n",
      "8/8 [==============================] - 2s 212ms/step - loss: 0.3202 - val_loss: 0.3158\n",
      "Epoch 77/100\n",
      "8/8 [==============================] - 2s 211ms/step - loss: 0.3038 - val_loss: 0.3157\n",
      "Epoch 78/100\n",
      "8/8 [==============================] - 2s 211ms/step - loss: 0.3450 - val_loss: 0.3157\n",
      "Epoch 79/100\n",
      "8/8 [==============================] - 2s 215ms/step - loss: 0.3395 - val_loss: 0.3156\n",
      "Epoch 80/100\n",
      "8/8 [==============================] - 2s 213ms/step - loss: 0.3455 - val_loss: 0.3156\n",
      "Epoch 81/100\n",
      "8/8 [==============================] - 2s 214ms/step - loss: 0.3099 - val_loss: 0.3156\n",
      "Epoch 82/100\n",
      "8/8 [==============================] - 2s 211ms/step - loss: 0.3161 - val_loss: 0.3156\n",
      "Epoch 83/100\n"
     ]
    },
    {
     "name": "stdout",
     "output_type": "stream",
     "text": [
      "8/8 [==============================] - 2s 209ms/step - loss: 0.3342 - val_loss: 0.3156\n",
      "Epoch 84/100\n",
      "8/8 [==============================] - 2s 219ms/step - loss: 0.3408 - val_loss: 0.3156\n",
      "Epoch 85/100\n",
      "8/8 [==============================] - 2s 217ms/step - loss: 0.3165 - val_loss: 0.3156\n",
      "Epoch 86/100\n",
      "8/8 [==============================] - 2s 208ms/step - loss: 0.2730 - val_loss: 0.3155\n",
      "Epoch 87/100\n",
      "8/8 [==============================] - 2s 208ms/step - loss: 0.3259 - val_loss: 0.3155\n",
      "Epoch 88/100\n",
      "8/8 [==============================] - 2s 216ms/step - loss: 0.3447 - val_loss: 0.3155\n",
      "Epoch 89/100\n",
      "8/8 [==============================] - 2s 215ms/step - loss: 0.3182 - val_loss: 0.3155\n",
      "Epoch 90/100\n",
      "8/8 [==============================] - 2s 232ms/step - loss: 0.3664 - val_loss: 0.3155\n",
      "Epoch 91/100\n",
      "8/8 [==============================] - 2s 221ms/step - loss: 0.3461 - val_loss: 0.3155\n",
      "Epoch 92/100\n",
      "8/8 [==============================] - 2s 225ms/step - loss: 0.3189 - val_loss: 0.3155\n",
      "Epoch 93/100\n",
      "8/8 [==============================] - 2s 219ms/step - loss: 0.2797 - val_loss: 0.3155\n",
      "Epoch 94/100\n",
      "8/8 [==============================] - 2s 218ms/step - loss: 0.2859 - val_loss: 0.3155\n",
      "Epoch 95/100\n",
      "8/8 [==============================] - 2s 218ms/step - loss: 0.2979 - val_loss: 0.3155\n",
      "Epoch 96/100\n",
      "8/8 [==============================] - 2s 223ms/step - loss: 0.3834 - val_loss: 0.3155\n",
      "Epoch 97/100\n",
      "8/8 [==============================] - 2s 224ms/step - loss: 0.3368 - val_loss: 0.3154\n",
      "Epoch 98/100\n",
      "8/8 [==============================] - 2s 229ms/step - loss: 0.3786 - val_loss: 0.3154\n",
      "Epoch 99/100\n",
      "8/8 [==============================] - 2s 219ms/step - loss: 0.3194 - val_loss: 0.3154\n",
      "Epoch 100/100\n",
      "8/8 [==============================] - 2s 218ms/step - loss: 0.2989 - val_loss: 0.3154\n"
     ]
    }
   ],
   "source": [
    "history = autoencoder.fit(train_set, train_set,\n",
    "                epochs=100, validation_data=(test_set, test_set))"
   ]
  },
  {
   "cell_type": "code",
   "execution_count": 18,
   "id": "3dcd1eed",
   "metadata": {},
   "outputs": [
    {
     "data": {
      "image/png": "[encoded data removed]",
      "text/plain": [
       "<Figure size 432x288 with 1 Axes>"
      ]
     },
     "metadata": {
      "needs_background": "light"
     },
     "output_type": "display_data"
    }
   ],
   "source": [
    "import matplotlib.pyplot as plt\n",
    "plt.plot(history.history['loss'])\n",
    "plt.plot(history.history['val_loss'])\n",
    "plt.title('model loss')\n",
    "plt.ylabel('loss')\n",
    "plt.xlabel('epoch')\n",
    "plt.legend(['train', 'validation'], loc='upper right')\n",
    "plt.show()"
   ]
  },
  {
   "cell_type": "code",
   "execution_count": 27,
   "id": "515131c6",
   "metadata": {},
   "outputs": [
    {
     "data": {
      "text/plain": [
       "{'loss': [0.7703978419303894,\n",
       "  0.72064608335495,\n",
       "  0.5943832993507385,\n",
       "  0.42237594723701477,\n",
       "  0.3643995523452759,\n",
       "  0.35493093729019165,\n",
       "  0.3509906232357025,\n",
       "  0.3468085825443268,\n",
       "  0.34341123700141907,\n",
       "  0.34215274453163147,\n",
       "  0.3412726819515228,\n",
       "  0.34036287665367126,\n",
       "  0.3396472930908203,\n",
       "  0.3388787806034088,\n",
       "  0.3383549153804779,\n",
       "  0.337918758392334,\n",
       "  0.33753693103790283,\n",
       "  0.33724743127822876,\n",
       "  0.3369881510734558,\n",
       "  0.33677926659584045,\n",
       "  0.33663445711135864,\n",
       "  0.3362920880317688,\n",
       "  0.33605101704597473,\n",
       "  0.33570027351379395,\n",
       "  0.3353535532951355,\n",
       "  0.3350801169872284,\n",
       "  0.3347380459308624,\n",
       "  0.33437153697013855,\n",
       "  0.33404114842414856,\n",
       "  0.3337630331516266,\n",
       "  0.3335002064704895,\n",
       "  0.33321160078048706,\n",
       "  0.33302581310272217,\n",
       "  0.33286967873573303,\n",
       "  0.3325968086719513,\n",
       "  0.3324756324291229,\n",
       "  0.3323030173778534,\n",
       "  0.33215010166168213,\n",
       "  0.3320082128047943,\n",
       "  0.33182647824287415,\n",
       "  0.33170145750045776,\n",
       "  0.3315967917442322,\n",
       "  0.33152836561203003,\n",
       "  0.3314192295074463,\n",
       "  0.3313639760017395,\n",
       "  0.3312983512878418,\n",
       "  0.33133357763290405,\n",
       "  0.33125966787338257,\n",
       "  0.3310915231704712,\n",
       "  0.330975741147995,\n",
       "  0.3308895528316498,\n",
       "  0.3308274447917938,\n",
       "  0.3307816982269287,\n",
       "  0.3307381570339203,\n",
       "  0.3306564390659332,\n",
       "  0.3306187391281128,\n",
       "  0.33054661750793457,\n",
       "  0.3305110037326813,\n",
       "  0.3304445445537567,\n",
       "  0.3304060995578766,\n",
       "  0.33039331436157227,\n",
       "  0.33035504817962646,\n",
       "  0.3303314745426178,\n",
       "  0.33024129271507263,\n",
       "  0.33020439743995667,\n",
       "  0.33016833662986755,\n",
       "  0.33014845848083496,\n",
       "  0.33013486862182617,\n",
       "  0.33009013533592224,\n",
       "  0.33005356788635254,\n",
       "  0.3300248384475708,\n",
       "  0.3299928307533264,\n",
       "  0.3299775719642639,\n",
       "  0.3300078511238098,\n",
       "  0.329953134059906,\n",
       "  0.3299952447414398,\n",
       "  0.32994335889816284,\n",
       "  0.32988816499710083,\n",
       "  0.3298757076263428,\n",
       "  0.32985445857048035,\n",
       "  0.3298371732234955,\n",
       "  0.32981085777282715,\n",
       "  0.3297896385192871,\n",
       "  0.3297688663005829,\n",
       "  0.3297613859176636,\n",
       "  0.32974109053611755,\n",
       "  0.3297348618507385,\n",
       "  0.3297291398048401,\n",
       "  0.3297073543071747,\n",
       "  0.32968825101852417,\n",
       "  0.32967671751976013,\n",
       "  0.3296853303909302,\n",
       "  0.32972872257232666,\n",
       "  0.3296887278556824,\n",
       "  0.32964515686035156,\n",
       "  0.3296816051006317,\n",
       "  0.32962238788604736,\n",
       "  0.3295964300632477,\n",
       "  0.32959404587745667,\n",
       "  0.32957419753074646],\n",
       " 'val_loss': [0.7028210163116455,\n",
       "  0.6183055639266968,\n",
       "  0.4511743485927582,\n",
       "  0.3588148057460785,\n",
       "  0.3425341546535492,\n",
       "  0.3374244272708893,\n",
       "  0.3336513340473175,\n",
       "  0.32956600189208984,\n",
       "  0.3275633156299591,\n",
       "  0.32642921805381775,\n",
       "  0.32551640272140503,\n",
       "  0.3246701657772064,\n",
       "  0.32406067848205566,\n",
       "  0.32351526618003845,\n",
       "  0.32309576869010925,\n",
       "  0.32284364104270935,\n",
       "  0.3224653899669647,\n",
       "  0.32222840189933777,\n",
       "  0.32201042771339417,\n",
       "  0.32177746295928955,\n",
       "  0.32148364186286926,\n",
       "  0.3212060332298279,\n",
       "  0.32093027234077454,\n",
       "  0.3207527697086334,\n",
       "  0.3204275071620941,\n",
       "  0.3200690448284149,\n",
       "  0.3197847902774811,\n",
       "  0.31946098804473877,\n",
       "  0.31916749477386475,\n",
       "  0.318886935710907,\n",
       "  0.3186993896961212,\n",
       "  0.31849205493927,\n",
       "  0.3183193504810333,\n",
       "  0.31814226508140564,\n",
       "  0.3180752098560333,\n",
       "  0.31780293583869934,\n",
       "  0.31762728095054626,\n",
       "  0.3174965977668762,\n",
       "  0.317434698343277,\n",
       "  0.31734734773635864,\n",
       "  0.3173770010471344,\n",
       "  0.3173637092113495,\n",
       "  0.31721794605255127,\n",
       "  0.317211776971817,\n",
       "  0.31708359718322754,\n",
       "  0.316920667886734,\n",
       "  0.31703880429267883,\n",
       "  0.3168124854564667,\n",
       "  0.31685733795166016,\n",
       "  0.3167208731174469,\n",
       "  0.31666451692581177,\n",
       "  0.3165895342826843,\n",
       "  0.31655359268188477,\n",
       "  0.31650424003601074,\n",
       "  0.31649839878082275,\n",
       "  0.3164181709289551,\n",
       "  0.31633853912353516,\n",
       "  0.3162972927093506,\n",
       "  0.3162386417388916,\n",
       "  0.3162054717540741,\n",
       "  0.3161396086215973,\n",
       "  0.3161168098449707,\n",
       "  0.31608846783638,\n",
       "  0.31603720784187317,\n",
       "  0.3159860372543335,\n",
       "  0.3159552812576294,\n",
       "  0.31592172384262085,\n",
       "  0.315891832113266,\n",
       "  0.3158910572528839,\n",
       "  0.3158351182937622,\n",
       "  0.3158056437969208,\n",
       "  0.31577837467193604,\n",
       "  0.3157581686973572,\n",
       "  0.31573811173439026,\n",
       "  0.31570786237716675,\n",
       "  0.315779447555542,\n",
       "  0.31570130586624146,\n",
       "  0.31569528579711914,\n",
       "  0.3156411349773407,\n",
       "  0.315621554851532,\n",
       "  0.31561681628227234,\n",
       "  0.31560108065605164,\n",
       "  0.31558114290237427,\n",
       "  0.31557711958885193,\n",
       "  0.3155514895915985,\n",
       "  0.31554439663887024,\n",
       "  0.3155131936073303,\n",
       "  0.3155016303062439,\n",
       "  0.31549111008644104,\n",
       "  0.315471351146698,\n",
       "  0.31548580527305603,\n",
       "  0.315529465675354,\n",
       "  0.3154537081718445,\n",
       "  0.31546127796173096,\n",
       "  0.31552210450172424,\n",
       "  0.3154597878456116,\n",
       "  0.31542056798934937,\n",
       "  0.3153873383998871,\n",
       "  0.315374493598938,\n",
       "  0.3153533935546875]}"
      ]
     },
     "execution_count": 27,
     "metadata": {},
     "output_type": "execute_result"
    }
   ],
   "source": [
    "history.history"
   ]
  },
  {
   "cell_type": "code",
   "execution_count": null,
   "id": "4fb24b41",
   "metadata": {},
   "outputs": [],
   "source": []
  }
 ],
 "metadata": {
  "kernelspec": {
   "display_name": "Python 3",
   "language": "python",
   "name": "python3"
  },
  "language_info": {
   "codemirror_mode": {
    "name": "ipython",
    "version": 3
   },
   "file_extension": ".py",
   "mimetype": "text/x-python",
   "name": "python",
   "nbconvert_exporter": "python",
   "pygments_lexer": "ipython3",
   "version": "3.8.8"
  }
 },
 "nbformat": 4,
 "nbformat_minor": 5
}

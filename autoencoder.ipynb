{
  "nbformat": 4,
  "nbformat_minor": 0,
  "metadata": {
    "colab": {
      "name": "autoencoder.ipynb",
      "provenance": []
    },
    "kernelspec": {
      "display_name": "Python 3",
      "name": "python3"
    },
    "language_info": {
      "name": "python"
    }
  },
  "cells": [
    {
      "cell_type": "code",
      "metadata": {
        "colab": {
          "base_uri": "https://localhost:8080/"
        },
        "id": "V9U5CpCkKX6d",
        "outputId": "b84255bb-ee7e-4411-8807-d2c9e3480562"
      },
      "source": [
        "!pip install netCDF4\n",
        "!pip install xarray"
      ],
      "execution_count": 1,
      "outputs": [
        {
          "output_type": "stream",
          "text": [
            "Collecting netCDF4\n",
            "\u001b[?25l  Downloading https://files.pythonhosted.org/packages/37/56/f65978898fb8e7e5df9c67531d86eb24eb04938deae3b61dbcce12c98212/netCDF4-1.5.6-cp37-cp37m-manylinux2014_x86_64.whl (4.7MB)\n",
            "\u001b[K     |████████████████████████████████| 4.7MB 6.1MB/s \n",
            "\u001b[?25hRequirement already satisfied: numpy>=1.9 in /usr/local/lib/python3.7/dist-packages (from netCDF4) (1.19.5)\n",
            "Collecting cftime\n",
            "\u001b[?25l  Downloading https://files.pythonhosted.org/packages/41/e0/3e120cca16571c5ee3b35f1ed432c2aae5dc91e2b789e8b9c3a70e721ea0/cftime-1.4.1-cp37-cp37m-manylinux2014_x86_64.whl (313kB)\n",
            "\u001b[K     |████████████████████████████████| 317kB 42.4MB/s \n",
            "\u001b[?25hInstalling collected packages: cftime, netCDF4\n",
            "Successfully installed cftime-1.4.1 netCDF4-1.5.6\n",
            "Requirement already satisfied: xarray in /usr/local/lib/python3.7/dist-packages (0.15.1)\n",
            "Requirement already satisfied: pandas>=0.25 in /usr/local/lib/python3.7/dist-packages (from xarray) (1.1.5)\n",
            "Requirement already satisfied: numpy>=1.15 in /usr/local/lib/python3.7/dist-packages (from xarray) (1.19.5)\n",
            "Requirement already satisfied: setuptools>=41.2 in /usr/local/lib/python3.7/dist-packages (from xarray) (56.0.0)\n",
            "Requirement already satisfied: pytz>=2017.2 in /usr/local/lib/python3.7/dist-packages (from pandas>=0.25->xarray) (2018.9)\n",
            "Requirement already satisfied: python-dateutil>=2.7.3 in /usr/local/lib/python3.7/dist-packages (from pandas>=0.25->xarray) (2.8.1)\n",
            "Requirement already satisfied: six>=1.5 in /usr/local/lib/python3.7/dist-packages (from python-dateutil>=2.7.3->pandas>=0.25->xarray) (1.15.0)\n"
          ],
          "name": "stdout"
        }
      ]
    },
    {
      "cell_type": "code",
      "metadata": {
        "id": "nsuIH2IIKsEm"
      },
      "source": [
        "url = 'http://dapds00.nci.org.au/thredds/dodsC/gb6/BRAN/BRAN_2016/OFAM/ocean_eta_t_2000_01.nc'\n",
        "url2 = 'http://dapds00.nci.org.au/thredds/dodsC/gb6/BRAN/BRAN_2016/OFAM/atm_flux_diag_1994_01.nc'"
      ],
      "execution_count": 2,
      "outputs": []
    },
    {
      "cell_type": "code",
      "metadata": {
        "id": "U9k3NYrTgtim"
      },
      "source": [
        "import xarray,numpy as np"
      ],
      "execution_count": 3,
      "outputs": []
    },
    {
      "cell_type": "code",
      "metadata": {
        "id": "-7jQBOg6go8q"
      },
      "source": [
        "data = xarray.open_dataset(url2)"
      ],
      "execution_count": 4,
      "outputs": []
    },
    {
      "cell_type": "code",
      "metadata": {
        "id": "SlVZrT4lTI8_"
      },
      "source": [
        "data = data.drop_vars(names=['Time','average_T1','average_T2','average_DT'])"
      ],
      "execution_count": 5,
      "outputs": []
    },
    {
      "cell_type": "code",
      "metadata": {
        "colab": {
          "base_uri": "https://localhost:8080/",
          "height": 242
        },
        "id": "k71WAhRWU2EO",
        "outputId": "c055369f-884c-48d0-de0d-c09e9094d80d"
      },
      "source": [
        "data['rh_ref']"
      ],
      "execution_count": 6,
      "outputs": [
        {
          "output_type": "execute_result",
          "data": {
            "text/html": [
              "<div><svg style=\"position: absolute; width: 0; height: 0; overflow: hidden\">\n",
              "<defs>\n",
              "<symbol id=\"icon-database\" viewBox=\"0 0 32 32\">\n",
              "<title>Show/Hide data repr</title>\n",
              "<path d=\"M16 0c-8.837 0-16 2.239-16 5v4c0 2.761 7.163 5 16 5s16-2.239 16-5v-4c0-2.761-7.163-5-16-5z\"></path>\n",
              "<path d=\"M16 17c-8.837 0-16-2.239-16-5v6c0 2.761 7.163 5 16 5s16-2.239 16-5v-6c0 2.761-7.163 5-16 5z\"></path>\n",
              "<path d=\"M16 26c-8.837 0-16-2.239-16-5v6c0 2.761 7.163 5 16 5s16-2.239 16-5v-6c0 2.761-7.163 5-16 5z\"></path>\n",
              "</symbol>\n",
              "<symbol id=\"icon-file-text2\" viewBox=\"0 0 32 32\">\n",
              "<title>Show/Hide attributes</title>\n",
              "<path d=\"M28.681 7.159c-0.694-0.947-1.662-2.053-2.724-3.116s-2.169-2.030-3.116-2.724c-1.612-1.182-2.393-1.319-2.841-1.319h-15.5c-1.378 0-2.5 1.121-2.5 2.5v27c0 1.378 1.122 2.5 2.5 2.5h23c1.378 0 2.5-1.122 2.5-2.5v-19.5c0-0.448-0.137-1.23-1.319-2.841zM24.543 5.457c0.959 0.959 1.712 1.825 2.268 2.543h-4.811v-4.811c0.718 0.556 1.584 1.309 2.543 2.268zM28 29.5c0 0.271-0.229 0.5-0.5 0.5h-23c-0.271 0-0.5-0.229-0.5-0.5v-27c0-0.271 0.229-0.5 0.5-0.5 0 0 15.499-0 15.5 0v7c0 0.552 0.448 1 1 1h7v19.5z\"></path>\n",
              "<path d=\"M23 26h-14c-0.552 0-1-0.448-1-1s0.448-1 1-1h14c0.552 0 1 0.448 1 1s-0.448 1-1 1z\"></path>\n",
              "<path d=\"M23 22h-14c-0.552 0-1-0.448-1-1s0.448-1 1-1h14c0.552 0 1 0.448 1 1s-0.448 1-1 1z\"></path>\n",
              "<path d=\"M23 18h-14c-0.552 0-1-0.448-1-1s0.448-1 1-1h14c0.552 0 1 0.448 1 1s-0.448 1-1 1z\"></path>\n",
              "</symbol>\n",
              "</defs>\n",
              "</svg>\n",
              "<style>/* CSS stylesheet for displaying xarray objects in jupyterlab.\n",
              " *\n",
              " */\n",
              "\n",
              ":root {\n",
              "  --xr-font-color0: var(--jp-content-font-color0, rgba(0, 0, 0, 1));\n",
              "  --xr-font-color2: var(--jp-content-font-color2, rgba(0, 0, 0, 0.54));\n",
              "  --xr-font-color3: var(--jp-content-font-color3, rgba(0, 0, 0, 0.38));\n",
              "  --xr-border-color: var(--jp-border-color2, #e0e0e0);\n",
              "  --xr-disabled-color: var(--jp-layout-color3, #bdbdbd);\n",
              "  --xr-background-color: var(--jp-layout-color0, white);\n",
              "  --xr-background-color-row-even: var(--jp-layout-color1, white);\n",
              "  --xr-background-color-row-odd: var(--jp-layout-color2, #eeeeee);\n",
              "}\n",
              "\n",
              ".xr-wrap {\n",
              "  min-width: 300px;\n",
              "  max-width: 700px;\n",
              "}\n",
              "\n",
              ".xr-header {\n",
              "  padding-top: 6px;\n",
              "  padding-bottom: 6px;\n",
              "  margin-bottom: 4px;\n",
              "  border-bottom: solid 1px var(--xr-border-color);\n",
              "}\n",
              "\n",
              ".xr-header > div,\n",
              ".xr-header > ul {\n",
              "  display: inline;\n",
              "  margin-top: 0;\n",
              "  margin-bottom: 0;\n",
              "}\n",
              "\n",
              ".xr-obj-type,\n",
              ".xr-array-name {\n",
              "  margin-left: 2px;\n",
              "  margin-right: 10px;\n",
              "}\n",
              "\n",
              ".xr-obj-type {\n",
              "  color: var(--xr-font-color2);\n",
              "}\n",
              "\n",
              ".xr-sections {\n",
              "  padding-left: 0 !important;\n",
              "  display: grid;\n",
              "  grid-template-columns: 150px auto auto 1fr 20px 20px;\n",
              "}\n",
              "\n",
              ".xr-section-item {\n",
              "  display: contents;\n",
              "}\n",
              "\n",
              ".xr-section-item input {\n",
              "  display: none;\n",
              "}\n",
              "\n",
              ".xr-section-item input + label {\n",
              "  color: var(--xr-disabled-color);\n",
              "}\n",
              "\n",
              ".xr-section-item input:enabled + label {\n",
              "  cursor: pointer;\n",
              "  color: var(--xr-font-color2);\n",
              "}\n",
              "\n",
              ".xr-section-item input:enabled + label:hover {\n",
              "  color: var(--xr-font-color0);\n",
              "}\n",
              "\n",
              ".xr-section-summary {\n",
              "  grid-column: 1;\n",
              "  color: var(--xr-font-color2);\n",
              "  font-weight: 500;\n",
              "}\n",
              "\n",
              ".xr-section-summary > span {\n",
              "  display: inline-block;\n",
              "  padding-left: 0.5em;\n",
              "}\n",
              "\n",
              ".xr-section-summary-in:disabled + label {\n",
              "  color: var(--xr-font-color2);\n",
              "}\n",
              "\n",
              ".xr-section-summary-in + label:before {\n",
              "  display: inline-block;\n",
              "  content: '►';\n",
              "  font-size: 11px;\n",
              "  width: 15px;\n",
              "  text-align: center;\n",
              "}\n",
              "\n",
              ".xr-section-summary-in:disabled + label:before {\n",
              "  color: var(--xr-disabled-color);\n",
              "}\n",
              "\n",
              ".xr-section-summary-in:checked + label:before {\n",
              "  content: '▼';\n",
              "}\n",
              "\n",
              ".xr-section-summary-in:checked + label > span {\n",
              "  display: none;\n",
              "}\n",
              "\n",
              ".xr-section-summary,\n",
              ".xr-section-inline-details {\n",
              "  padding-top: 4px;\n",
              "  padding-bottom: 4px;\n",
              "}\n",
              "\n",
              ".xr-section-inline-details {\n",
              "  grid-column: 2 / -1;\n",
              "}\n",
              "\n",
              ".xr-section-details {\n",
              "  display: none;\n",
              "  grid-column: 1 / -1;\n",
              "  margin-bottom: 5px;\n",
              "}\n",
              "\n",
              ".xr-section-summary-in:checked ~ .xr-section-details {\n",
              "  display: contents;\n",
              "}\n",
              "\n",
              ".xr-array-wrap {\n",
              "  grid-column: 1 / -1;\n",
              "  display: grid;\n",
              "  grid-template-columns: 20px auto;\n",
              "}\n",
              "\n",
              ".xr-array-wrap > label {\n",
              "  grid-column: 1;\n",
              "  vertical-align: top;\n",
              "}\n",
              "\n",
              ".xr-preview {\n",
              "  color: var(--xr-font-color3);\n",
              "}\n",
              "\n",
              ".xr-array-preview,\n",
              ".xr-array-data {\n",
              "  padding: 0 5px !important;\n",
              "  grid-column: 2;\n",
              "}\n",
              "\n",
              ".xr-array-data,\n",
              ".xr-array-in:checked ~ .xr-array-preview {\n",
              "  display: none;\n",
              "}\n",
              "\n",
              ".xr-array-in:checked ~ .xr-array-data,\n",
              ".xr-array-preview {\n",
              "  display: inline-block;\n",
              "}\n",
              "\n",
              ".xr-dim-list {\n",
              "  display: inline-block !important;\n",
              "  list-style: none;\n",
              "  padding: 0 !important;\n",
              "  margin: 0;\n",
              "}\n",
              "\n",
              ".xr-dim-list li {\n",
              "  display: inline-block;\n",
              "  padding: 0;\n",
              "  margin: 0;\n",
              "}\n",
              "\n",
              ".xr-dim-list:before {\n",
              "  content: '(';\n",
              "}\n",
              "\n",
              ".xr-dim-list:after {\n",
              "  content: ')';\n",
              "}\n",
              "\n",
              ".xr-dim-list li:not(:last-child):after {\n",
              "  content: ',';\n",
              "  padding-right: 5px;\n",
              "}\n",
              "\n",
              ".xr-has-index {\n",
              "  font-weight: bold;\n",
              "}\n",
              "\n",
              ".xr-var-list,\n",
              ".xr-var-item {\n",
              "  display: contents;\n",
              "}\n",
              "\n",
              ".xr-var-item > div,\n",
              ".xr-var-item label,\n",
              ".xr-var-item > .xr-var-name span {\n",
              "  background-color: var(--xr-background-color-row-even);\n",
              "  margin-bottom: 0;\n",
              "}\n",
              "\n",
              ".xr-var-item > .xr-var-name:hover span {\n",
              "  padding-right: 5px;\n",
              "}\n",
              "\n",
              ".xr-var-list > li:nth-child(odd) > div,\n",
              ".xr-var-list > li:nth-child(odd) > label,\n",
              ".xr-var-list > li:nth-child(odd) > .xr-var-name span {\n",
              "  background-color: var(--xr-background-color-row-odd);\n",
              "}\n",
              "\n",
              ".xr-var-name {\n",
              "  grid-column: 1;\n",
              "}\n",
              "\n",
              ".xr-var-dims {\n",
              "  grid-column: 2;\n",
              "}\n",
              "\n",
              ".xr-var-dtype {\n",
              "  grid-column: 3;\n",
              "  text-align: right;\n",
              "  color: var(--xr-font-color2);\n",
              "}\n",
              "\n",
              ".xr-var-preview {\n",
              "  grid-column: 4;\n",
              "}\n",
              "\n",
              ".xr-var-name,\n",
              ".xr-var-dims,\n",
              ".xr-var-dtype,\n",
              ".xr-preview,\n",
              ".xr-attrs dt {\n",
              "  white-space: nowrap;\n",
              "  overflow: hidden;\n",
              "  text-overflow: ellipsis;\n",
              "  padding-right: 10px;\n",
              "}\n",
              "\n",
              ".xr-var-name:hover,\n",
              ".xr-var-dims:hover,\n",
              ".xr-var-dtype:hover,\n",
              ".xr-attrs dt:hover {\n",
              "  overflow: visible;\n",
              "  width: auto;\n",
              "  z-index: 1;\n",
              "}\n",
              "\n",
              ".xr-var-attrs,\n",
              ".xr-var-data {\n",
              "  display: none;\n",
              "  background-color: var(--xr-background-color) !important;\n",
              "  padding-bottom: 5px !important;\n",
              "}\n",
              "\n",
              ".xr-var-attrs-in:checked ~ .xr-var-attrs,\n",
              ".xr-var-data-in:checked ~ .xr-var-data {\n",
              "  display: block;\n",
              "}\n",
              "\n",
              ".xr-var-data > table {\n",
              "  float: right;\n",
              "}\n",
              "\n",
              ".xr-var-name span,\n",
              ".xr-var-data,\n",
              ".xr-attrs {\n",
              "  padding-left: 25px !important;\n",
              "}\n",
              "\n",
              ".xr-attrs,\n",
              ".xr-var-attrs,\n",
              ".xr-var-data {\n",
              "  grid-column: 1 / -1;\n",
              "}\n",
              "\n",
              "dl.xr-attrs {\n",
              "  padding: 0;\n",
              "  margin: 0;\n",
              "  display: grid;\n",
              "  grid-template-columns: 125px auto;\n",
              "}\n",
              "\n",
              ".xr-attrs dt, dd {\n",
              "  padding: 0;\n",
              "  margin: 0;\n",
              "  float: left;\n",
              "  padding-right: 10px;\n",
              "  width: auto;\n",
              "}\n",
              "\n",
              ".xr-attrs dt {\n",
              "  font-weight: normal;\n",
              "  grid-column: 1;\n",
              "}\n",
              "\n",
              ".xr-attrs dt:hover span {\n",
              "  display: inline-block;\n",
              "  background: var(--xr-background-color);\n",
              "  padding-right: 10px;\n",
              "}\n",
              "\n",
              ".xr-attrs dd {\n",
              "  grid-column: 2;\n",
              "  white-space: pre-wrap;\n",
              "  word-break: break-all;\n",
              "}\n",
              "\n",
              ".xr-icon-database,\n",
              ".xr-icon-file-text2 {\n",
              "  display: inline-block;\n",
              "  vertical-align: middle;\n",
              "  width: 1em;\n",
              "  height: 1.5em !important;\n",
              "  stroke-width: 0;\n",
              "  stroke: currentColor;\n",
              "  fill: currentColor;\n",
              "}\n",
              "</style><div class='xr-wrap'><div class='xr-header'><div class='xr-obj-type'>xarray.DataArray</div><div class='xr-array-name'>'rh_ref'</div><ul class='xr-dim-list'><li><span>Time</span>: 31</li><li><span class='xr-has-index'>lat</span>: 101</li><li><span class='xr-has-index'>lon</span>: 240</li></ul></div><ul class='xr-sections'><li class='xr-section-item'><div class='xr-array-wrap'><input id='section-b11feb33-e578-410b-8e02-5ff709ffe9fe' class='xr-array-in' type='checkbox' ><label for='section-b11feb33-e578-410b-8e02-5ff709ffe9fe' title='Show/hide data repr'><svg class='icon xr-icon-database'><use xlink:href='#icon-database'></use></svg></label><div class='xr-array-preview xr-preview'><span>...</span></div><pre class='xr-array-data'>[751440 values with dtype=float32]</pre></div></li><li class='xr-section-item'><input id='section-fc4124b9-2cdd-441e-8947-b63bbb27ffbf' class='xr-section-summary-in' type='checkbox'  checked><label for='section-fc4124b9-2cdd-441e-8947-b63bbb27ffbf' class='xr-section-summary' >Coordinates: <span>(2)</span></label><div class='xr-section-inline-details'></div><div class='xr-section-details'><ul class='xr-var-list'><li class='xr-var-item'><div class='xr-var-name'><span class='xr-has-index'>lon</span></div><div class='xr-var-dims'>(lon)</div><div class='xr-var-dtype'>float64</div><div class='xr-var-preview xr-preview'>0.0 1.5 3.0 ... 355.5 357.0 358.5</div><input id='attrs-bc83f539-22bb-40b9-8809-a8f346e82252' class='xr-var-attrs-in' type='checkbox' ><label for='attrs-bc83f539-22bb-40b9-8809-a8f346e82252' title='Show/Hide attributes'><svg class='icon xr-icon-file-text2'><use xlink:href='#icon-file-text2'></use></svg></label><input id='data-2fe55f8c-9a64-4196-8074-a0f66803ac03' class='xr-var-data-in' type='checkbox'><label for='data-2fe55f8c-9a64-4196-8074-a0f66803ac03' title='Show/Hide data repr'><svg class='icon xr-icon-database'><use xlink:href='#icon-database'></use></svg></label><div class='xr-var-attrs'><dl class='xr-attrs'><dt><span>long_name :</span></dt><dd>longitude</dd><dt><span>units :</span></dt><dd>degrees_E</dd><dt><span>cartesian_axis :</span></dt><dd>X</dd></dl></div><pre class='xr-var-data'>array([  0. ,   1.5,   3. , ..., 355.5, 357. , 358.5])</pre></li><li class='xr-var-item'><div class='xr-var-name'><span class='xr-has-index'>lat</span></div><div class='xr-var-dims'>(lat)</div><div class='xr-var-dtype'>float64</div><div class='xr-var-preview xr-preview'>-75.0 -73.5 -72.0 ... 73.5 75.0</div><input id='attrs-49bf3a0d-78a1-4ea9-a537-4466da4aef58' class='xr-var-attrs-in' type='checkbox' ><label for='attrs-49bf3a0d-78a1-4ea9-a537-4466da4aef58' title='Show/Hide attributes'><svg class='icon xr-icon-file-text2'><use xlink:href='#icon-file-text2'></use></svg></label><input id='data-90ce33dd-a0f4-4186-b225-09731c9e4c65' class='xr-var-data-in' type='checkbox'><label for='data-90ce33dd-a0f4-4186-b225-09731c9e4c65' title='Show/Hide data repr'><svg class='icon xr-icon-database'><use xlink:href='#icon-database'></use></svg></label><div class='xr-var-attrs'><dl class='xr-attrs'><dt><span>long_name :</span></dt><dd>latitude</dd><dt><span>units :</span></dt><dd>degrees_N</dd><dt><span>cartesian_axis :</span></dt><dd>Y</dd></dl></div><pre class='xr-var-data'>array([-75. , -73.5, -72. , -70.5, -69. , -67.5, -66. , -64.5, -63. , -61.5,\n",
              "       -60. , -58.5, -57. , -55.5, -54. , -52.5, -51. , -49.5, -48. , -46.5,\n",
              "       -45. , -43.5, -42. , -40.5, -39. , -37.5, -36. , -34.5, -33. , -31.5,\n",
              "       -30. , -28.5, -27. , -25.5, -24. , -22.5, -21. , -19.5, -18. , -16.5,\n",
              "       -15. , -13.5, -12. , -10.5,  -9. ,  -7.5,  -6. ,  -4.5,  -3. ,  -1.5,\n",
              "         0. ,   1.5,   3. ,   4.5,   6. ,   7.5,   9. ,  10.5,  12. ,  13.5,\n",
              "        15. ,  16.5,  18. ,  19.5,  21. ,  22.5,  24. ,  25.5,  27. ,  28.5,\n",
              "        30. ,  31.5,  33. ,  34.5,  36. ,  37.5,  39. ,  40.5,  42. ,  43.5,\n",
              "        45. ,  46.5,  48. ,  49.5,  51. ,  52.5,  54. ,  55.5,  57. ,  58.5,\n",
              "        60. ,  61.5,  63. ,  64.5,  66. ,  67.5,  69. ,  70.5,  72. ,  73.5,\n",
              "        75. ])</pre></li></ul></div></li><li class='xr-section-item'><input id='section-7706a0a5-d6a1-4cb9-a3ae-fc70f20578b8' class='xr-section-summary-in' type='checkbox'  checked><label for='section-7706a0a5-d6a1-4cb9-a3ae-fc70f20578b8' class='xr-section-summary' >Attributes: <span>(4)</span></label><div class='xr-section-inline-details'></div><div class='xr-section-details'><dl class='xr-attrs'><dt><span>long_name :</span></dt><dd>relative humidity at 2 m</dd><dt><span>units :</span></dt><dd>percent</dd><dt><span>cell_methods :</span></dt><dd>time: mean</dd><dt><span>time_avg_info :</span></dt><dd>average_T1,average_T2,average_DT</dd></dl></div></li></ul></div></div>"
            ],
            "text/plain": [
              "<xarray.DataArray 'rh_ref' (Time: 31, lat: 101, lon: 240)>\n",
              "[751440 values with dtype=float32]\n",
              "Coordinates:\n",
              "  * lon      (lon) float64 0.0 1.5 3.0 4.5 6.0 ... 352.5 354.0 355.5 357.0 358.5\n",
              "  * lat      (lat) float64 -75.0 -73.5 -72.0 -70.5 -69.0 ... 70.5 72.0 73.5 75.0\n",
              "Dimensions without coordinates: Time\n",
              "Attributes:\n",
              "    long_name:      relative humidity at 2 m\n",
              "    units:          percent\n",
              "    cell_methods:   time: mean\n",
              "    time_avg_info:  average_T1,average_T2,average_DT"
            ]
          },
          "metadata": {
            "tags": []
          },
          "execution_count": 6
        }
      ]
    },
    {
      "cell_type": "code",
      "metadata": {
        "id": "K2hSd3UbU9Cl"
      },
      "source": [
        "arr = np.array(data['rh_ref'].data)"
      ],
      "execution_count": 7,
      "outputs": []
    },
    {
      "cell_type": "code",
      "metadata": {
        "colab": {
          "base_uri": "https://localhost:8080/"
        },
        "id": "gAKGwkvOWYJA",
        "outputId": "583443bc-56d2-454e-fbb5-6aa79ffa033d"
      },
      "source": [
        "print(arr.shape)\n",
        "print(arr[0][:1])"
      ],
      "execution_count": 8,
      "outputs": [
        {
          "output_type": "stream",
          "text": [
            "(31, 101, 240)\n",
            "[[90.888725 90.42023  89.60714  88.77808  88.31096  88.38233  88.86842\n",
            "  89.45574  89.85504  89.923485 89.66068  89.13935  88.459724 87.718094\n",
            "  87.05616  86.66432  86.71288  87.26558  88.2087   89.309975 90.23807\n",
            "  90.641914 90.2413   89.00042  87.23737  85.44022  83.986145 83.060936\n",
            "  82.50312  82.32999  82.16427  75.71057  71.87281  71.422745 71.30586\n",
            "  71.193245 75.86153  79.94523  81.6975   81.87574  82.05428  82.641975\n",
            "  83.63067  85.2356   86.05241  84.57716  84.301094 84.00518  83.137405\n",
            "  81.84469  80.1477   78.46604  77.20676  76.364334 76.08369  75.81092\n",
            "  86.30615  91.61433  91.64617  91.68936  94.02322  95.01141  94.78011\n",
            "  94.54322  94.34696  94.17879  94.02     93.85475  93.7246   93.67623\n",
            "  93.73835  93.891655 94.02557  93.94699  93.46671  92.53551  91.33262\n",
            "  90.153534 89.238594 88.65144  88.30603  88.09071  87.92598  87.81761\n",
            "  87.81884  87.963394 88.19112  88.30183  88.02382  87.18754  85.87979\n",
            "  84.456245 85.20868  88.80784  88.84429  88.8854   88.94622  89.0615\n",
            "  89.26788  89.5926   89.79417  89.60654  89.66109  89.71911  89.733925\n",
            "  85.15776  80.327995 80.38125  80.42673  81.04153  72.35673  61.974525\n",
            "  64.22811  64.53893  64.025826 63.661983 62.814728 62.46155  63.043236\n",
            "  63.67886  64.2904   65.144905 65.85131  66.32239  66.47615  66.75795\n",
            "  68.13756  68.843285 68.81308  68.24807  67.90469  68.369415 69.66716\n",
            "  71.2482   72.61488  73.76694  74.08474  74.204796 74.429436 74.54199\n",
            "  74.25837  73.44942  71.86348  70.95727  70.48167  69.10228  68.353775\n",
            "  66.51227  74.530975 77.69826  81.30172  83.45109  88.16622  85.56577\n",
            "  86.5645   93.72734  92.901344 92.38288  90.80969  89.32742  87.37021\n",
            "  85.7283   85.10925  84.60108  83.60505  83.25601  83.07682  65.95026\n",
            "  77.24126  68.70041  60.96588  57.354675 63.755047 87.08749  91.909645\n",
            "  92.674736 92.69541  92.87963  93.28795  93.85432  94.42941  94.94313\n",
            "  95.19095  95.08709  94.61326  93.985016 93.40929  92.97248  92.65538\n",
            "  92.43422  92.26284  92.2102   92.14649  92.9424   95.805855 98.98799\n",
            "  93.87522  89.96525  89.96686  77.47328  54.456043 51.622692 49.411816\n",
            "  47.498253 46.564804 46.178196 47.176937 48.38513  49.80686  51.34685\n",
            "  52.92725  55.23192  58.48352  62.389236 66.59169  70.11993  71.975815\n",
            "  72.343414 72.43376  72.360405 72.363205 72.504295 71.9307   79.55099\n",
            "  96.51993  95.397514 96.31138  96.627594 94.83857  93.58627  93.23632\n",
            "  93.079384 92.92293  91.310646 89.988495 89.43528  88.97048  88.790276\n",
            "  88.584206 90.178444]]\n"
          ],
          "name": "stdout"
        }
      ]
    },
    {
      "cell_type": "code",
      "metadata": {
        "colab": {
          "base_uri": "https://localhost:8080/"
        },
        "id": "pqZ5YXodWV2R",
        "outputId": "44c41f4b-0bbd-4a5d-9b56-c780d1faa574"
      },
      "source": [
        "arr = arr.reshape(-1)\n",
        "print(arr.shape)\n",
        "\n",
        "mean_val = sum(arr)/len(arr)\n",
        "arr = np.nan_to_num(arr,copy=True,nan=mean_val)\n",
        "\n",
        "max_val = max(arr)\n",
        "min_val =  min(arr)\n",
        "arr = (arr - min_val) / (arr - min_val)\n",
        "\n",
        "arr = arr.reshape((31,101,240))"
      ],
      "execution_count": 34,
      "outputs": [
        {
          "output_type": "stream",
          "text": [
            "(751440,)\n"
          ],
          "name": "stdout"
        },
        {
          "output_type": "stream",
          "text": [
            "/usr/local/lib/python3.7/dist-packages/ipykernel_launcher.py:9: RuntimeWarning: invalid value encountered in true_divide\n",
            "  if __name__ == '__main__':\n"
          ],
          "name": "stderr"
        }
      ]
    },
    {
      "cell_type": "code",
      "metadata": {
        "colab": {
          "base_uri": "https://localhost:8080/"
        },
        "id": "MkZ6Qx-qXGEJ",
        "outputId": "5b56b10c-83e0-4d52-b8a9-1e8dcdf94f95"
      },
      "source": [
        "np.shape(arr.reshape((31,-1)))"
      ],
      "execution_count": 35,
      "outputs": [
        {
          "output_type": "execute_result",
          "data": {
            "text/plain": [
              "(31, 24240)"
            ]
          },
          "metadata": {
            "tags": []
          },
          "execution_count": 35
        }
      ]
    },
    {
      "cell_type": "code",
      "metadata": {
        "colab": {
          "base_uri": "https://localhost:8080/"
        },
        "id": "RuMJbI1-0MCT",
        "outputId": "6a32dede-e124-4c90-a188-bd7e5c605f56"
      },
      "source": [
        "test_data = arr.reshape((31,-1))\n",
        "len(test_data)"
      ],
      "execution_count": 36,
      "outputs": [
        {
          "output_type": "execute_result",
          "data": {
            "text/plain": [
              "31"
            ]
          },
          "metadata": {
            "tags": []
          },
          "execution_count": 36
        }
      ]
    },
    {
      "cell_type": "code",
      "metadata": {
        "colab": {
          "base_uri": "https://localhost:8080/"
        },
        "id": "ZefOdoPIUDUB",
        "outputId": "8166c308-0eb5-400b-d34b-00cf768012f0"
      },
      "source": [
        "np.shape(data['rh_ref'].data)"
      ],
      "execution_count": 12,
      "outputs": [
        {
          "output_type": "execute_result",
          "data": {
            "text/plain": [
              "(31, 101, 240)"
            ]
          },
          "metadata": {
            "tags": []
          },
          "execution_count": 12
        }
      ]
    },
    {
      "cell_type": "code",
      "metadata": {
        "id": "K-BwZZdfYbfk"
      },
      "source": [
        "import keras\n",
        "from sklearn.model_selection import train_test_split\n",
        "from keras.datasets import mnist\n",
        "from keras.models import Model\n",
        "from keras.layers import Input, add\n",
        "from keras.layers.core import  Dense, Dropout, Activation, Flatten, Reshape\n",
        "from keras import regularizers\n",
        "from keras.regularizers import l2\n",
        "from keras.layers.convolutional import Conv2D, MaxPooling2D, UpSampling2D, ZeroPadding2D\n",
        "from keras.utils import np_utils"
      ],
      "execution_count": 13,
      "outputs": []
    },
    {
      "cell_type": "code",
      "metadata": {
        "colab": {
          "base_uri": "https://localhost:8080/"
        },
        "id": "OF6otaHlYszU",
        "outputId": "f6a8f895-b213-4914-d182-bbc5fee856e0"
      },
      "source": [
        "test_data_train, test_data_test = train_test_split(test_data, test_size=0.33)\n",
        "test_data_train.shape"
      ],
      "execution_count": 17,
      "outputs": [
        {
          "output_type": "execute_result",
          "data": {
            "text/plain": [
              "(20, 24240)"
            ]
          },
          "metadata": {
            "tags": []
          },
          "execution_count": 17
        }
      ]
    },
    {
      "cell_type": "code",
      "metadata": {
        "colab": {
          "base_uri": "https://localhost:8080/"
        },
        "id": "FEXDvCSfaPCr",
        "outputId": "a729acbc-a7c2-47b5-d145-29a82f5dc02c"
      },
      "source": [
        "test_data_train[0]"
      ],
      "execution_count": 37,
      "outputs": [
        {
          "output_type": "execute_result",
          "data": {
            "text/plain": [
              "<tf.Tensor: shape=(24240,), dtype=float32, numpy=\n",
              "array([0.6555809 , 0.647676  , 0.6346065 , ..., 0.48695114, 0.48082277,\n",
              "       0.47665882], dtype=float32)>"
            ]
          },
          "metadata": {
            "tags": []
          },
          "execution_count": 37
        }
      ]
    },
    {
      "cell_type": "code",
      "metadata": {
        "id": "mOjIDjM1kjpQ"
      },
      "source": [
        "mean_val = mean(test_data)\n",
        "test_data = np.nan_to_num(test_data,copy=True,nan=mean_val)\n",
        "\n",
        "max_val = max(test_data)\n",
        "min_val =  min(test_data)\n",
        "test_data = (test_data - min_val) / (max_val - min_val)"
      ],
      "execution_count": 16,
      "outputs": []
    },
    {
      "cell_type": "code",
      "metadata": {
        "colab": {
          "base_uri": "https://localhost:8080/"
        },
        "id": "vlnX4VBckZ1f",
        "outputId": "9f399215-cd88-4315-f070-7dc9755e1754"
      },
      "source": [
        "np.argwhere(np.isnan(test_data))"
      ],
      "execution_count": 84,
      "outputs": [
        {
          "output_type": "execute_result",
          "data": {
            "text/plain": [
              "array([], shape=(0, 2), dtype=int64)"
            ]
          },
          "metadata": {
            "tags": []
          },
          "execution_count": 84
        }
      ]
    },
    {
      "cell_type": "code",
      "metadata": {
        "colab": {
          "base_uri": "https://localhost:8080/"
        },
        "id": "Y026mNVqZB7H",
        "outputId": "c0a57885-4a99-44ed-e835-8d7cb43f5f8d"
      },
      "source": [
        "input_size = 24240\n",
        "hidden_size = 1024\n",
        "output_size = 24240\n",
        "\n",
        "# fit a single layer autoencoder\n",
        "x = Input(shape=(input_size,))\n",
        "h = Dense(hidden_size, activation='relu')(x)\n",
        "r = Dense(output_size, activation='sigmoid')(h)\n",
        "\n",
        "autoencoder = Model(inputs=x, outputs=r)\n",
        "autoencoder.compile(optimizer='adam', loss='mse')\n",
        "autoencoder.summary()"
      ],
      "execution_count": 48,
      "outputs": [
        {
          "output_type": "stream",
          "text": [
            "Model: \"model\"\n",
            "_________________________________________________________________\n",
            "Layer (type)                 Output Shape              Param #   \n",
            "=================================================================\n",
            "input_1 (InputLayer)         [(None, 24240)]           0         \n",
            "_________________________________________________________________\n",
            "dense (Dense)                (None, 1024)              24822784  \n",
            "_________________________________________________________________\n",
            "dense_1 (Dense)              (None, 24240)             24846000  \n",
            "=================================================================\n",
            "Total params: 49,668,784\n",
            "Trainable params: 49,668,784\n",
            "Non-trainable params: 0\n",
            "_________________________________________________________________\n"
          ],
          "name": "stdout"
        }
      ]
    },
    {
      "cell_type": "code",
      "metadata": {
        "colab": {
          "base_uri": "https://localhost:8080/",
          "height": 272
        },
        "id": "ryj0CchlZNCt",
        "outputId": "ebadfec7-e094-43f5-b0a2-dafca0bc8ffd"
      },
      "source": [
        "keras.utils.plot_model(autoencoder, \"time_ytocean_autoencoder.png\")"
      ],
      "execution_count": 49,
      "outputs": [
        {
          "output_type": "execute_result",
          "data": {
            "image/png": "[encoded data removed]",
            "text/plain": [
              "<IPython.core.display.Image object>"
            ]
          },
          "metadata": {
            "tags": []
          },
          "execution_count": 49
        }
      ]
    },
    {
      "cell_type": "code",
      "metadata": {
        "id": "1t3-xen1hvgH"
      },
      "source": [
        "min_val = tf.reduce_min(test_data_train)\n",
        "max_val = tf.reduce_max(test_data_train)\n",
        "\n",
        "test_data_train = (test_data_train - min_val) / (max_val - min_val)\n",
        "test_data_test = (test_data_test - min_val) / (max_val - min_val)\n",
        "\n",
        "test_data_train = tf.cast(test_data_train, tf.float32)\n",
        "test_data_test = tf.cast(test_data_test, tf.float32)\n"
      ],
      "execution_count": 22,
      "outputs": []
    },
    {
      "cell_type": "code",
      "metadata": {
        "id": "2JrNiPn4ZT9U"
      },
      "source": [
        "epochs = 100\n",
        "batch_size = 1024\n",
        "\n",
        "history = autoencoder.fit(test_data_train, test_data_train, batch_size=batch_size, epochs=epochs, verbose=1, validation_data=(test_data_test, test_data_test))"
      ],
      "execution_count": null,
      "outputs": []
    },
    {
      "cell_type": "code",
      "metadata": {
        "id": "rhBnsujRXqww"
      },
      "source": [
        "import tensorflow as tf\n",
        "from tensorflow.keras import layers, losses\n",
        "from tensorflow.keras.models import Model"
      ],
      "execution_count": 38,
      "outputs": []
    },
    {
      "cell_type": "code",
      "metadata": {
        "id": "oaBTCOXJXxP8"
      },
      "source": [
        "\n",
        "class Autoencoder(Model):\n",
        "  def __init__(self):\n",
        "    super(Autoencoder, self).__init__()  \n",
        "    self.encoder = tf.keras.Sequential([\n",
        "      layers.Dense(2048, activation='relu'),\n",
        "      layers.Dropout(0.2),\n",
        "      layers.Dense(1024, activation='relu'),\n",
        "      layers.Dropout(0.2),\n",
        "      layers.Dense(1024, activation='relu'),\n",
        "      layers.Dropout(0.2),\n",
        "      layers.Dense(512, activation='relu')\n",
        "    ])\n",
        "    self.decoder = tf.keras.Sequential([\n",
        "      layers.Dense(1024, activation='relu'),\n",
        "      layers.Dense(1024, activation='relu'),\n",
        "      layers.Dense(2048, activation='relu'),\n",
        "      layers.Dense(2048, activation='relu'),\n",
        "      layers.Dense(24240, activation='sigmoid')\n",
        "    ])\n",
        "\n",
        "  def call(self, x):\n",
        "    encoded = self.encoder(x)\n",
        "    decoded = self.decoder(encoded)\n",
        "    return decoded\n",
        "\n",
        "autoencoder = Autoencoder()"
      ],
      "execution_count": 39,
      "outputs": []
    },
    {
      "cell_type": "code",
      "metadata": {
        "colab": {
          "base_uri": "https://localhost:8080/"
        },
        "id": "N4vcT9_EjyKV",
        "outputId": "13dd84db-e434-434c-fcfd-f6a449883ec9"
      },
      "source": [
        "test_data_train"
      ],
      "execution_count": 40,
      "outputs": [
        {
          "output_type": "execute_result",
          "data": {
            "text/plain": [
              "<tf.Tensor: shape=(20, 24240), dtype=float32, numpy=\n",
              "array([[0.6555809 , 0.647676  , 0.6346065 , ..., 0.48695114, 0.48082277,\n",
              "        0.47665882],\n",
              "       [0.6991563 , 0.69675404, 0.69092417, ..., 0.56943816, 0.561973  ,\n",
              "        0.55607265],\n",
              "       [0.7032984 , 0.70520973, 0.70491076, ..., 0.5276422 , 0.52256304,\n",
              "        0.5158781 ],\n",
              "       ...,\n",
              "       [0.62764454, 0.6315188 , 0.6357357 , ..., 0.50276023, 0.49659318,\n",
              "        0.49763405],\n",
              "       [0.68581235, 0.6855747 , 0.6843    , ..., 0.47384843, 0.46760103,\n",
              "        0.46026212],\n",
              "       [0.68646395, 0.680357  , 0.6746003 , ..., 0.46030685, 0.4597061 ,\n",
              "        0.46505868]], dtype=float32)>"
            ]
          },
          "metadata": {
            "tags": []
          },
          "execution_count": 40
        }
      ]
    },
    {
      "cell_type": "code",
      "metadata": {
        "colab": {
          "base_uri": "https://localhost:8080/"
        },
        "id": "lzyq2VShX2XC",
        "outputId": "84b5c16b-41d4-460e-fb10-1ffecbbfa4b3"
      },
      "source": [
        "autoencoder.compile(optimizer='adam', loss=losses.MeanSquaredError())\n",
        "history = autoencoder.fit(test_data_train, test_data_train,\n",
        "                epochs=100,\n",
        "                batch_size=512,\n",
        "                validation_data=(test_data_test,test_data_test))\n"
      ],
      "execution_count": 42,
      "outputs": [
        {
          "output_type": "stream",
          "text": [
            "Epoch 1/100\n",
            "1/1 [==============================] - 2s 2s/step - loss: 0.0304 - val_loss: 0.0242\n",
            "Epoch 2/100\n",
            "1/1 [==============================] - 1s 978ms/step - loss: 0.0248 - val_loss: 0.0284\n",
            "Epoch 3/100\n",
            "1/1 [==============================] - 1s 962ms/step - loss: 0.0274 - val_loss: 0.0122\n",
            "Epoch 4/100\n",
            "1/1 [==============================] - 1s 958ms/step - loss: 0.0115 - val_loss: 0.0941\n",
            "Epoch 5/100\n",
            "1/1 [==============================] - 1s 1s/step - loss: 0.0964 - val_loss: 0.0197\n",
            "Epoch 6/100\n",
            "1/1 [==============================] - 1s 1s/step - loss: 0.0214 - val_loss: 0.0231\n",
            "Epoch 7/100\n",
            "1/1 [==============================] - 1s 1s/step - loss: 0.0217 - val_loss: 0.0283\n",
            "Epoch 8/100\n",
            "1/1 [==============================] - 1s 1s/step - loss: 0.0278 - val_loss: 0.0279\n",
            "Epoch 9/100\n",
            "1/1 [==============================] - 1s 1s/step - loss: 0.0276 - val_loss: 0.0238\n",
            "Epoch 10/100\n",
            "1/1 [==============================] - 1s 1s/step - loss: 0.0233 - val_loss: 0.0126\n",
            "Epoch 11/100\n",
            "1/1 [==============================] - 1s 1s/step - loss: 0.0125 - val_loss: 0.0358\n",
            "Epoch 12/100\n",
            "1/1 [==============================] - 1s 1s/step - loss: 0.0410 - val_loss: 0.0071\n",
            "Epoch 13/100\n",
            "1/1 [==============================] - 1s 1s/step - loss: 0.0073 - val_loss: 0.0124\n",
            "Epoch 14/100\n",
            "1/1 [==============================] - 1s 1s/step - loss: 0.0109 - val_loss: 0.0150\n",
            "Epoch 15/100\n",
            "1/1 [==============================] - 1s 1s/step - loss: 0.0142 - val_loss: 0.0115\n",
            "Epoch 16/100\n",
            "1/1 [==============================] - 2s 2s/step - loss: 0.0107 - val_loss: 0.0066\n",
            "Epoch 17/100\n",
            "1/1 [==============================] - 1s 1s/step - loss: 0.0073 - val_loss: 0.0074\n",
            "Epoch 18/100\n",
            "1/1 [==============================] - 1s 1s/step - loss: 0.0103 - val_loss: 0.0042\n",
            "Epoch 19/100\n",
            "1/1 [==============================] - 1s 1s/step - loss: 0.0045 - val_loss: 0.0064\n",
            "Epoch 20/100\n",
            "1/1 [==============================] - 1s 1s/step - loss: 0.0050 - val_loss: 0.0072\n",
            "Epoch 21/100\n",
            "1/1 [==============================] - 1s 1s/step - loss: 0.0054 - val_loss: 0.0050\n",
            "Epoch 22/100\n",
            "1/1 [==============================] - 1s 1s/step - loss: 0.0039 - val_loss: 0.0033\n",
            "Epoch 23/100\n",
            "1/1 [==============================] - 1s 1s/step - loss: 0.0040 - val_loss: 0.0035\n",
            "Epoch 24/100\n",
            "1/1 [==============================] - 1s 1s/step - loss: 0.0054 - val_loss: 0.0036\n",
            "Epoch 25/100\n",
            "1/1 [==============================] - 1s 1s/step - loss: 0.0031 - val_loss: 0.0054\n",
            "Epoch 26/100\n",
            "1/1 [==============================] - 1s 1s/step - loss: 0.0036 - val_loss: 0.0060\n",
            "Epoch 27/100\n",
            "1/1 [==============================] - 1s 860ms/step - loss: 0.0039 - val_loss: 0.0046\n",
            "Epoch 28/100\n",
            "1/1 [==============================] - 1s 848ms/step - loss: 0.0031 - val_loss: 0.0029\n",
            "Epoch 29/100\n",
            "1/1 [==============================] - 1s 863ms/step - loss: 0.0028 - val_loss: 0.0027\n",
            "Epoch 30/100\n",
            "1/1 [==============================] - 1s 844ms/step - loss: 0.0034 - val_loss: 0.0027\n",
            "Epoch 31/100\n",
            "1/1 [==============================] - 1s 852ms/step - loss: 0.0033 - val_loss: 0.0041\n",
            "Epoch 32/100\n",
            "1/1 [==============================] - 1s 868ms/step - loss: 0.0027 - val_loss: 0.0055\n",
            "Epoch 33/100\n",
            "1/1 [==============================] - 1s 849ms/step - loss: 0.0034 - val_loss: 0.0052\n",
            "Epoch 34/100\n",
            "1/1 [==============================] - 1s 877ms/step - loss: 0.0031 - val_loss: 0.0037\n",
            "Epoch 35/100\n",
            "1/1 [==============================] - 1s 885ms/step - loss: 0.0025 - val_loss: 0.0028\n",
            "Epoch 36/100\n",
            "1/1 [==============================] - 1s 848ms/step - loss: 0.0029 - val_loss: 0.0027\n",
            "Epoch 37/100\n",
            "1/1 [==============================] - 1s 864ms/step - loss: 0.0030 - val_loss: 0.0035\n",
            "Epoch 38/100\n",
            "1/1 [==============================] - 1s 850ms/step - loss: 0.0026 - val_loss: 0.0044\n",
            "Epoch 39/100\n",
            "1/1 [==============================] - 1s 851ms/step - loss: 0.0026 - val_loss: 0.0048\n",
            "Epoch 40/100\n",
            "1/1 [==============================] - 1s 874ms/step - loss: 0.0028 - val_loss: 0.0042\n",
            "Epoch 41/100\n",
            "1/1 [==============================] - 1s 839ms/step - loss: 0.0025 - val_loss: 0.0035\n",
            "Epoch 42/100\n",
            "1/1 [==============================] - 1s 883ms/step - loss: 0.0025 - val_loss: 0.0032\n",
            "Epoch 43/100\n",
            "1/1 [==============================] - 1s 865ms/step - loss: 0.0025 - val_loss: 0.0034\n",
            "Epoch 44/100\n",
            "1/1 [==============================] - 1s 867ms/step - loss: 0.0025 - val_loss: 0.0038\n",
            "Epoch 45/100\n",
            "1/1 [==============================] - 1s 854ms/step - loss: 0.0024 - val_loss: 0.0043\n",
            "Epoch 46/100\n",
            "1/1 [==============================] - 1s 870ms/step - loss: 0.0025 - val_loss: 0.0043\n",
            "Epoch 47/100\n",
            "1/1 [==============================] - 1s 864ms/step - loss: 0.0025 - val_loss: 0.0040\n",
            "Epoch 48/100\n",
            "1/1 [==============================] - 1s 851ms/step - loss: 0.0025 - val_loss: 0.0033\n",
            "Epoch 49/100\n",
            "1/1 [==============================] - 1s 866ms/step - loss: 0.0025 - val_loss: 0.0035\n",
            "Epoch 50/100\n",
            "1/1 [==============================] - 1s 869ms/step - loss: 0.0025 - val_loss: 0.0041\n",
            "Epoch 51/100\n",
            "1/1 [==============================] - 1s 876ms/step - loss: 0.0024 - val_loss: 0.0047\n",
            "Epoch 52/100\n",
            "1/1 [==============================] - 1s 863ms/step - loss: 0.0025 - val_loss: 0.0046\n",
            "Epoch 53/100\n",
            "1/1 [==============================] - 1s 856ms/step - loss: 0.0025 - val_loss: 0.0038\n",
            "Epoch 54/100\n",
            "1/1 [==============================] - 1s 883ms/step - loss: 0.0024 - val_loss: 0.0033\n",
            "Epoch 55/100\n",
            "1/1 [==============================] - 1s 891ms/step - loss: 0.0025 - val_loss: 0.0036\n",
            "Epoch 56/100\n",
            "1/1 [==============================] - 1s 860ms/step - loss: 0.0024 - val_loss: 0.0042\n",
            "Epoch 57/100\n",
            "1/1 [==============================] - 1s 868ms/step - loss: 0.0024 - val_loss: 0.0046\n",
            "Epoch 58/100\n",
            "1/1 [==============================] - 1s 872ms/step - loss: 0.0025 - val_loss: 0.0042\n",
            "Epoch 59/100\n",
            "1/1 [==============================] - 1s 863ms/step - loss: 0.0024 - val_loss: 0.0035\n",
            "Epoch 60/100\n",
            "1/1 [==============================] - 1s 851ms/step - loss: 0.0024 - val_loss: 0.0032\n",
            "Epoch 61/100\n",
            "1/1 [==============================] - 1s 865ms/step - loss: 0.0026 - val_loss: 0.0037\n",
            "Epoch 62/100\n",
            "1/1 [==============================] - 1s 852ms/step - loss: 0.0024 - val_loss: 0.0044\n",
            "Epoch 63/100\n",
            "1/1 [==============================] - 1s 858ms/step - loss: 0.0025 - val_loss: 0.0045\n",
            "Epoch 64/100\n",
            "1/1 [==============================] - 1s 863ms/step - loss: 0.0024 - val_loss: 0.0039\n",
            "Epoch 65/100\n",
            "1/1 [==============================] - 1s 864ms/step - loss: 0.0024 - val_loss: 0.0035\n",
            "Epoch 66/100\n",
            "1/1 [==============================] - 1s 872ms/step - loss: 0.0025 - val_loss: 0.0037\n",
            "Epoch 67/100\n",
            "1/1 [==============================] - 1s 850ms/step - loss: 0.0025 - val_loss: 0.0042\n",
            "Epoch 68/100\n",
            "1/1 [==============================] - 1s 855ms/step - loss: 0.0024 - val_loss: 0.0044\n",
            "Epoch 69/100\n",
            "1/1 [==============================] - 1s 859ms/step - loss: 0.0024 - val_loss: 0.0044\n",
            "Epoch 70/100\n",
            "1/1 [==============================] - 1s 839ms/step - loss: 0.0024 - val_loss: 0.0039\n",
            "Epoch 71/100\n",
            "1/1 [==============================] - 1s 861ms/step - loss: 0.0024 - val_loss: 0.0035\n",
            "Epoch 72/100\n",
            "1/1 [==============================] - 1s 866ms/step - loss: 0.0024 - val_loss: 0.0037\n",
            "Epoch 73/100\n",
            "1/1 [==============================] - 1s 850ms/step - loss: 0.0024 - val_loss: 0.0045\n",
            "Epoch 74/100\n",
            "1/1 [==============================] - 1s 839ms/step - loss: 0.0024 - val_loss: 0.0048\n",
            "Epoch 75/100\n",
            "1/1 [==============================] - 1s 864ms/step - loss: 0.0026 - val_loss: 0.0040\n",
            "Epoch 76/100\n",
            "1/1 [==============================] - 1s 856ms/step - loss: 0.0024 - val_loss: 0.0033\n",
            "Epoch 77/100\n",
            "1/1 [==============================] - 1s 867ms/step - loss: 0.0025 - val_loss: 0.0036\n",
            "Epoch 78/100\n",
            "1/1 [==============================] - 1s 868ms/step - loss: 0.0024 - val_loss: 0.0044\n",
            "Epoch 79/100\n",
            "1/1 [==============================] - 1s 905ms/step - loss: 0.0024 - val_loss: 0.0047\n",
            "Epoch 80/100\n",
            "1/1 [==============================] - 1s 848ms/step - loss: 0.0024 - val_loss: 0.0043\n",
            "Epoch 81/100\n",
            "1/1 [==============================] - 1s 848ms/step - loss: 0.0024 - val_loss: 0.0037\n",
            "Epoch 82/100\n",
            "1/1 [==============================] - 1s 869ms/step - loss: 0.0024 - val_loss: 0.0036\n",
            "Epoch 83/100\n",
            "1/1 [==============================] - 1s 867ms/step - loss: 0.0025 - val_loss: 0.0043\n",
            "Epoch 84/100\n",
            "1/1 [==============================] - 1s 866ms/step - loss: 0.0024 - val_loss: 0.0048\n",
            "Epoch 85/100\n",
            "1/1 [==============================] - 1s 865ms/step - loss: 0.0024 - val_loss: 0.0046\n",
            "Epoch 86/100\n",
            "1/1 [==============================] - 1s 850ms/step - loss: 0.0024 - val_loss: 0.0041\n",
            "Epoch 87/100\n",
            "1/1 [==============================] - 1s 864ms/step - loss: 0.0024 - val_loss: 0.0039\n",
            "Epoch 88/100\n",
            "1/1 [==============================] - 1s 846ms/step - loss: 0.0024 - val_loss: 0.0041\n",
            "Epoch 89/100\n",
            "1/1 [==============================] - 1s 844ms/step - loss: 0.0024 - val_loss: 0.0048\n",
            "Epoch 90/100\n",
            "1/1 [==============================] - 1s 876ms/step - loss: 0.0024 - val_loss: 0.0048\n",
            "Epoch 91/100\n",
            "1/1 [==============================] - 1s 876ms/step - loss: 0.0025 - val_loss: 0.0042\n",
            "Epoch 92/100\n",
            "1/1 [==============================] - 1s 869ms/step - loss: 0.0024 - val_loss: 0.0039\n",
            "Epoch 93/100\n",
            "1/1 [==============================] - 1s 858ms/step - loss: 0.0024 - val_loss: 0.0042\n",
            "Epoch 94/100\n",
            "1/1 [==============================] - 1s 852ms/step - loss: 0.0024 - val_loss: 0.0046\n",
            "Epoch 95/100\n",
            "1/1 [==============================] - 1s 859ms/step - loss: 0.0024 - val_loss: 0.0046\n",
            "Epoch 96/100\n",
            "1/1 [==============================] - 1s 858ms/step - loss: 0.0024 - val_loss: 0.0040\n",
            "Epoch 97/100\n",
            "1/1 [==============================] - 1s 866ms/step - loss: 0.0024 - val_loss: 0.0038\n",
            "Epoch 98/100\n",
            "1/1 [==============================] - 1s 856ms/step - loss: 0.0024 - val_loss: 0.0041\n",
            "Epoch 99/100\n",
            "1/1 [==============================] - 1s 856ms/step - loss: 0.0024 - val_loss: 0.0045\n",
            "Epoch 100/100\n",
            "1/1 [==============================] - 1s 845ms/step - loss: 0.0024 - val_loss: 0.0045\n"
          ],
          "name": "stdout"
        }
      ]
    },
    {
      "cell_type": "code",
      "metadata": {
        "colab": {
          "base_uri": "https://localhost:8080/",
          "height": 314
        },
        "id": "TEuLQN_g1duF",
        "outputId": "75f2aea0-2cc8-451e-f689-9a3e20fd891e"
      },
      "source": [
        "import numpy as np\n",
        "import matplotlib.pyplot as plt\n",
        "import tensorflow.keras\n",
        "print(history.history.keys())\n",
        "\n",
        "plt.plot(history.history['loss'])\n",
        "plt.plot(history.history['val_loss'])\n",
        "plt.title('model loss')\n",
        "plt.ylabel('loss')\n",
        "plt.xlabel('epoch')\n",
        "plt.legend(['train', 'validation'], loc='upper right')\n",
        "plt.show()"
      ],
      "execution_count": 43,
      "outputs": [
        {
          "output_type": "stream",
          "text": [
            "dict_keys(['loss', 'val_loss'])\n"
          ],
          "name": "stdout"
        },
        {
          "output_type": "display_data",
          "data": {
            "image/png": "[encoded data removed]",
            "text/plain": [
              "<Figure size 432x288 with 1 Axes>"
            ]
          },
          "metadata": {
            "tags": [],
            "needs_background": "light"
          }
        }
      ]
    },
    {
      "cell_type": "code",
      "metadata": {
        "id": "WHkPE7NdmlOj"
      },
      "source": [
        "encoded = autoencoder.encoder(test_data).numpy()\n",
        "decoded = autoencoder.decoder(encoded).numpy()\n"
      ],
      "execution_count": 44,
      "outputs": []
    },
    {
      "cell_type": "code",
      "metadata": {
        "colab": {
          "base_uri": "https://localhost:8080/"
        },
        "id": "lxfsojn2muNc",
        "outputId": "5acc4879-3218-4070-cc56-37d60e3745d1"
      },
      "source": [
        "decoded.shape"
      ],
      "execution_count": 45,
      "outputs": [
        {
          "output_type": "execute_result",
          "data": {
            "text/plain": [
              "(31, 24240)"
            ]
          },
          "metadata": {
            "tags": []
          },
          "execution_count": 45
        }
      ]
    },
    {
      "cell_type": "code",
      "metadata": {
        "id": "xSD6IiBDm1QN"
      },
      "source": [
        "decoded_data = decoded.reshape((31,101,240))"
      ],
      "execution_count": 46,
      "outputs": []
    },
    {
      "cell_type": "code",
      "metadata": {
        "colab": {
          "base_uri": "https://localhost:8080/"
        },
        "id": "Gf70G7-um7WU",
        "outputId": "48c70ec4-2197-4bf9-e277-69855847aebf"
      },
      "source": [
        "test_data.shape"
      ],
      "execution_count": 47,
      "outputs": [
        {
          "output_type": "execute_result",
          "data": {
            "text/plain": [
              "(31, 24240)"
            ]
          },
          "metadata": {
            "tags": []
          },
          "execution_count": 47
        }
      ]
    },
    {
      "cell_type": "code",
      "metadata": {
        "colab": {
          "base_uri": "https://localhost:8080/"
        },
        "id": "Le3qynognF43",
        "outputId": "a2e4bfd1-20ee-43a3-adf5-a30b9c5fb1c4"
      },
      "source": [
        "decoded"
      ],
      "execution_count": 50,
      "outputs": [
        {
          "output_type": "execute_result",
          "data": {
            "text/plain": [
              "nan"
            ]
          },
          "metadata": {
            "tags": []
          },
          "execution_count": 50
        }
      ]
    },
    {
      "cell_type": "code",
      "metadata": {
        "id": "oIKMQK7OirMV"
      },
      "source": [
        "data_array = np.array(data['eta_t'])"
      ],
      "execution_count": null,
      "outputs": []
    },
    {
      "cell_type": "code",
      "metadata": {
        "id": "Gb9KtsyHaVc8"
      },
      "source": [
        "data_a = data_array.flatten()"
      ],
      "execution_count": null,
      "outputs": []
    },
    {
      "cell_type": "code",
      "metadata": {
        "colab": {
          "base_uri": "https://localhost:8080/"
        },
        "id": "dYBNZRHZaae7",
        "outputId": "83c0d9b6-d21f-48c1-f17c-b91b1e1bc11d"
      },
      "source": [
        "data_a"
      ],
      "execution_count": null,
      "outputs": [
        {
          "output_type": "execute_result",
          "data": {
            "text/plain": [
              "array([        nan,         nan,         nan, ..., -0.76296276,\n",
              "       -0.76296276, -0.76296276], dtype=float32)"
            ]
          },
          "metadata": {
            "tags": []
          },
          "execution_count": 22
        }
      ]
    },
    {
      "cell_type": "code",
      "metadata": {
        "id": "G-fM1xOVZYM1"
      },
      "source": [
        "data_a = data_a[~np.isnan(data_a)]"
      ],
      "execution_count": null,
      "outputs": []
    },
    {
      "cell_type": "code",
      "metadata": {
        "colab": {
          "base_uri": "https://localhost:8080/"
        },
        "id": "FN7rpJBcZwZE",
        "outputId": "44ab50c8-69f6-4f8f-adc5-8d246a77f8d3"
      },
      "source": [
        "data_a.shape"
      ],
      "execution_count": null,
      "outputs": [
        {
          "output_type": "execute_result",
          "data": {
            "text/plain": [
              "(115483091,)"
            ]
          },
          "metadata": {
            "tags": []
          },
          "execution_count": 26
        }
      ]
    },
    {
      "cell_type": "code",
      "metadata": {
        "colab": {
          "base_uri": "https://localhost:8080/"
        },
        "id": "d8i6aqmVhfBx",
        "outputId": "3b767ffa-4029-4e4e-9596-12d0cf1c6493"
      },
      "source": [
        "np.array(data['eta_t'])[0]"
      ],
      "execution_count": null,
      "outputs": [
        {
          "output_type": "execute_result",
          "data": {
            "text/plain": [
              "array([[        nan,         nan,         nan, ...,         nan,\n",
              "                nan,         nan],\n",
              "       [        nan,         nan,         nan, ...,         nan,\n",
              "                nan,         nan],\n",
              "       [        nan,         nan,         nan, ...,         nan,\n",
              "                nan,         nan],\n",
              "       ...,\n",
              "       [-0.82399976, -0.82399976, -0.79348123, ..., -0.82399976,\n",
              "        -0.82399976, -0.82399976],\n",
              "       [-0.82399976, -0.79348123, -0.79348123, ..., -0.82399976,\n",
              "        -0.82399976, -0.82399976],\n",
              "       [-0.76296276, -0.76296276, -0.7324442 , ..., -0.76296276,\n",
              "        -0.76296276, -0.76296276]], dtype=float32)"
            ]
          },
          "metadata": {
            "tags": []
          },
          "execution_count": 21
        }
      ]
    },
    {
      "cell_type": "code",
      "metadata": {
        "colab": {
          "base_uri": "https://localhost:8080/",
          "height": 193
        },
        "id": "fG3WlHs5gxWe",
        "outputId": "b58121dd-61be-4c95-daa3-41d077765b2b"
      },
      "source": [
        "ar = np.array(data['eta_t'])\n"
      ],
      "execution_count": null,
      "outputs": [
        {
          "output_type": "error",
          "ename": "TypeError",
          "evalue": "ignored",
          "traceback": [
            "\u001b[0;31m---------------------------------------------------------------------------\u001b[0m",
            "\u001b[0;31mTypeError\u001b[0m                                 Traceback (most recent call last)",
            "\u001b[0;32m<ipython-input-12-39efe63fc420>\u001b[0m in \u001b[0;36m<module>\u001b[0;34m()\u001b[0m\n\u001b[1;32m      1\u001b[0m \u001b[0mar\u001b[0m \u001b[0;34m=\u001b[0m \u001b[0mnp\u001b[0m\u001b[0;34m.\u001b[0m\u001b[0marray\u001b[0m\u001b[0;34m(\u001b[0m\u001b[0mdata\u001b[0m\u001b[0;34m[\u001b[0m\u001b[0;34m'eta_t'\u001b[0m\u001b[0;34m]\u001b[0m\u001b[0;34m)\u001b[0m\u001b[0;34m\u001b[0m\u001b[0;34m\u001b[0m\u001b[0m\n\u001b[0;32m----> 2\u001b[0;31m \u001b[0mar\u001b[0m\u001b[0;34m.\u001b[0m\u001b[0mshape\u001b[0m\u001b[0;34m(\u001b[0m\u001b[0;34m)\u001b[0m\u001b[0;34m\u001b[0m\u001b[0;34m\u001b[0m\u001b[0m\n\u001b[0m",
            "\u001b[0;31mTypeError\u001b[0m: 'tuple' object is not callable"
          ]
        }
      ]
    },
    {
      "cell_type": "code",
      "metadata": {
        "colab": {
          "base_uri": "https://localhost:8080/"
        },
        "id": "w_odo1FMhbqP",
        "outputId": "07a48e55-b687-4769-c7c0-eb1a26e3b9e5"
      },
      "source": [
        "ar[0]"
      ],
      "execution_count": null,
      "outputs": [
        {
          "output_type": "execute_result",
          "data": {
            "text/plain": [
              "array([[        nan,         nan,         nan, ...,         nan,\n",
              "                nan,         nan],\n",
              "       [        nan,         nan,         nan, ...,         nan,\n",
              "                nan,         nan],\n",
              "       [        nan,         nan,         nan, ...,         nan,\n",
              "                nan,         nan],\n",
              "       ...,\n",
              "       [-0.82399976, -0.82399976, -0.79348123, ..., -0.82399976,\n",
              "        -0.82399976, -0.82399976],\n",
              "       [-0.82399976, -0.79348123, -0.79348123, ..., -0.82399976,\n",
              "        -0.82399976, -0.82399976],\n",
              "       [-0.76296276, -0.76296276, -0.7324442 , ..., -0.76296276,\n",
              "        -0.76296276, -0.76296276]], dtype=float32)"
            ]
          },
          "metadata": {
            "tags": []
          },
          "execution_count": 14
        }
      ]
    },
    {
      "cell_type": "code",
      "metadata": {
        "colab": {
          "base_uri": "https://localhost:8080/"
        },
        "id": "FkoEaRzbhVu-",
        "outputId": "ef285d7c-f3cd-4d00-9119-bd2404e02d45"
      },
      "source": [
        "ar.shape"
      ],
      "execution_count": null,
      "outputs": [
        {
          "output_type": "execute_result",
          "data": {
            "text/plain": [
              "(31, 1500, 3600)"
            ]
          },
          "metadata": {
            "tags": []
          },
          "execution_count": 13
        }
      ]
    },
    {
      "cell_type": "code",
      "metadata": {
        "colab": {
          "base_uri": "https://localhost:8080/",
          "height": 1000
        },
        "id": "DUSNFfeTaFhC",
        "outputId": "668a5a56-43e5-43a2-da79-67ef7771a5d8"
      },
      "source": [
        "xt_ocean_dataset = []\n",
        "basic_url = 'http://dapds00.nci.org.au/thredds/dodsC/gb6/BRAN/BRAN_2016/OFAM/ocean_eta_t_'\n",
        "year = 1993\n",
        "for i in range(23):\n",
        "  year += 1\n",
        "  month = 0\n",
        "  for j in range(12):\n",
        "    month += 1\n",
        "    if month > 9:\n",
        "      m = str(month)\n",
        "    else:\n",
        "      m = '0'+str(month)\n",
        "    print('year: ',year,' month: ',month)\n",
        "    y = str(year)\n",
        "    url = basic_url + y + '_' + m + '.nc'\n",
        "    data = xarray.open_dataset(url)\n",
        "    xt_ocean = np.array(data['eta_t']['xt_ocean'])\n",
        "    xt_ocean_dataset.append(xt_ocean)\n"
      ],
      "execution_count": null,
      "outputs": [
        {
          "output_type": "stream",
          "text": [
            "year:  1994  month:  1\n",
            "year:  1994  month:  2\n",
            "year:  1994  month:  3\n",
            "year:  1994  month:  4\n",
            "year:  1994  month:  5\n",
            "year:  1994  month:  6\n",
            "year:  1994  month:  7\n",
            "year:  1994  month:  8\n",
            "year:  1994  month:  9\n",
            "year:  1994  month:  10\n",
            "year:  1994  month:  11\n",
            "year:  1994  month:  12\n",
            "year:  1995  month:  1\n",
            "year:  1995  month:  2\n",
            "year:  1995  month:  3\n",
            "year:  1995  month:  4\n",
            "year:  1995  month:  5\n",
            "year:  1995  month:  6\n",
            "year:  1995  month:  7\n",
            "year:  1995  month:  8\n",
            "year:  1995  month:  9\n",
            "year:  1995  month:  10\n",
            "year:  1995  month:  11\n",
            "year:  1995  month:  12\n",
            "year:  1996  month:  1\n",
            "year:  1996  month:  2\n",
            "year:  1996  month:  3\n",
            "year:  1996  month:  4\n",
            "year:  1996  month:  5\n",
            "year:  1996  month:  6\n",
            "year:  1996  month:  7\n",
            "year:  1996  month:  8\n",
            "year:  1996  month:  9\n",
            "year:  1996  month:  10\n",
            "year:  1996  month:  11\n",
            "year:  1996  month:  12\n",
            "year:  1997  month:  1\n",
            "year:  1997  month:  2\n",
            "year:  1997  month:  3\n",
            "year:  1997  month:  4\n",
            "year:  1997  month:  5\n",
            "year:  1997  month:  6\n",
            "year:  1997  month:  7\n",
            "year:  1997  month:  8\n",
            "year:  1997  month:  9\n",
            "year:  1997  month:  10\n",
            "year:  1997  month:  11\n",
            "year:  1997  month:  12\n",
            "year:  1998  month:  1\n",
            "year:  1998  month:  2\n",
            "year:  1998  month:  3\n",
            "year:  1998  month:  4\n",
            "year:  1998  month:  5\n",
            "year:  1998  month:  6\n",
            "year:  1998  month:  7\n",
            "year:  1998  month:  8\n",
            "year:  1998  month:  9\n",
            "year:  1998  month:  10\n",
            "year:  1998  month:  11\n",
            "year:  1998  month:  12\n",
            "year:  1999  month:  1\n",
            "year:  1999  month:  2\n",
            "year:  1999  month:  3\n",
            "year:  1999  month:  4\n",
            "year:  1999  month:  5\n",
            "year:  1999  month:  6\n",
            "year:  1999  month:  7\n",
            "year:  1999  month:  8\n",
            "year:  1999  month:  9\n",
            "year:  1999  month:  10\n",
            "year:  1999  month:  11\n",
            "year:  1999  month:  12\n",
            "year:  2000  month:  1\n",
            "year:  2000  month:  2\n",
            "year:  2000  month:  3\n",
            "year:  2000  month:  4\n",
            "year:  2000  month:  5\n",
            "year:  2000  month:  6\n",
            "year:  2000  month:  7\n",
            "year:  2000  month:  8\n",
            "year:  2000  month:  9\n",
            "year:  2000  month:  10\n",
            "year:  2000  month:  11\n",
            "year:  2000  month:  12\n",
            "year:  2001  month:  1\n",
            "year:  2001  month:  2\n",
            "year:  2001  month:  3\n",
            "year:  2001  month:  4\n",
            "year:  2001  month:  5\n",
            "year:  2001  month:  6\n",
            "year:  2001  month:  7\n",
            "year:  2001  month:  8\n",
            "year:  2001  month:  9\n",
            "year:  2001  month:  10\n",
            "year:  2001  month:  11\n",
            "year:  2001  month:  12\n",
            "year:  2002  month:  1\n",
            "year:  2002  month:  2\n",
            "year:  2002  month:  3\n",
            "year:  2002  month:  4\n",
            "year:  2002  month:  5\n",
            "year:  2002  month:  6\n",
            "year:  2002  month:  7\n",
            "year:  2002  month:  8\n",
            "year:  2002  month:  9\n",
            "year:  2002  month:  10\n",
            "year:  2002  month:  11\n",
            "year:  2002  month:  12\n",
            "year:  2003  month:  1\n",
            "year:  2003  month:  2\n",
            "year:  2003  month:  3\n",
            "year:  2003  month:  4\n",
            "year:  2003  month:  5\n",
            "year:  2003  month:  6\n",
            "year:  2003  month:  7\n",
            "year:  2003  month:  8\n",
            "year:  2003  month:  9\n",
            "year:  2003  month:  10\n",
            "year:  2003  month:  11\n",
            "year:  2003  month:  12\n",
            "year:  2004  month:  1\n",
            "year:  2004  month:  2\n",
            "year:  2004  month:  3\n",
            "year:  2004  month:  4\n",
            "year:  2004  month:  5\n",
            "year:  2004  month:  6\n",
            "year:  2004  month:  7\n",
            "year:  2004  month:  8\n",
            "year:  2004  month:  9\n",
            "year:  2004  month:  10\n",
            "year:  2004  month:  11\n",
            "year:  2004  month:  12\n",
            "year:  2005  month:  1\n",
            "year:  2005  month:  2\n",
            "year:  2005  month:  3\n",
            "year:  2005  month:  4\n",
            "year:  2005  month:  5\n",
            "year:  2005  month:  6\n",
            "year:  2005  month:  7\n",
            "year:  2005  month:  8\n",
            "year:  2005  month:  9\n",
            "year:  2005  month:  10\n",
            "year:  2005  month:  11\n",
            "year:  2005  month:  12\n",
            "year:  2006  month:  1\n",
            "year:  2006  month:  2\n",
            "year:  2006  month:  3\n",
            "year:  2006  month:  4\n",
            "year:  2006  month:  5\n",
            "year:  2006  month:  6\n",
            "year:  2006  month:  7\n",
            "year:  2006  month:  8\n",
            "year:  2006  month:  9\n",
            "year:  2006  month:  10\n",
            "year:  2006  month:  11\n",
            "year:  2006  month:  12\n",
            "year:  2007  month:  1\n",
            "year:  2007  month:  2\n",
            "year:  2007  month:  3\n",
            "year:  2007  month:  4\n",
            "year:  2007  month:  5\n",
            "year:  2007  month:  6\n",
            "year:  2007  month:  7\n",
            "year:  2007  month:  8\n",
            "year:  2007  month:  9\n",
            "year:  2007  month:  10\n",
            "year:  2007  month:  11\n",
            "year:  2007  month:  12\n",
            "year:  2008  month:  1\n",
            "year:  2008  month:  2\n",
            "year:  2008  month:  3\n",
            "year:  2008  month:  4\n",
            "year:  2008  month:  5\n",
            "year:  2008  month:  6\n",
            "year:  2008  month:  7\n",
            "year:  2008  month:  8\n",
            "year:  2008  month:  9\n",
            "year:  2008  month:  10\n",
            "year:  2008  month:  11\n",
            "year:  2008  month:  12\n",
            "year:  2009  month:  1\n",
            "year:  2009  month:  2\n",
            "year:  2009  month:  3\n",
            "year:  2009  month:  4\n",
            "year:  2009  month:  5\n",
            "year:  2009  month:  6\n",
            "year:  2009  month:  7\n",
            "year:  2009  month:  8\n",
            "year:  2009  month:  9\n",
            "year:  2009  month:  10\n",
            "year:  2009  month:  11\n",
            "year:  2009  month:  12\n",
            "year:  2010  month:  1\n",
            "year:  2010  month:  2\n",
            "year:  2010  month:  3\n",
            "year:  2010  month:  4\n",
            "year:  2010  month:  5\n",
            "year:  2010  month:  6\n",
            "year:  2010  month:  7\n",
            "year:  2010  month:  8\n",
            "year:  2010  month:  9\n",
            "year:  2010  month:  10\n",
            "year:  2010  month:  11\n",
            "year:  2010  month:  12\n",
            "year:  2011  month:  1\n",
            "year:  2011  month:  2\n",
            "year:  2011  month:  3\n",
            "year:  2011  month:  4\n",
            "year:  2011  month:  5\n",
            "year:  2011  month:  6\n",
            "year:  2011  month:  7\n",
            "year:  2011  month:  8\n",
            "year:  2011  month:  9\n",
            "year:  2011  month:  10\n",
            "year:  2011  month:  11\n",
            "year:  2011  month:  12\n",
            "year:  2012  month:  1\n",
            "year:  2012  month:  2\n",
            "year:  2012  month:  3\n",
            "year:  2012  month:  4\n",
            "year:  2012  month:  5\n",
            "year:  2012  month:  6\n",
            "year:  2012  month:  7\n",
            "year:  2012  month:  8\n",
            "year:  2012  month:  9\n",
            "year:  2012  month:  10\n",
            "year:  2012  month:  11\n",
            "year:  2012  month:  12\n",
            "year:  2013  month:  1\n",
            "year:  2013  month:  2\n",
            "year:  2013  month:  3\n",
            "year:  2013  month:  4\n",
            "year:  2013  month:  5\n",
            "year:  2013  month:  6\n",
            "year:  2013  month:  7\n",
            "year:  2013  month:  8\n",
            "year:  2013  month:  9\n",
            "year:  2013  month:  10\n",
            "year:  2013  month:  11\n",
            "year:  2013  month:  12\n",
            "year:  2014  month:  1\n",
            "year:  2014  month:  2\n",
            "year:  2014  month:  3\n",
            "year:  2014  month:  4\n",
            "year:  2014  month:  5\n",
            "year:  2014  month:  6\n",
            "year:  2014  month:  7\n",
            "year:  2014  month:  8\n",
            "year:  2014  month:  9\n",
            "year:  2014  month:  10\n",
            "year:  2014  month:  11\n",
            "year:  2014  month:  12\n",
            "year:  2015  month:  1\n",
            "year:  2015  month:  2\n",
            "year:  2015  month:  3\n",
            "year:  2015  month:  4\n",
            "year:  2015  month:  5\n",
            "year:  2015  month:  6\n",
            "year:  2015  month:  7\n",
            "year:  2015  month:  8\n",
            "year:  2015  month:  9\n",
            "year:  2015  month:  10\n",
            "year:  2015  month:  11\n",
            "year:  2015  month:  12\n",
            "year:  2016  month:  1\n",
            "year:  2016  month:  2\n",
            "year:  2016  month:  3\n",
            "year:  2016  month:  4\n",
            "year:  2016  month:  5\n",
            "year:  2016  month:  6\n",
            "year:  2016  month:  7\n",
            "year:  2016  month:  8\n",
            "year:  2016  month:  9\n"
          ],
          "name": "stdout"
        },
        {
          "output_type": "error",
          "ename": "OSError",
          "evalue": "ignored",
          "traceback": [
            "\u001b[0;31m---------------------------------------------------------------------------\u001b[0m",
            "\u001b[0;31mKeyError\u001b[0m                                  Traceback (most recent call last)",
            "\u001b[0;32m/usr/local/lib/python3.7/dist-packages/xarray/backends/file_manager.py\u001b[0m in \u001b[0;36m_acquire_with_cache_info\u001b[0;34m(self, needs_lock)\u001b[0m\n\u001b[1;32m    197\u001b[0m             \u001b[0;32mtry\u001b[0m\u001b[0;34m:\u001b[0m\u001b[0;34m\u001b[0m\u001b[0;34m\u001b[0m\u001b[0m\n\u001b[0;32m--> 198\u001b[0;31m                 \u001b[0mfile\u001b[0m \u001b[0;34m=\u001b[0m \u001b[0mself\u001b[0m\u001b[0;34m.\u001b[0m\u001b[0m_cache\u001b[0m\u001b[0;34m[\u001b[0m\u001b[0mself\u001b[0m\u001b[0;34m.\u001b[0m\u001b[0m_key\u001b[0m\u001b[0;34m]\u001b[0m\u001b[0;34m\u001b[0m\u001b[0;34m\u001b[0m\u001b[0m\n\u001b[0m\u001b[1;32m    199\u001b[0m             \u001b[0;32mexcept\u001b[0m \u001b[0mKeyError\u001b[0m\u001b[0;34m:\u001b[0m\u001b[0;34m\u001b[0m\u001b[0;34m\u001b[0m\u001b[0m\n",
            "\u001b[0;32m/usr/local/lib/python3.7/dist-packages/xarray/backends/lru_cache.py\u001b[0m in \u001b[0;36m__getitem__\u001b[0;34m(self, key)\u001b[0m\n\u001b[1;32m     52\u001b[0m         \u001b[0;32mwith\u001b[0m \u001b[0mself\u001b[0m\u001b[0;34m.\u001b[0m\u001b[0m_lock\u001b[0m\u001b[0;34m:\u001b[0m\u001b[0;34m\u001b[0m\u001b[0;34m\u001b[0m\u001b[0m\n\u001b[0;32m---> 53\u001b[0;31m             \u001b[0mvalue\u001b[0m \u001b[0;34m=\u001b[0m \u001b[0mself\u001b[0m\u001b[0;34m.\u001b[0m\u001b[0m_cache\u001b[0m\u001b[0;34m[\u001b[0m\u001b[0mkey\u001b[0m\u001b[0;34m]\u001b[0m\u001b[0;34m\u001b[0m\u001b[0;34m\u001b[0m\u001b[0m\n\u001b[0m\u001b[1;32m     54\u001b[0m             \u001b[0mself\u001b[0m\u001b[0;34m.\u001b[0m\u001b[0m_cache\u001b[0m\u001b[0;34m.\u001b[0m\u001b[0mmove_to_end\u001b[0m\u001b[0;34m(\u001b[0m\u001b[0mkey\u001b[0m\u001b[0;34m)\u001b[0m\u001b[0;34m\u001b[0m\u001b[0;34m\u001b[0m\u001b[0m\n",
            "\u001b[0;31mKeyError\u001b[0m: [<class 'netCDF4._netCDF4.Dataset'>, ('http://dapds00.nci.org.au/thredds/dodsC/gb6/BRAN/BRAN_2016/OFAM/ocean_eta_t_2016_09.nc',), 'r', (('clobber', True), ('diskless', False), ('format', 'NETCDF4'), ('persist', False))]",
            "\nDuring handling of the above exception, another exception occurred:\n",
            "\u001b[0;31mOSError\u001b[0m                                   Traceback (most recent call last)",
            "\u001b[0;32m<ipython-input-31-a80b9805534b>\u001b[0m in \u001b[0;36m<module>\u001b[0;34m()\u001b[0m\n\u001b[1;32m     14\u001b[0m     \u001b[0my\u001b[0m \u001b[0;34m=\u001b[0m \u001b[0mstr\u001b[0m\u001b[0;34m(\u001b[0m\u001b[0myear\u001b[0m\u001b[0;34m)\u001b[0m\u001b[0;34m\u001b[0m\u001b[0;34m\u001b[0m\u001b[0m\n\u001b[1;32m     15\u001b[0m     \u001b[0murl\u001b[0m \u001b[0;34m=\u001b[0m \u001b[0mbasic_url\u001b[0m \u001b[0;34m+\u001b[0m \u001b[0my\u001b[0m \u001b[0;34m+\u001b[0m \u001b[0;34m'_'\u001b[0m \u001b[0;34m+\u001b[0m \u001b[0mm\u001b[0m \u001b[0;34m+\u001b[0m \u001b[0;34m'.nc'\u001b[0m\u001b[0;34m\u001b[0m\u001b[0;34m\u001b[0m\u001b[0m\n\u001b[0;32m---> 16\u001b[0;31m     \u001b[0mdata\u001b[0m \u001b[0;34m=\u001b[0m \u001b[0mxarray\u001b[0m\u001b[0;34m.\u001b[0m\u001b[0mopen_dataset\u001b[0m\u001b[0;34m(\u001b[0m\u001b[0murl\u001b[0m\u001b[0;34m)\u001b[0m\u001b[0;34m\u001b[0m\u001b[0;34m\u001b[0m\u001b[0m\n\u001b[0m\u001b[1;32m     17\u001b[0m     \u001b[0mxt_ocean\u001b[0m \u001b[0;34m=\u001b[0m \u001b[0mnp\u001b[0m\u001b[0;34m.\u001b[0m\u001b[0marray\u001b[0m\u001b[0;34m(\u001b[0m\u001b[0mdata\u001b[0m\u001b[0;34m[\u001b[0m\u001b[0;34m'eta_t'\u001b[0m\u001b[0;34m]\u001b[0m\u001b[0;34m[\u001b[0m\u001b[0;34m'xt_ocean'\u001b[0m\u001b[0;34m]\u001b[0m\u001b[0;34m)\u001b[0m\u001b[0;34m\u001b[0m\u001b[0;34m\u001b[0m\u001b[0m\n\u001b[1;32m     18\u001b[0m     \u001b[0mxt_ocean_dataset\u001b[0m\u001b[0;34m.\u001b[0m\u001b[0mappend\u001b[0m\u001b[0;34m(\u001b[0m\u001b[0mxt_ocean\u001b[0m\u001b[0;34m)\u001b[0m\u001b[0;34m\u001b[0m\u001b[0;34m\u001b[0m\u001b[0m\n",
            "\u001b[0;32m/usr/local/lib/python3.7/dist-packages/xarray/backends/api.py\u001b[0m in \u001b[0;36mopen_dataset\u001b[0;34m(filename_or_obj, group, decode_cf, mask_and_scale, decode_times, autoclose, concat_characters, decode_coords, engine, chunks, lock, cache, drop_variables, backend_kwargs, use_cftime)\u001b[0m\n\u001b[1;32m    500\u001b[0m         \u001b[0;32mif\u001b[0m \u001b[0mengine\u001b[0m \u001b[0;34m==\u001b[0m \u001b[0;34m\"netcdf4\"\u001b[0m\u001b[0;34m:\u001b[0m\u001b[0;34m\u001b[0m\u001b[0;34m\u001b[0m\u001b[0m\n\u001b[1;32m    501\u001b[0m             store = backends.NetCDF4DataStore.open(\n\u001b[0;32m--> 502\u001b[0;31m                 \u001b[0mfilename_or_obj\u001b[0m\u001b[0;34m,\u001b[0m \u001b[0mgroup\u001b[0m\u001b[0;34m=\u001b[0m\u001b[0mgroup\u001b[0m\u001b[0;34m,\u001b[0m \u001b[0mlock\u001b[0m\u001b[0;34m=\u001b[0m\u001b[0mlock\u001b[0m\u001b[0;34m,\u001b[0m \u001b[0;34m**\u001b[0m\u001b[0mbackend_kwargs\u001b[0m\u001b[0;34m\u001b[0m\u001b[0;34m\u001b[0m\u001b[0m\n\u001b[0m\u001b[1;32m    503\u001b[0m             )\n\u001b[1;32m    504\u001b[0m         \u001b[0;32melif\u001b[0m \u001b[0mengine\u001b[0m \u001b[0;34m==\u001b[0m \u001b[0;34m\"scipy\"\u001b[0m\u001b[0;34m:\u001b[0m\u001b[0;34m\u001b[0m\u001b[0;34m\u001b[0m\u001b[0m\n",
            "\u001b[0;32m/usr/local/lib/python3.7/dist-packages/xarray/backends/netCDF4_.py\u001b[0m in \u001b[0;36mopen\u001b[0;34m(cls, filename, mode, format, group, clobber, diskless, persist, lock, lock_maker, autoclose)\u001b[0m\n\u001b[1;32m    356\u001b[0m             \u001b[0mnetCDF4\u001b[0m\u001b[0;34m.\u001b[0m\u001b[0mDataset\u001b[0m\u001b[0;34m,\u001b[0m \u001b[0mfilename\u001b[0m\u001b[0;34m,\u001b[0m \u001b[0mmode\u001b[0m\u001b[0;34m=\u001b[0m\u001b[0mmode\u001b[0m\u001b[0;34m,\u001b[0m \u001b[0mkwargs\u001b[0m\u001b[0;34m=\u001b[0m\u001b[0mkwargs\u001b[0m\u001b[0;34m\u001b[0m\u001b[0;34m\u001b[0m\u001b[0m\n\u001b[1;32m    357\u001b[0m         )\n\u001b[0;32m--> 358\u001b[0;31m         \u001b[0;32mreturn\u001b[0m \u001b[0mcls\u001b[0m\u001b[0;34m(\u001b[0m\u001b[0mmanager\u001b[0m\u001b[0;34m,\u001b[0m \u001b[0mgroup\u001b[0m\u001b[0;34m=\u001b[0m\u001b[0mgroup\u001b[0m\u001b[0;34m,\u001b[0m \u001b[0mmode\u001b[0m\u001b[0;34m=\u001b[0m\u001b[0mmode\u001b[0m\u001b[0;34m,\u001b[0m \u001b[0mlock\u001b[0m\u001b[0;34m=\u001b[0m\u001b[0mlock\u001b[0m\u001b[0;34m,\u001b[0m \u001b[0mautoclose\u001b[0m\u001b[0;34m=\u001b[0m\u001b[0mautoclose\u001b[0m\u001b[0;34m)\u001b[0m\u001b[0;34m\u001b[0m\u001b[0;34m\u001b[0m\u001b[0m\n\u001b[0m\u001b[1;32m    359\u001b[0m \u001b[0;34m\u001b[0m\u001b[0m\n\u001b[1;32m    360\u001b[0m     \u001b[0;32mdef\u001b[0m \u001b[0m_acquire\u001b[0m\u001b[0;34m(\u001b[0m\u001b[0mself\u001b[0m\u001b[0;34m,\u001b[0m \u001b[0mneeds_lock\u001b[0m\u001b[0;34m=\u001b[0m\u001b[0;32mTrue\u001b[0m\u001b[0;34m)\u001b[0m\u001b[0;34m:\u001b[0m\u001b[0;34m\u001b[0m\u001b[0;34m\u001b[0m\u001b[0m\n",
            "\u001b[0;32m/usr/local/lib/python3.7/dist-packages/xarray/backends/netCDF4_.py\u001b[0m in \u001b[0;36m__init__\u001b[0;34m(self, manager, group, mode, lock, autoclose)\u001b[0m\n\u001b[1;32m    312\u001b[0m         \u001b[0mself\u001b[0m\u001b[0;34m.\u001b[0m\u001b[0m_group\u001b[0m \u001b[0;34m=\u001b[0m \u001b[0mgroup\u001b[0m\u001b[0;34m\u001b[0m\u001b[0;34m\u001b[0m\u001b[0m\n\u001b[1;32m    313\u001b[0m         \u001b[0mself\u001b[0m\u001b[0;34m.\u001b[0m\u001b[0m_mode\u001b[0m \u001b[0;34m=\u001b[0m \u001b[0mmode\u001b[0m\u001b[0;34m\u001b[0m\u001b[0;34m\u001b[0m\u001b[0m\n\u001b[0;32m--> 314\u001b[0;31m         \u001b[0mself\u001b[0m\u001b[0;34m.\u001b[0m\u001b[0mformat\u001b[0m \u001b[0;34m=\u001b[0m \u001b[0mself\u001b[0m\u001b[0;34m.\u001b[0m\u001b[0mds\u001b[0m\u001b[0;34m.\u001b[0m\u001b[0mdata_model\u001b[0m\u001b[0;34m\u001b[0m\u001b[0;34m\u001b[0m\u001b[0m\n\u001b[0m\u001b[1;32m    315\u001b[0m         \u001b[0mself\u001b[0m\u001b[0;34m.\u001b[0m\u001b[0m_filename\u001b[0m \u001b[0;34m=\u001b[0m \u001b[0mself\u001b[0m\u001b[0;34m.\u001b[0m\u001b[0mds\u001b[0m\u001b[0;34m.\u001b[0m\u001b[0mfilepath\u001b[0m\u001b[0;34m(\u001b[0m\u001b[0;34m)\u001b[0m\u001b[0;34m\u001b[0m\u001b[0;34m\u001b[0m\u001b[0m\n\u001b[1;32m    316\u001b[0m         \u001b[0mself\u001b[0m\u001b[0;34m.\u001b[0m\u001b[0mis_remote\u001b[0m \u001b[0;34m=\u001b[0m \u001b[0mis_remote_uri\u001b[0m\u001b[0;34m(\u001b[0m\u001b[0mself\u001b[0m\u001b[0;34m.\u001b[0m\u001b[0m_filename\u001b[0m\u001b[0;34m)\u001b[0m\u001b[0;34m\u001b[0m\u001b[0;34m\u001b[0m\u001b[0m\n",
            "\u001b[0;32m/usr/local/lib/python3.7/dist-packages/xarray/backends/netCDF4_.py\u001b[0m in \u001b[0;36mds\u001b[0;34m(self)\u001b[0m\n\u001b[1;32m    365\u001b[0m     \u001b[0;34m@\u001b[0m\u001b[0mproperty\u001b[0m\u001b[0;34m\u001b[0m\u001b[0;34m\u001b[0m\u001b[0m\n\u001b[1;32m    366\u001b[0m     \u001b[0;32mdef\u001b[0m \u001b[0mds\u001b[0m\u001b[0;34m(\u001b[0m\u001b[0mself\u001b[0m\u001b[0;34m)\u001b[0m\u001b[0;34m:\u001b[0m\u001b[0;34m\u001b[0m\u001b[0;34m\u001b[0m\u001b[0m\n\u001b[0;32m--> 367\u001b[0;31m         \u001b[0;32mreturn\u001b[0m \u001b[0mself\u001b[0m\u001b[0;34m.\u001b[0m\u001b[0m_acquire\u001b[0m\u001b[0;34m(\u001b[0m\u001b[0;34m)\u001b[0m\u001b[0;34m\u001b[0m\u001b[0;34m\u001b[0m\u001b[0m\n\u001b[0m\u001b[1;32m    368\u001b[0m \u001b[0;34m\u001b[0m\u001b[0m\n\u001b[1;32m    369\u001b[0m     \u001b[0;32mdef\u001b[0m \u001b[0mopen_store_variable\u001b[0m\u001b[0;34m(\u001b[0m\u001b[0mself\u001b[0m\u001b[0;34m,\u001b[0m \u001b[0mname\u001b[0m\u001b[0;34m,\u001b[0m \u001b[0mvar\u001b[0m\u001b[0;34m)\u001b[0m\u001b[0;34m:\u001b[0m\u001b[0;34m\u001b[0m\u001b[0;34m\u001b[0m\u001b[0m\n",
            "\u001b[0;32m/usr/local/lib/python3.7/dist-packages/xarray/backends/netCDF4_.py\u001b[0m in \u001b[0;36m_acquire\u001b[0;34m(self, needs_lock)\u001b[0m\n\u001b[1;32m    359\u001b[0m \u001b[0;34m\u001b[0m\u001b[0m\n\u001b[1;32m    360\u001b[0m     \u001b[0;32mdef\u001b[0m \u001b[0m_acquire\u001b[0m\u001b[0;34m(\u001b[0m\u001b[0mself\u001b[0m\u001b[0;34m,\u001b[0m \u001b[0mneeds_lock\u001b[0m\u001b[0;34m=\u001b[0m\u001b[0;32mTrue\u001b[0m\u001b[0;34m)\u001b[0m\u001b[0;34m:\u001b[0m\u001b[0;34m\u001b[0m\u001b[0;34m\u001b[0m\u001b[0m\n\u001b[0;32m--> 361\u001b[0;31m         \u001b[0;32mwith\u001b[0m \u001b[0mself\u001b[0m\u001b[0;34m.\u001b[0m\u001b[0m_manager\u001b[0m\u001b[0;34m.\u001b[0m\u001b[0macquire_context\u001b[0m\u001b[0;34m(\u001b[0m\u001b[0mneeds_lock\u001b[0m\u001b[0;34m)\u001b[0m \u001b[0;32mas\u001b[0m \u001b[0mroot\u001b[0m\u001b[0;34m:\u001b[0m\u001b[0;34m\u001b[0m\u001b[0;34m\u001b[0m\u001b[0m\n\u001b[0m\u001b[1;32m    362\u001b[0m             \u001b[0mds\u001b[0m \u001b[0;34m=\u001b[0m \u001b[0m_nc4_require_group\u001b[0m\u001b[0;34m(\u001b[0m\u001b[0mroot\u001b[0m\u001b[0;34m,\u001b[0m \u001b[0mself\u001b[0m\u001b[0;34m.\u001b[0m\u001b[0m_group\u001b[0m\u001b[0;34m,\u001b[0m \u001b[0mself\u001b[0m\u001b[0;34m.\u001b[0m\u001b[0m_mode\u001b[0m\u001b[0;34m)\u001b[0m\u001b[0;34m\u001b[0m\u001b[0;34m\u001b[0m\u001b[0m\n\u001b[1;32m    363\u001b[0m         \u001b[0;32mreturn\u001b[0m \u001b[0mds\u001b[0m\u001b[0;34m\u001b[0m\u001b[0;34m\u001b[0m\u001b[0m\n",
            "\u001b[0;32m/usr/lib/python3.7/contextlib.py\u001b[0m in \u001b[0;36m__enter__\u001b[0;34m(self)\u001b[0m\n\u001b[1;32m    110\u001b[0m         \u001b[0;32mdel\u001b[0m \u001b[0mself\u001b[0m\u001b[0;34m.\u001b[0m\u001b[0margs\u001b[0m\u001b[0;34m,\u001b[0m \u001b[0mself\u001b[0m\u001b[0;34m.\u001b[0m\u001b[0mkwds\u001b[0m\u001b[0;34m,\u001b[0m \u001b[0mself\u001b[0m\u001b[0;34m.\u001b[0m\u001b[0mfunc\u001b[0m\u001b[0;34m\u001b[0m\u001b[0;34m\u001b[0m\u001b[0m\n\u001b[1;32m    111\u001b[0m         \u001b[0;32mtry\u001b[0m\u001b[0;34m:\u001b[0m\u001b[0;34m\u001b[0m\u001b[0;34m\u001b[0m\u001b[0m\n\u001b[0;32m--> 112\u001b[0;31m             \u001b[0;32mreturn\u001b[0m \u001b[0mnext\u001b[0m\u001b[0;34m(\u001b[0m\u001b[0mself\u001b[0m\u001b[0;34m.\u001b[0m\u001b[0mgen\u001b[0m\u001b[0;34m)\u001b[0m\u001b[0;34m\u001b[0m\u001b[0;34m\u001b[0m\u001b[0m\n\u001b[0m\u001b[1;32m    113\u001b[0m         \u001b[0;32mexcept\u001b[0m \u001b[0mStopIteration\u001b[0m\u001b[0;34m:\u001b[0m\u001b[0;34m\u001b[0m\u001b[0;34m\u001b[0m\u001b[0m\n\u001b[1;32m    114\u001b[0m             \u001b[0;32mraise\u001b[0m \u001b[0mRuntimeError\u001b[0m\u001b[0;34m(\u001b[0m\u001b[0;34m\"generator didn't yield\"\u001b[0m\u001b[0;34m)\u001b[0m \u001b[0;32mfrom\u001b[0m \u001b[0;32mNone\u001b[0m\u001b[0;34m\u001b[0m\u001b[0;34m\u001b[0m\u001b[0m\n",
            "\u001b[0;32m/usr/local/lib/python3.7/dist-packages/xarray/backends/file_manager.py\u001b[0m in \u001b[0;36macquire_context\u001b[0;34m(self, needs_lock)\u001b[0m\n\u001b[1;32m    184\u001b[0m     \u001b[0;32mdef\u001b[0m \u001b[0macquire_context\u001b[0m\u001b[0;34m(\u001b[0m\u001b[0mself\u001b[0m\u001b[0;34m,\u001b[0m \u001b[0mneeds_lock\u001b[0m\u001b[0;34m=\u001b[0m\u001b[0;32mTrue\u001b[0m\u001b[0;34m)\u001b[0m\u001b[0;34m:\u001b[0m\u001b[0;34m\u001b[0m\u001b[0;34m\u001b[0m\u001b[0m\n\u001b[1;32m    185\u001b[0m         \u001b[0;34m\"\"\"Context manager for acquiring a file.\"\"\"\u001b[0m\u001b[0;34m\u001b[0m\u001b[0;34m\u001b[0m\u001b[0m\n\u001b[0;32m--> 186\u001b[0;31m         \u001b[0mfile\u001b[0m\u001b[0;34m,\u001b[0m \u001b[0mcached\u001b[0m \u001b[0;34m=\u001b[0m \u001b[0mself\u001b[0m\u001b[0;34m.\u001b[0m\u001b[0m_acquire_with_cache_info\u001b[0m\u001b[0;34m(\u001b[0m\u001b[0mneeds_lock\u001b[0m\u001b[0;34m)\u001b[0m\u001b[0;34m\u001b[0m\u001b[0;34m\u001b[0m\u001b[0m\n\u001b[0m\u001b[1;32m    187\u001b[0m         \u001b[0;32mtry\u001b[0m\u001b[0;34m:\u001b[0m\u001b[0;34m\u001b[0m\u001b[0;34m\u001b[0m\u001b[0m\n\u001b[1;32m    188\u001b[0m             \u001b[0;32myield\u001b[0m \u001b[0mfile\u001b[0m\u001b[0;34m\u001b[0m\u001b[0;34m\u001b[0m\u001b[0m\n",
            "\u001b[0;32m/usr/local/lib/python3.7/dist-packages/xarray/backends/file_manager.py\u001b[0m in \u001b[0;36m_acquire_with_cache_info\u001b[0;34m(self, needs_lock)\u001b[0m\n\u001b[1;32m    202\u001b[0m                     \u001b[0mkwargs\u001b[0m \u001b[0;34m=\u001b[0m \u001b[0mkwargs\u001b[0m\u001b[0;34m.\u001b[0m\u001b[0mcopy\u001b[0m\u001b[0;34m(\u001b[0m\u001b[0;34m)\u001b[0m\u001b[0;34m\u001b[0m\u001b[0;34m\u001b[0m\u001b[0m\n\u001b[1;32m    203\u001b[0m                     \u001b[0mkwargs\u001b[0m\u001b[0;34m[\u001b[0m\u001b[0;34m\"mode\"\u001b[0m\u001b[0;34m]\u001b[0m \u001b[0;34m=\u001b[0m \u001b[0mself\u001b[0m\u001b[0;34m.\u001b[0m\u001b[0m_mode\u001b[0m\u001b[0;34m\u001b[0m\u001b[0;34m\u001b[0m\u001b[0m\n\u001b[0;32m--> 204\u001b[0;31m                 \u001b[0mfile\u001b[0m \u001b[0;34m=\u001b[0m \u001b[0mself\u001b[0m\u001b[0;34m.\u001b[0m\u001b[0m_opener\u001b[0m\u001b[0;34m(\u001b[0m\u001b[0;34m*\u001b[0m\u001b[0mself\u001b[0m\u001b[0;34m.\u001b[0m\u001b[0m_args\u001b[0m\u001b[0;34m,\u001b[0m \u001b[0;34m**\u001b[0m\u001b[0mkwargs\u001b[0m\u001b[0;34m)\u001b[0m\u001b[0;34m\u001b[0m\u001b[0;34m\u001b[0m\u001b[0m\n\u001b[0m\u001b[1;32m    205\u001b[0m                 \u001b[0;32mif\u001b[0m \u001b[0mself\u001b[0m\u001b[0;34m.\u001b[0m\u001b[0m_mode\u001b[0m \u001b[0;34m==\u001b[0m \u001b[0;34m\"w\"\u001b[0m\u001b[0;34m:\u001b[0m\u001b[0;34m\u001b[0m\u001b[0;34m\u001b[0m\u001b[0m\n\u001b[1;32m    206\u001b[0m                     \u001b[0;31m# ensure file doesn't get overriden when opened again\u001b[0m\u001b[0;34m\u001b[0m\u001b[0;34m\u001b[0m\u001b[0;34m\u001b[0m\u001b[0m\n",
            "\u001b[0;32msrc/netCDF4/_netCDF4.pyx\u001b[0m in \u001b[0;36mnetCDF4._netCDF4.Dataset.__init__\u001b[0;34m()\u001b[0m\n",
            "\u001b[0;32msrc/netCDF4/_netCDF4.pyx\u001b[0m in \u001b[0;36mnetCDF4._netCDF4._ensure_nc_success\u001b[0;34m()\u001b[0m\n",
            "\u001b[0;31mOSError\u001b[0m: [Errno -90] NetCDF: file not found: b'http://dapds00.nci.org.au/thredds/dodsC/gb6/BRAN/BRAN_2016/OFAM/ocean_eta_t_2016_09.nc'"
          ]
        }
      ]
    },
    {
      "cell_type": "code",
      "metadata": {
        "colab": {
          "base_uri": "https://localhost:8080/"
        },
        "id": "GYMbZjPxdIDa",
        "outputId": "554f8bde-883c-4c1b-ad3e-52ba72148f02"
      },
      "source": [
        "np.shape(xt_ocean_dataset)"
      ],
      "execution_count": null,
      "outputs": [
        {
          "output_type": "execute_result",
          "data": {
            "text/plain": [
              "(272, 3600)"
            ]
          },
          "metadata": {
            "tags": []
          },
          "execution_count": 32
        }
      ]
    },
    {
      "cell_type": "code",
      "metadata": {
        "colab": {
          "base_uri": "https://localhost:8080/"
        },
        "id": "8gAFlBrhVwSy",
        "outputId": "927bdd99-cf3a-40ba-d95d-a8910c004cb0"
      },
      "source": [
        "sum(xt_ocean_dataset[100]-xt_ocean_dataset[105])"
      ],
      "execution_count": null,
      "outputs": [
        {
          "output_type": "execute_result",
          "data": {
            "text/plain": [
              "0.0"
            ]
          },
          "metadata": {
            "tags": []
          },
          "execution_count": 40
        }
      ]
    },
    {
      "cell_type": "code",
      "metadata": {
        "id": "I7VKS8W2Vyab"
      },
      "source": [
        ""
      ],
      "execution_count": null,
      "outputs": []
    },
    {
      "cell_type": "code",
      "metadata": {
        "colab": {
          "base_uri": "https://localhost:8080/",
          "height": 174
        },
        "id": "WGwc_oqbVXDG",
        "outputId": "2563fe0e-31c7-4e1f-dc99-069637be4fcd"
      },
      "source": [
        "ocean_eta_t_list"
      ],
      "execution_count": null,
      "outputs": [
        {
          "output_type": "error",
          "ename": "NameError",
          "evalue": "ignored",
          "traceback": [
            "\u001b[0;31m---------------------------------------------------------------------------\u001b[0m",
            "\u001b[0;31mNameError\u001b[0m                                 Traceback (most recent call last)",
            "\u001b[0;32m<ipython-input-7-b7bb9986b6ab>\u001b[0m in \u001b[0;36m<module>\u001b[0;34m()\u001b[0m\n\u001b[0;32m----> 1\u001b[0;31m \u001b[0mocean_eta_t_list\u001b[0m\u001b[0;34m\u001b[0m\u001b[0;34m\u001b[0m\u001b[0m\n\u001b[0m",
            "\u001b[0;31mNameError\u001b[0m: name 'ocean_eta_t_list' is not defined"
          ]
        }
      ]
    },
    {
      "cell_type": "code",
      "metadata": {
        "id": "rrYPCODyKx8Q"
      },
      "source": [
        "import netCDF4,xarray,glob"
      ],
      "execution_count": null,
      "outputs": []
    },
    {
      "cell_type": "code",
      "metadata": {
        "id": "wk8ZdXvnSPf4"
      },
      "source": [
        "import numpy as np\n",
        "import pandas as pd\n",
        "import matplotlib.pyplot as plt"
      ],
      "execution_count": null,
      "outputs": []
    },
    {
      "cell_type": "code",
      "metadata": {
        "id": "xqhu_rwfRZLm"
      },
      "source": [
        "data = xarray.open_dataset(url)"
      ],
      "execution_count": null,
      "outputs": []
    },
    {
      "cell_type": "code",
      "metadata": {
        "colab": {
          "base_uri": "https://localhost:8080/",
          "height": 839
        },
        "id": "Pgh65GZIq8Rw",
        "outputId": "5fa75423-6b71-4004-880d-c91a78e3352d"
      },
      "source": [
        "data['eta_t']['Time']"
      ],
      "execution_count": null,
      "outputs": [
        {
          "output_type": "execute_result",
          "data": {
            "text/html": [
              "<div><svg style=\"position: absolute; width: 0; height: 0; overflow: hidden\">\n",
              "<defs>\n",
              "<symbol id=\"icon-database\" viewBox=\"0 0 32 32\">\n",
              "<title>Show/Hide data repr</title>\n",
              "<path d=\"M16 0c-8.837 0-16 2.239-16 5v4c0 2.761 7.163 5 16 5s16-2.239 16-5v-4c0-2.761-7.163-5-16-5z\"></path>\n",
              "<path d=\"M16 17c-8.837 0-16-2.239-16-5v6c0 2.761 7.163 5 16 5s16-2.239 16-5v-6c0 2.761-7.163 5-16 5z\"></path>\n",
              "<path d=\"M16 26c-8.837 0-16-2.239-16-5v6c0 2.761 7.163 5 16 5s16-2.239 16-5v-6c0 2.761-7.163 5-16 5z\"></path>\n",
              "</symbol>\n",
              "<symbol id=\"icon-file-text2\" viewBox=\"0 0 32 32\">\n",
              "<title>Show/Hide attributes</title>\n",
              "<path d=\"M28.681 7.159c-0.694-0.947-1.662-2.053-2.724-3.116s-2.169-2.030-3.116-2.724c-1.612-1.182-2.393-1.319-2.841-1.319h-15.5c-1.378 0-2.5 1.121-2.5 2.5v27c0 1.378 1.122 2.5 2.5 2.5h23c1.378 0 2.5-1.122 2.5-2.5v-19.5c0-0.448-0.137-1.23-1.319-2.841zM24.543 5.457c0.959 0.959 1.712 1.825 2.268 2.543h-4.811v-4.811c0.718 0.556 1.584 1.309 2.543 2.268zM28 29.5c0 0.271-0.229 0.5-0.5 0.5h-23c-0.271 0-0.5-0.229-0.5-0.5v-27c0-0.271 0.229-0.5 0.5-0.5 0 0 15.499-0 15.5 0v7c0 0.552 0.448 1 1 1h7v19.5z\"></path>\n",
              "<path d=\"M23 26h-14c-0.552 0-1-0.448-1-1s0.448-1 1-1h14c0.552 0 1 0.448 1 1s-0.448 1-1 1z\"></path>\n",
              "<path d=\"M23 22h-14c-0.552 0-1-0.448-1-1s0.448-1 1-1h14c0.552 0 1 0.448 1 1s-0.448 1-1 1z\"></path>\n",
              "<path d=\"M23 18h-14c-0.552 0-1-0.448-1-1s0.448-1 1-1h14c0.552 0 1 0.448 1 1s-0.448 1-1 1z\"></path>\n",
              "</symbol>\n",
              "</defs>\n",
              "</svg>\n",
              "<style>/* CSS stylesheet for displaying xarray objects in jupyterlab.\n",
              " *\n",
              " */\n",
              "\n",
              ":root {\n",
              "  --xr-font-color0: var(--jp-content-font-color0, rgba(0, 0, 0, 1));\n",
              "  --xr-font-color2: var(--jp-content-font-color2, rgba(0, 0, 0, 0.54));\n",
              "  --xr-font-color3: var(--jp-content-font-color3, rgba(0, 0, 0, 0.38));\n",
              "  --xr-border-color: var(--jp-border-color2, #e0e0e0);\n",
              "  --xr-disabled-color: var(--jp-layout-color3, #bdbdbd);\n",
              "  --xr-background-color: var(--jp-layout-color0, white);\n",
              "  --xr-background-color-row-even: var(--jp-layout-color1, white);\n",
              "  --xr-background-color-row-odd: var(--jp-layout-color2, #eeeeee);\n",
              "}\n",
              "\n",
              ".xr-wrap {\n",
              "  min-width: 300px;\n",
              "  max-width: 700px;\n",
              "}\n",
              "\n",
              ".xr-header {\n",
              "  padding-top: 6px;\n",
              "  padding-bottom: 6px;\n",
              "  margin-bottom: 4px;\n",
              "  border-bottom: solid 1px var(--xr-border-color);\n",
              "}\n",
              "\n",
              ".xr-header > div,\n",
              ".xr-header > ul {\n",
              "  display: inline;\n",
              "  margin-top: 0;\n",
              "  margin-bottom: 0;\n",
              "}\n",
              "\n",
              ".xr-obj-type,\n",
              ".xr-array-name {\n",
              "  margin-left: 2px;\n",
              "  margin-right: 10px;\n",
              "}\n",
              "\n",
              ".xr-obj-type {\n",
              "  color: var(--xr-font-color2);\n",
              "}\n",
              "\n",
              ".xr-sections {\n",
              "  padding-left: 0 !important;\n",
              "  display: grid;\n",
              "  grid-template-columns: 150px auto auto 1fr 20px 20px;\n",
              "}\n",
              "\n",
              ".xr-section-item {\n",
              "  display: contents;\n",
              "}\n",
              "\n",
              ".xr-section-item input {\n",
              "  display: none;\n",
              "}\n",
              "\n",
              ".xr-section-item input + label {\n",
              "  color: var(--xr-disabled-color);\n",
              "}\n",
              "\n",
              ".xr-section-item input:enabled + label {\n",
              "  cursor: pointer;\n",
              "  color: var(--xr-font-color2);\n",
              "}\n",
              "\n",
              ".xr-section-item input:enabled + label:hover {\n",
              "  color: var(--xr-font-color0);\n",
              "}\n",
              "\n",
              ".xr-section-summary {\n",
              "  grid-column: 1;\n",
              "  color: var(--xr-font-color2);\n",
              "  font-weight: 500;\n",
              "}\n",
              "\n",
              ".xr-section-summary > span {\n",
              "  display: inline-block;\n",
              "  padding-left: 0.5em;\n",
              "}\n",
              "\n",
              ".xr-section-summary-in:disabled + label {\n",
              "  color: var(--xr-font-color2);\n",
              "}\n",
              "\n",
              ".xr-section-summary-in + label:before {\n",
              "  display: inline-block;\n",
              "  content: '►';\n",
              "  font-size: 11px;\n",
              "  width: 15px;\n",
              "  text-align: center;\n",
              "}\n",
              "\n",
              ".xr-section-summary-in:disabled + label:before {\n",
              "  color: var(--xr-disabled-color);\n",
              "}\n",
              "\n",
              ".xr-section-summary-in:checked + label:before {\n",
              "  content: '▼';\n",
              "}\n",
              "\n",
              ".xr-section-summary-in:checked + label > span {\n",
              "  display: none;\n",
              "}\n",
              "\n",
              ".xr-section-summary,\n",
              ".xr-section-inline-details {\n",
              "  padding-top: 4px;\n",
              "  padding-bottom: 4px;\n",
              "}\n",
              "\n",
              ".xr-section-inline-details {\n",
              "  grid-column: 2 / -1;\n",
              "}\n",
              "\n",
              ".xr-section-details {\n",
              "  display: none;\n",
              "  grid-column: 1 / -1;\n",
              "  margin-bottom: 5px;\n",
              "}\n",
              "\n",
              ".xr-section-summary-in:checked ~ .xr-section-details {\n",
              "  display: contents;\n",
              "}\n",
              "\n",
              ".xr-array-wrap {\n",
              "  grid-column: 1 / -1;\n",
              "  display: grid;\n",
              "  grid-template-columns: 20px auto;\n",
              "}\n",
              "\n",
              ".xr-array-wrap > label {\n",
              "  grid-column: 1;\n",
              "  vertical-align: top;\n",
              "}\n",
              "\n",
              ".xr-preview {\n",
              "  color: var(--xr-font-color3);\n",
              "}\n",
              "\n",
              ".xr-array-preview,\n",
              ".xr-array-data {\n",
              "  padding: 0 5px !important;\n",
              "  grid-column: 2;\n",
              "}\n",
              "\n",
              ".xr-array-data,\n",
              ".xr-array-in:checked ~ .xr-array-preview {\n",
              "  display: none;\n",
              "}\n",
              "\n",
              ".xr-array-in:checked ~ .xr-array-data,\n",
              ".xr-array-preview {\n",
              "  display: inline-block;\n",
              "}\n",
              "\n",
              ".xr-dim-list {\n",
              "  display: inline-block !important;\n",
              "  list-style: none;\n",
              "  padding: 0 !important;\n",
              "  margin: 0;\n",
              "}\n",
              "\n",
              ".xr-dim-list li {\n",
              "  display: inline-block;\n",
              "  padding: 0;\n",
              "  margin: 0;\n",
              "}\n",
              "\n",
              ".xr-dim-list:before {\n",
              "  content: '(';\n",
              "}\n",
              "\n",
              ".xr-dim-list:after {\n",
              "  content: ')';\n",
              "}\n",
              "\n",
              ".xr-dim-list li:not(:last-child):after {\n",
              "  content: ',';\n",
              "  padding-right: 5px;\n",
              "}\n",
              "\n",
              ".xr-has-index {\n",
              "  font-weight: bold;\n",
              "}\n",
              "\n",
              ".xr-var-list,\n",
              ".xr-var-item {\n",
              "  display: contents;\n",
              "}\n",
              "\n",
              ".xr-var-item > div,\n",
              ".xr-var-item label,\n",
              ".xr-var-item > .xr-var-name span {\n",
              "  background-color: var(--xr-background-color-row-even);\n",
              "  margin-bottom: 0;\n",
              "}\n",
              "\n",
              ".xr-var-item > .xr-var-name:hover span {\n",
              "  padding-right: 5px;\n",
              "}\n",
              "\n",
              ".xr-var-list > li:nth-child(odd) > div,\n",
              ".xr-var-list > li:nth-child(odd) > label,\n",
              ".xr-var-list > li:nth-child(odd) > .xr-var-name span {\n",
              "  background-color: var(--xr-background-color-row-odd);\n",
              "}\n",
              "\n",
              ".xr-var-name {\n",
              "  grid-column: 1;\n",
              "}\n",
              "\n",
              ".xr-var-dims {\n",
              "  grid-column: 2;\n",
              "}\n",
              "\n",
              ".xr-var-dtype {\n",
              "  grid-column: 3;\n",
              "  text-align: right;\n",
              "  color: var(--xr-font-color2);\n",
              "}\n",
              "\n",
              ".xr-var-preview {\n",
              "  grid-column: 4;\n",
              "}\n",
              "\n",
              ".xr-var-name,\n",
              ".xr-var-dims,\n",
              ".xr-var-dtype,\n",
              ".xr-preview,\n",
              ".xr-attrs dt {\n",
              "  white-space: nowrap;\n",
              "  overflow: hidden;\n",
              "  text-overflow: ellipsis;\n",
              "  padding-right: 10px;\n",
              "}\n",
              "\n",
              ".xr-var-name:hover,\n",
              ".xr-var-dims:hover,\n",
              ".xr-var-dtype:hover,\n",
              ".xr-attrs dt:hover {\n",
              "  overflow: visible;\n",
              "  width: auto;\n",
              "  z-index: 1;\n",
              "}\n",
              "\n",
              ".xr-var-attrs,\n",
              ".xr-var-data {\n",
              "  display: none;\n",
              "  background-color: var(--xr-background-color) !important;\n",
              "  padding-bottom: 5px !important;\n",
              "}\n",
              "\n",
              ".xr-var-attrs-in:checked ~ .xr-var-attrs,\n",
              ".xr-var-data-in:checked ~ .xr-var-data {\n",
              "  display: block;\n",
              "}\n",
              "\n",
              ".xr-var-data > table {\n",
              "  float: right;\n",
              "}\n",
              "\n",
              ".xr-var-name span,\n",
              ".xr-var-data,\n",
              ".xr-attrs {\n",
              "  padding-left: 25px !important;\n",
              "}\n",
              "\n",
              ".xr-attrs,\n",
              ".xr-var-attrs,\n",
              ".xr-var-data {\n",
              "  grid-column: 1 / -1;\n",
              "}\n",
              "\n",
              "dl.xr-attrs {\n",
              "  padding: 0;\n",
              "  margin: 0;\n",
              "  display: grid;\n",
              "  grid-template-columns: 125px auto;\n",
              "}\n",
              "\n",
              ".xr-attrs dt, dd {\n",
              "  padding: 0;\n",
              "  margin: 0;\n",
              "  float: left;\n",
              "  padding-right: 10px;\n",
              "  width: auto;\n",
              "}\n",
              "\n",
              ".xr-attrs dt {\n",
              "  font-weight: normal;\n",
              "  grid-column: 1;\n",
              "}\n",
              "\n",
              ".xr-attrs dt:hover span {\n",
              "  display: inline-block;\n",
              "  background: var(--xr-background-color);\n",
              "  padding-right: 10px;\n",
              "}\n",
              "\n",
              ".xr-attrs dd {\n",
              "  grid-column: 2;\n",
              "  white-space: pre-wrap;\n",
              "  word-break: break-all;\n",
              "}\n",
              "\n",
              ".xr-icon-database,\n",
              ".xr-icon-file-text2 {\n",
              "  display: inline-block;\n",
              "  vertical-align: middle;\n",
              "  width: 1em;\n",
              "  height: 1.5em !important;\n",
              "  stroke-width: 0;\n",
              "  stroke: currentColor;\n",
              "  fill: currentColor;\n",
              "}\n",
              "</style><div class='xr-wrap'><div class='xr-header'><div class='xr-obj-type'>xarray.DataArray</div><div class='xr-array-name'>'Time'</div><ul class='xr-dim-list'><li><span class='xr-has-index'>Time</span>: 31</li></ul></div><ul class='xr-sections'><li class='xr-section-item'><div class='xr-array-wrap'><input id='section-bd70f2a0-d920-465f-bf19-3e64fd1735d5' class='xr-array-in' type='checkbox' ><label for='section-bd70f2a0-d920-465f-bf19-3e64fd1735d5' title='Show/hide data repr'><svg class='icon xr-icon-database'><use xlink:href='#icon-database'></use></svg></label><div class='xr-array-preview xr-preview'><span>2000-01-01 12:00:00 2000-01-02 12:00:00 ... 2000-01-31 12:00:00</span></div><pre class='xr-array-data'>array([cftime.DatetimeGregorian(2000, 1, 1, 12, 0, 0, 0),\n",
              "       cftime.DatetimeGregorian(2000, 1, 2, 12, 0, 0, 0),\n",
              "       cftime.DatetimeGregorian(2000, 1, 3, 12, 0, 0, 0),\n",
              "       cftime.DatetimeGregorian(2000, 1, 4, 12, 0, 0, 0),\n",
              "       cftime.DatetimeGregorian(2000, 1, 5, 12, 0, 0, 0),\n",
              "       cftime.DatetimeGregorian(2000, 1, 6, 12, 0, 0, 0),\n",
              "       cftime.DatetimeGregorian(2000, 1, 7, 12, 0, 0, 0),\n",
              "       cftime.DatetimeGregorian(2000, 1, 8, 12, 0, 0, 0),\n",
              "       cftime.DatetimeGregorian(2000, 1, 9, 12, 0, 0, 0),\n",
              "       cftime.DatetimeGregorian(2000, 1, 10, 12, 0, 0, 0),\n",
              "       cftime.DatetimeGregorian(2000, 1, 11, 12, 0, 0, 0),\n",
              "       cftime.DatetimeGregorian(2000, 1, 12, 12, 0, 0, 0),\n",
              "       cftime.DatetimeGregorian(2000, 1, 13, 12, 0, 0, 0),\n",
              "       cftime.DatetimeGregorian(2000, 1, 14, 12, 0, 0, 0),\n",
              "       cftime.DatetimeGregorian(2000, 1, 15, 12, 0, 0, 0),\n",
              "       cftime.DatetimeGregorian(2000, 1, 16, 12, 0, 0, 0),\n",
              "       cftime.DatetimeGregorian(2000, 1, 17, 12, 0, 0, 0),\n",
              "       cftime.DatetimeGregorian(2000, 1, 18, 12, 0, 0, 0),\n",
              "       cftime.DatetimeGregorian(2000, 1, 19, 12, 0, 0, 0),\n",
              "       cftime.DatetimeGregorian(2000, 1, 20, 12, 0, 0, 0),\n",
              "       cftime.DatetimeGregorian(2000, 1, 21, 12, 0, 0, 0),\n",
              "       cftime.DatetimeGregorian(2000, 1, 22, 12, 0, 0, 0),\n",
              "       cftime.DatetimeGregorian(2000, 1, 23, 12, 0, 0, 0),\n",
              "       cftime.DatetimeGregorian(2000, 1, 24, 12, 0, 0, 0),\n",
              "       cftime.DatetimeGregorian(2000, 1, 25, 12, 0, 0, 0),\n",
              "       cftime.DatetimeGregorian(2000, 1, 26, 12, 0, 0, 0),\n",
              "       cftime.DatetimeGregorian(2000, 1, 27, 12, 0, 0, 0),\n",
              "       cftime.DatetimeGregorian(2000, 1, 28, 12, 0, 0, 0),\n",
              "       cftime.DatetimeGregorian(2000, 1, 29, 12, 0, 0, 0),\n",
              "       cftime.DatetimeGregorian(2000, 1, 30, 12, 0, 0, 0),\n",
              "       cftime.DatetimeGregorian(2000, 1, 31, 12, 0, 0, 0)], dtype=object)</pre></div></li><li class='xr-section-item'><input id='section-2f022f17-0d5e-48f2-a20b-e8cf9dbae85d' class='xr-section-summary-in' type='checkbox'  checked><label for='section-2f022f17-0d5e-48f2-a20b-e8cf9dbae85d' class='xr-section-summary' >Coordinates: <span>(1)</span></label><div class='xr-section-inline-details'></div><div class='xr-section-details'><ul class='xr-var-list'><li class='xr-var-item'><div class='xr-var-name'><span class='xr-has-index'>Time</span></div><div class='xr-var-dims'>(Time)</div><div class='xr-var-dtype'>object</div><div class='xr-var-preview xr-preview'>2000-01-01 12:00:00 ... 2000-01-31 12:00:00</div><input id='attrs-b5665aaf-14fd-484c-9b3a-f3f9009ec732' class='xr-var-attrs-in' type='checkbox' ><label for='attrs-b5665aaf-14fd-484c-9b3a-f3f9009ec732' title='Show/Hide attributes'><svg class='icon xr-icon-file-text2'><use xlink:href='#icon-file-text2'></use></svg></label><input id='data-56647125-d510-496b-8ff4-d6acf52f38da' class='xr-var-data-in' type='checkbox'><label for='data-56647125-d510-496b-8ff4-d6acf52f38da' title='Show/Hide data repr'><svg class='icon xr-icon-database'><use xlink:href='#icon-database'></use></svg></label><div class='xr-var-attrs'><dl class='xr-attrs'><dt><span>long_name :</span></dt><dd>Time</dd><dt><span>cartesian_axis :</span></dt><dd>T</dd><dt><span>calendar_type :</span></dt><dd>GREGORIAN</dd><dt><span>bounds :</span></dt><dd>Time_bounds</dd></dl></div><pre class='xr-var-data'>array([cftime.DatetimeGregorian(2000, 1, 1, 12, 0, 0, 0),\n",
              "       cftime.DatetimeGregorian(2000, 1, 2, 12, 0, 0, 0),\n",
              "       cftime.DatetimeGregorian(2000, 1, 3, 12, 0, 0, 0),\n",
              "       cftime.DatetimeGregorian(2000, 1, 4, 12, 0, 0, 0),\n",
              "       cftime.DatetimeGregorian(2000, 1, 5, 12, 0, 0, 0),\n",
              "       cftime.DatetimeGregorian(2000, 1, 6, 12, 0, 0, 0),\n",
              "       cftime.DatetimeGregorian(2000, 1, 7, 12, 0, 0, 0),\n",
              "       cftime.DatetimeGregorian(2000, 1, 8, 12, 0, 0, 0),\n",
              "       cftime.DatetimeGregorian(2000, 1, 9, 12, 0, 0, 0),\n",
              "       cftime.DatetimeGregorian(2000, 1, 10, 12, 0, 0, 0),\n",
              "       cftime.DatetimeGregorian(2000, 1, 11, 12, 0, 0, 0),\n",
              "       cftime.DatetimeGregorian(2000, 1, 12, 12, 0, 0, 0),\n",
              "       cftime.DatetimeGregorian(2000, 1, 13, 12, 0, 0, 0),\n",
              "       cftime.DatetimeGregorian(2000, 1, 14, 12, 0, 0, 0),\n",
              "       cftime.DatetimeGregorian(2000, 1, 15, 12, 0, 0, 0),\n",
              "       cftime.DatetimeGregorian(2000, 1, 16, 12, 0, 0, 0),\n",
              "       cftime.DatetimeGregorian(2000, 1, 17, 12, 0, 0, 0),\n",
              "       cftime.DatetimeGregorian(2000, 1, 18, 12, 0, 0, 0),\n",
              "       cftime.DatetimeGregorian(2000, 1, 19, 12, 0, 0, 0),\n",
              "       cftime.DatetimeGregorian(2000, 1, 20, 12, 0, 0, 0),\n",
              "       cftime.DatetimeGregorian(2000, 1, 21, 12, 0, 0, 0),\n",
              "       cftime.DatetimeGregorian(2000, 1, 22, 12, 0, 0, 0),\n",
              "       cftime.DatetimeGregorian(2000, 1, 23, 12, 0, 0, 0),\n",
              "       cftime.DatetimeGregorian(2000, 1, 24, 12, 0, 0, 0),\n",
              "       cftime.DatetimeGregorian(2000, 1, 25, 12, 0, 0, 0),\n",
              "       cftime.DatetimeGregorian(2000, 1, 26, 12, 0, 0, 0),\n",
              "       cftime.DatetimeGregorian(2000, 1, 27, 12, 0, 0, 0),\n",
              "       cftime.DatetimeGregorian(2000, 1, 28, 12, 0, 0, 0),\n",
              "       cftime.DatetimeGregorian(2000, 1, 29, 12, 0, 0, 0),\n",
              "       cftime.DatetimeGregorian(2000, 1, 30, 12, 0, 0, 0),\n",
              "       cftime.DatetimeGregorian(2000, 1, 31, 12, 0, 0, 0)], dtype=object)</pre></li></ul></div></li><li class='xr-section-item'><input id='section-4fd60e8a-7080-42d4-bd6c-80e7a7c33aa5' class='xr-section-summary-in' type='checkbox'  checked><label for='section-4fd60e8a-7080-42d4-bd6c-80e7a7c33aa5' class='xr-section-summary' >Attributes: <span>(4)</span></label><div class='xr-section-inline-details'></div><div class='xr-section-details'><dl class='xr-attrs'><dt><span>long_name :</span></dt><dd>Time</dd><dt><span>cartesian_axis :</span></dt><dd>T</dd><dt><span>calendar_type :</span></dt><dd>GREGORIAN</dd><dt><span>bounds :</span></dt><dd>Time_bounds</dd></dl></div></li></ul></div></div>"
            ],
            "text/plain": [
              "<xarray.DataArray 'Time' (Time: 31)>\n",
              "array([cftime.DatetimeGregorian(2000, 1, 1, 12, 0, 0, 0),\n",
              "       cftime.DatetimeGregorian(2000, 1, 2, 12, 0, 0, 0),\n",
              "       cftime.DatetimeGregorian(2000, 1, 3, 12, 0, 0, 0),\n",
              "       cftime.DatetimeGregorian(2000, 1, 4, 12, 0, 0, 0),\n",
              "       cftime.DatetimeGregorian(2000, 1, 5, 12, 0, 0, 0),\n",
              "       cftime.DatetimeGregorian(2000, 1, 6, 12, 0, 0, 0),\n",
              "       cftime.DatetimeGregorian(2000, 1, 7, 12, 0, 0, 0),\n",
              "       cftime.DatetimeGregorian(2000, 1, 8, 12, 0, 0, 0),\n",
              "       cftime.DatetimeGregorian(2000, 1, 9, 12, 0, 0, 0),\n",
              "       cftime.DatetimeGregorian(2000, 1, 10, 12, 0, 0, 0),\n",
              "       cftime.DatetimeGregorian(2000, 1, 11, 12, 0, 0, 0),\n",
              "       cftime.DatetimeGregorian(2000, 1, 12, 12, 0, 0, 0),\n",
              "       cftime.DatetimeGregorian(2000, 1, 13, 12, 0, 0, 0),\n",
              "       cftime.DatetimeGregorian(2000, 1, 14, 12, 0, 0, 0),\n",
              "       cftime.DatetimeGregorian(2000, 1, 15, 12, 0, 0, 0),\n",
              "       cftime.DatetimeGregorian(2000, 1, 16, 12, 0, 0, 0),\n",
              "       cftime.DatetimeGregorian(2000, 1, 17, 12, 0, 0, 0),\n",
              "       cftime.DatetimeGregorian(2000, 1, 18, 12, 0, 0, 0),\n",
              "       cftime.DatetimeGregorian(2000, 1, 19, 12, 0, 0, 0),\n",
              "       cftime.DatetimeGregorian(2000, 1, 20, 12, 0, 0, 0),\n",
              "       cftime.DatetimeGregorian(2000, 1, 21, 12, 0, 0, 0),\n",
              "       cftime.DatetimeGregorian(2000, 1, 22, 12, 0, 0, 0),\n",
              "       cftime.DatetimeGregorian(2000, 1, 23, 12, 0, 0, 0),\n",
              "       cftime.DatetimeGregorian(2000, 1, 24, 12, 0, 0, 0),\n",
              "       cftime.DatetimeGregorian(2000, 1, 25, 12, 0, 0, 0),\n",
              "       cftime.DatetimeGregorian(2000, 1, 26, 12, 0, 0, 0),\n",
              "       cftime.DatetimeGregorian(2000, 1, 27, 12, 0, 0, 0),\n",
              "       cftime.DatetimeGregorian(2000, 1, 28, 12, 0, 0, 0),\n",
              "       cftime.DatetimeGregorian(2000, 1, 29, 12, 0, 0, 0),\n",
              "       cftime.DatetimeGregorian(2000, 1, 30, 12, 0, 0, 0),\n",
              "       cftime.DatetimeGregorian(2000, 1, 31, 12, 0, 0, 0)], dtype=object)\n",
              "Coordinates:\n",
              "  * Time     (Time) object 2000-01-01 12:00:00 ... 2000-01-31 12:00:00\n",
              "Attributes:\n",
              "    long_name:       Time\n",
              "    cartesian_axis:  T\n",
              "    calendar_type:   GREGORIAN\n",
              "    bounds:          Time_bounds"
            ]
          },
          "metadata": {
            "tags": []
          },
          "execution_count": 25
        }
      ]
    },
    {
      "cell_type": "code",
      "metadata": {
        "colab": {
          "base_uri": "https://localhost:8080/",
          "height": 193
        },
        "id": "r-WNsqWSRhTX",
        "outputId": "22ba97a0-9798-418b-bbf5-de9b93c6ac7c"
      },
      "source": [
        "xt_ocean = np.array(data['eta_t']['xt_ocean'])\n",
        "yt_ocean = np.array(data['eta_t']['yt_ocean'])"
      ],
      "execution_count": null,
      "outputs": [
        {
          "output_type": "error",
          "ename": "NameError",
          "evalue": "ignored",
          "traceback": [
            "\u001b[0;31m---------------------------------------------------------------------------\u001b[0m",
            "\u001b[0;31mNameError\u001b[0m                                 Traceback (most recent call last)",
            "\u001b[0;32m<ipython-input-3-986f33a62008>\u001b[0m in \u001b[0;36m<module>\u001b[0;34m()\u001b[0m\n\u001b[0;32m----> 1\u001b[0;31m \u001b[0mxt_ocean\u001b[0m \u001b[0;34m=\u001b[0m \u001b[0mnp\u001b[0m\u001b[0;34m.\u001b[0m\u001b[0marray\u001b[0m\u001b[0;34m(\u001b[0m\u001b[0mdata\u001b[0m\u001b[0;34m[\u001b[0m\u001b[0;34m'eta_t'\u001b[0m\u001b[0;34m]\u001b[0m\u001b[0;34m[\u001b[0m\u001b[0;34m'xt_ocean'\u001b[0m\u001b[0;34m]\u001b[0m\u001b[0;34m)\u001b[0m\u001b[0;34m\u001b[0m\u001b[0;34m\u001b[0m\u001b[0m\n\u001b[0m\u001b[1;32m      2\u001b[0m \u001b[0myt_ocean\u001b[0m \u001b[0;34m=\u001b[0m \u001b[0mnp\u001b[0m\u001b[0;34m.\u001b[0m\u001b[0marray\u001b[0m\u001b[0;34m(\u001b[0m\u001b[0mdata\u001b[0m\u001b[0;34m[\u001b[0m\u001b[0;34m'eta_t'\u001b[0m\u001b[0;34m]\u001b[0m\u001b[0;34m[\u001b[0m\u001b[0;34m'yt_ocean'\u001b[0m\u001b[0;34m]\u001b[0m\u001b[0;34m)\u001b[0m\u001b[0;34m\u001b[0m\u001b[0;34m\u001b[0m\u001b[0m\n",
            "\u001b[0;31mNameError\u001b[0m: name 'np' is not defined"
          ]
        }
      ]
    },
    {
      "cell_type": "code",
      "metadata": {
        "colab": {
          "base_uri": "https://localhost:8080/"
        },
        "id": "5rOOK7F3bM9E",
        "outputId": "59867905-fe3b-4377-d6d1-235ea30daa44"
      },
      "source": [
        "np.shape(xt_ocean)"
      ],
      "execution_count": null,
      "outputs": [
        {
          "output_type": "execute_result",
          "data": {
            "text/plain": [
              "(3600,)"
            ]
          },
          "metadata": {
            "tags": []
          },
          "execution_count": 13
        }
      ]
    },
    {
      "cell_type": "code",
      "metadata": {
        "colab": {
          "base_uri": "https://localhost:8080/"
        },
        "id": "8WSRLbY0hng1",
        "outputId": "321ff84b-93ff-47fd-9589-2746a1930ade"
      },
      "source": [
        "yt_ocean"
      ],
      "execution_count": null,
      "outputs": [
        {
          "output_type": "execute_result",
          "data": {
            "text/plain": [
              "array([-74.94999695, -74.84999847, -74.75      , ...,  74.75      ,\n",
              "        74.84999847,  74.94999695])"
            ]
          },
          "metadata": {
            "tags": []
          },
          "execution_count": 15
        }
      ]
    },
    {
      "cell_type": "code",
      "metadata": {
        "colab": {
          "base_uri": "https://localhost:8080/"
        },
        "id": "YFTJHYn0Wa-6",
        "outputId": "08a051fe-cd96-48ff-ee83-2068ac148b29"
      },
      "source": [
        ""
      ],
      "execution_count": null,
      "outputs": [
        {
          "output_type": "execute_result",
          "data": {
            "text/plain": [
              "array([[[        nan,         nan,         nan, ...,         nan,\n",
              "                 nan,         nan],\n",
              "        [        nan,         nan,         nan, ...,         nan,\n",
              "                 nan,         nan],\n",
              "        [        nan,         nan,         nan, ...,         nan,\n",
              "                 nan,         nan],\n",
              "        ...,\n",
              "        [-0.82399976, -0.82399976, -0.79348123, ..., -0.82399976,\n",
              "         -0.82399976, -0.82399976],\n",
              "        [-0.82399976, -0.79348123, -0.79348123, ..., -0.82399976,\n",
              "         -0.82399976, -0.82399976],\n",
              "        [-0.76296276, -0.76296276, -0.7324442 , ..., -0.76296276,\n",
              "         -0.76296276, -0.76296276]],\n",
              "\n",
              "       [[        nan,         nan,         nan, ...,         nan,\n",
              "                 nan,         nan],\n",
              "        [        nan,         nan,         nan, ...,         nan,\n",
              "                 nan,         nan],\n",
              "        [        nan,         nan,         nan, ...,         nan,\n",
              "                 nan,         nan],\n",
              "        ...,\n",
              "        [-0.79348123, -0.79348123, -0.79348123, ..., -0.82399976,\n",
              "         -0.82399976, -0.82399976],\n",
              "        [-0.79348123, -0.79348123, -0.79348123, ..., -0.82399976,\n",
              "         -0.82399976, -0.79348123],\n",
              "        [-0.7324442 , -0.7324442 , -0.7324442 , ..., -0.76296276,\n",
              "         -0.76296276, -0.7324442 ]],\n",
              "\n",
              "       [[        nan,         nan,         nan, ...,         nan,\n",
              "                 nan,         nan],\n",
              "        [        nan,         nan,         nan, ...,         nan,\n",
              "                 nan,         nan],\n",
              "        [        nan,         nan,         nan, ...,         nan,\n",
              "                 nan,         nan],\n",
              "        ...,\n",
              "        [-0.79348123, -0.79348123, -0.76296276, ..., -0.82399976,\n",
              "         -0.79348123, -0.79348123],\n",
              "        [-0.79348123, -0.76296276, -0.76296276, ..., -0.79348123,\n",
              "         -0.79348123, -0.79348123],\n",
              "        [-0.7324442 , -0.7324442 , -0.7019257 , ..., -0.7324442 ,\n",
              "         -0.7324442 , -0.7324442 ]],\n",
              "\n",
              "       ...,\n",
              "\n",
              "       [[        nan,         nan,         nan, ...,         nan,\n",
              "                 nan,         nan],\n",
              "        [        nan,         nan,         nan, ...,         nan,\n",
              "                 nan,         nan],\n",
              "        [        nan,         nan,         nan, ...,         nan,\n",
              "                 nan,         nan],\n",
              "        ...,\n",
              "        [-0.82399976, -0.79348123, -0.79348123, ..., -0.82399976,\n",
              "         -0.82399976, -0.82399976],\n",
              "        [-0.82399976, -0.82399976, -0.82399976, ..., -0.82399976,\n",
              "         -0.82399976, -0.82399976],\n",
              "        [-0.82399976, -0.82399976, -0.82399976, ..., -0.82399976,\n",
              "         -0.82399976, -0.82399976]],\n",
              "\n",
              "       [[        nan,         nan,         nan, ...,         nan,\n",
              "                 nan,         nan],\n",
              "        [        nan,         nan,         nan, ...,         nan,\n",
              "                 nan,         nan],\n",
              "        [        nan,         nan,         nan, ...,         nan,\n",
              "                 nan,         nan],\n",
              "        ...,\n",
              "        [-0.76296276, -0.76296276, -0.7324442 , ..., -0.76296276,\n",
              "         -0.76296276, -0.76296276],\n",
              "        [-0.76296276, -0.76296276, -0.76296276, ..., -0.76296276,\n",
              "         -0.76296276, -0.76296276],\n",
              "        [-0.7324442 , -0.76296276, -0.76296276, ..., -0.7324442 ,\n",
              "         -0.7324442 , -0.7324442 ]],\n",
              "\n",
              "       [[        nan,         nan,         nan, ...,         nan,\n",
              "                 nan,         nan],\n",
              "        [        nan,         nan,         nan, ...,         nan,\n",
              "                 nan,         nan],\n",
              "        [        nan,         nan,         nan, ...,         nan,\n",
              "                 nan,         nan],\n",
              "        ...,\n",
              "        [-0.79348123, -0.79348123, -0.76296276, ..., -0.79348123,\n",
              "         -0.79348123, -0.79348123],\n",
              "        [-0.76296276, -0.76296276, -0.76296276, ..., -0.76296276,\n",
              "         -0.76296276, -0.76296276],\n",
              "        [-0.76296276, -0.76296276, -0.76296276, ..., -0.76296276,\n",
              "         -0.76296276, -0.76296276]]], dtype=float32)"
            ]
          },
          "metadata": {
            "tags": []
          },
          "execution_count": 10
        }
      ]
    },
    {
      "cell_type": "code",
      "metadata": {
        "id": "Hf7VfQ0urbZ4"
      },
      "source": [
        "data2 = netCDF4.Dataset(url)"
      ],
      "execution_count": null,
      "outputs": []
    },
    {
      "cell_type": "code",
      "metadata": {
        "colab": {
          "base_uri": "https://localhost:8080/"
        },
        "id": "nrPwdEmDrefw",
        "outputId": "f8ca7859-f644-4019-d1a9-60d3fe1fb9fd"
      },
      "source": [
        "data2"
      ],
      "execution_count": null,
      "outputs": [
        {
          "output_type": "execute_result",
          "data": {
            "text/plain": [
              "<class 'netCDF4._netCDF4.Dataset'>\n",
              "root group (NETCDF3_CLASSIC data model, file format DAP2):\n",
              "    filename: TMP/ocean_ofam_2000_01_01.nc.0000\n",
              "    NumFilesInSet: 20\n",
              "    title: BRAN_2016\n",
              "    grid_type: regular\n",
              "    grid_tile: N/A\n",
              "    history: Tue Aug 30 16:45:45 2016: ncrcat -O ocean_eta_t_2000_01_01.nc ocean_eta_t_2000_01_02.nc ocean_eta_t_2000_01_03.nc ocean_eta_t_2000_01_04.nc ocean_eta_t_2000_01_05.nc ocean_eta_t_2000_01_06.nc ocean_eta_t_2000_01_07.nc ocean_eta_t_2000_01_08.nc ocean_eta_t_2000_01_09.nc ocean_eta_t_2000_01_10.nc ocean_eta_t_2000_01_11.nc ocean_eta_t_2000_01_12.nc ocean_eta_t_2000_01_13.nc ocean_eta_t_2000_01_14.nc ocean_eta_t_2000_01_15.nc ocean_eta_t_2000_01_16.nc ocean_eta_t_2000_01_17.nc ocean_eta_t_2000_01_18.nc ocean_eta_t_2000_01_19.nc ocean_eta_t_2000_01_20.nc ocean_eta_t_2000_01_21.nc ocean_eta_t_2000_01_22.nc ocean_eta_t_2000_01_23.nc ocean_eta_t_2000_01_24.nc ocean_eta_t_2000_01_25.nc ocean_eta_t_2000_01_26.nc ocean_eta_t_2000_01_27.nc ocean_eta_t_2000_01_28.nc ocean_eta_t_2000_01_29.nc ocean_eta_t_2000_01_30.nc ocean_eta_t_2000_01_31.nc /g/data1/p93/raf599/BRAN_2016/OFAM/ocean_eta_t_2000_01.nc\n",
              "    NCO: \"4.5.3\"\n",
              "    nco_openmp_thread_number: 1\n",
              "    DODS_EXTRA.Unlimited_Dimension: Time\n",
              "    dimensions(sizes): Time(31), nv(2), xt_ocean(3600), yt_ocean(1500)\n",
              "    variables(dimensions): float64 xt_ocean(xt_ocean), float64 yt_ocean(yt_ocean), float64 Time(Time), float64 nv(nv), float64 average_T1(Time), float64 average_T2(Time), float64 average_DT(Time), float64 Time_bounds(Time, nv), int16 eta_t(Time, yt_ocean, xt_ocean)\n",
              "    groups: "
            ]
          },
          "metadata": {
            "tags": []
          },
          "execution_count": 22
        }
      ]
    },
    {
      "cell_type": "code",
      "metadata": {
        "colab": {
          "base_uri": "https://localhost:8080/",
          "height": 315
        },
        "id": "GaG2bTKlbrYg",
        "outputId": "8d236fe9-47d7-4f77-a7f3-d881e378cbdf"
      },
      "source": [
        "d = data['eta_t']"
      ],
      "execution_count": null,
      "outputs": [
        {
          "output_type": "execute_result",
          "data": {
            "text/html": [
              "<div><svg style=\"position: absolute; width: 0; height: 0; overflow: hidden\">\n",
              "<defs>\n",
              "<symbol id=\"icon-database\" viewBox=\"0 0 32 32\">\n",
              "<title>Show/Hide data repr</title>\n",
              "<path d=\"M16 0c-8.837 0-16 2.239-16 5v4c0 2.761 7.163 5 16 5s16-2.239 16-5v-4c0-2.761-7.163-5-16-5z\"></path>\n",
              "<path d=\"M16 17c-8.837 0-16-2.239-16-5v6c0 2.761 7.163 5 16 5s16-2.239 16-5v-6c0 2.761-7.163 5-16 5z\"></path>\n",
              "<path d=\"M16 26c-8.837 0-16-2.239-16-5v6c0 2.761 7.163 5 16 5s16-2.239 16-5v-6c0 2.761-7.163 5-16 5z\"></path>\n",
              "</symbol>\n",
              "<symbol id=\"icon-file-text2\" viewBox=\"0 0 32 32\">\n",
              "<title>Show/Hide attributes</title>\n",
              "<path d=\"M28.681 7.159c-0.694-0.947-1.662-2.053-2.724-3.116s-2.169-2.030-3.116-2.724c-1.612-1.182-2.393-1.319-2.841-1.319h-15.5c-1.378 0-2.5 1.121-2.5 2.5v27c0 1.378 1.122 2.5 2.5 2.5h23c1.378 0 2.5-1.122 2.5-2.5v-19.5c0-0.448-0.137-1.23-1.319-2.841zM24.543 5.457c0.959 0.959 1.712 1.825 2.268 2.543h-4.811v-4.811c0.718 0.556 1.584 1.309 2.543 2.268zM28 29.5c0 0.271-0.229 0.5-0.5 0.5h-23c-0.271 0-0.5-0.229-0.5-0.5v-27c0-0.271 0.229-0.5 0.5-0.5 0 0 15.499-0 15.5 0v7c0 0.552 0.448 1 1 1h7v19.5z\"></path>\n",
              "<path d=\"M23 26h-14c-0.552 0-1-0.448-1-1s0.448-1 1-1h14c0.552 0 1 0.448 1 1s-0.448 1-1 1z\"></path>\n",
              "<path d=\"M23 22h-14c-0.552 0-1-0.448-1-1s0.448-1 1-1h14c0.552 0 1 0.448 1 1s-0.448 1-1 1z\"></path>\n",
              "<path d=\"M23 18h-14c-0.552 0-1-0.448-1-1s0.448-1 1-1h14c0.552 0 1 0.448 1 1s-0.448 1-1 1z\"></path>\n",
              "</symbol>\n",
              "</defs>\n",
              "</svg>\n",
              "<style>/* CSS stylesheet for displaying xarray objects in jupyterlab.\n",
              " *\n",
              " */\n",
              "\n",
              ":root {\n",
              "  --xr-font-color0: var(--jp-content-font-color0, rgba(0, 0, 0, 1));\n",
              "  --xr-font-color2: var(--jp-content-font-color2, rgba(0, 0, 0, 0.54));\n",
              "  --xr-font-color3: var(--jp-content-font-color3, rgba(0, 0, 0, 0.38));\n",
              "  --xr-border-color: var(--jp-border-color2, #e0e0e0);\n",
              "  --xr-disabled-color: var(--jp-layout-color3, #bdbdbd);\n",
              "  --xr-background-color: var(--jp-layout-color0, white);\n",
              "  --xr-background-color-row-even: var(--jp-layout-color1, white);\n",
              "  --xr-background-color-row-odd: var(--jp-layout-color2, #eeeeee);\n",
              "}\n",
              "\n",
              ".xr-wrap {\n",
              "  min-width: 300px;\n",
              "  max-width: 700px;\n",
              "}\n",
              "\n",
              ".xr-header {\n",
              "  padding-top: 6px;\n",
              "  padding-bottom: 6px;\n",
              "  margin-bottom: 4px;\n",
              "  border-bottom: solid 1px var(--xr-border-color);\n",
              "}\n",
              "\n",
              ".xr-header > div,\n",
              ".xr-header > ul {\n",
              "  display: inline;\n",
              "  margin-top: 0;\n",
              "  margin-bottom: 0;\n",
              "}\n",
              "\n",
              ".xr-obj-type,\n",
              ".xr-array-name {\n",
              "  margin-left: 2px;\n",
              "  margin-right: 10px;\n",
              "}\n",
              "\n",
              ".xr-obj-type {\n",
              "  color: var(--xr-font-color2);\n",
              "}\n",
              "\n",
              ".xr-sections {\n",
              "  padding-left: 0 !important;\n",
              "  display: grid;\n",
              "  grid-template-columns: 150px auto auto 1fr 20px 20px;\n",
              "}\n",
              "\n",
              ".xr-section-item {\n",
              "  display: contents;\n",
              "}\n",
              "\n",
              ".xr-section-item input {\n",
              "  display: none;\n",
              "}\n",
              "\n",
              ".xr-section-item input + label {\n",
              "  color: var(--xr-disabled-color);\n",
              "}\n",
              "\n",
              ".xr-section-item input:enabled + label {\n",
              "  cursor: pointer;\n",
              "  color: var(--xr-font-color2);\n",
              "}\n",
              "\n",
              ".xr-section-item input:enabled + label:hover {\n",
              "  color: var(--xr-font-color0);\n",
              "}\n",
              "\n",
              ".xr-section-summary {\n",
              "  grid-column: 1;\n",
              "  color: var(--xr-font-color2);\n",
              "  font-weight: 500;\n",
              "}\n",
              "\n",
              ".xr-section-summary > span {\n",
              "  display: inline-block;\n",
              "  padding-left: 0.5em;\n",
              "}\n",
              "\n",
              ".xr-section-summary-in:disabled + label {\n",
              "  color: var(--xr-font-color2);\n",
              "}\n",
              "\n",
              ".xr-section-summary-in + label:before {\n",
              "  display: inline-block;\n",
              "  content: '►';\n",
              "  font-size: 11px;\n",
              "  width: 15px;\n",
              "  text-align: center;\n",
              "}\n",
              "\n",
              ".xr-section-summary-in:disabled + label:before {\n",
              "  color: var(--xr-disabled-color);\n",
              "}\n",
              "\n",
              ".xr-section-summary-in:checked + label:before {\n",
              "  content: '▼';\n",
              "}\n",
              "\n",
              ".xr-section-summary-in:checked + label > span {\n",
              "  display: none;\n",
              "}\n",
              "\n",
              ".xr-section-summary,\n",
              ".xr-section-inline-details {\n",
              "  padding-top: 4px;\n",
              "  padding-bottom: 4px;\n",
              "}\n",
              "\n",
              ".xr-section-inline-details {\n",
              "  grid-column: 2 / -1;\n",
              "}\n",
              "\n",
              ".xr-section-details {\n",
              "  display: none;\n",
              "  grid-column: 1 / -1;\n",
              "  margin-bottom: 5px;\n",
              "}\n",
              "\n",
              ".xr-section-summary-in:checked ~ .xr-section-details {\n",
              "  display: contents;\n",
              "}\n",
              "\n",
              ".xr-array-wrap {\n",
              "  grid-column: 1 / -1;\n",
              "  display: grid;\n",
              "  grid-template-columns: 20px auto;\n",
              "}\n",
              "\n",
              ".xr-array-wrap > label {\n",
              "  grid-column: 1;\n",
              "  vertical-align: top;\n",
              "}\n",
              "\n",
              ".xr-preview {\n",
              "  color: var(--xr-font-color3);\n",
              "}\n",
              "\n",
              ".xr-array-preview,\n",
              ".xr-array-data {\n",
              "  padding: 0 5px !important;\n",
              "  grid-column: 2;\n",
              "}\n",
              "\n",
              ".xr-array-data,\n",
              ".xr-array-in:checked ~ .xr-array-preview {\n",
              "  display: none;\n",
              "}\n",
              "\n",
              ".xr-array-in:checked ~ .xr-array-data,\n",
              ".xr-array-preview {\n",
              "  display: inline-block;\n",
              "}\n",
              "\n",
              ".xr-dim-list {\n",
              "  display: inline-block !important;\n",
              "  list-style: none;\n",
              "  padding: 0 !important;\n",
              "  margin: 0;\n",
              "}\n",
              "\n",
              ".xr-dim-list li {\n",
              "  display: inline-block;\n",
              "  padding: 0;\n",
              "  margin: 0;\n",
              "}\n",
              "\n",
              ".xr-dim-list:before {\n",
              "  content: '(';\n",
              "}\n",
              "\n",
              ".xr-dim-list:after {\n",
              "  content: ')';\n",
              "}\n",
              "\n",
              ".xr-dim-list li:not(:last-child):after {\n",
              "  content: ',';\n",
              "  padding-right: 5px;\n",
              "}\n",
              "\n",
              ".xr-has-index {\n",
              "  font-weight: bold;\n",
              "}\n",
              "\n",
              ".xr-var-list,\n",
              ".xr-var-item {\n",
              "  display: contents;\n",
              "}\n",
              "\n",
              ".xr-var-item > div,\n",
              ".xr-var-item label,\n",
              ".xr-var-item > .xr-var-name span {\n",
              "  background-color: var(--xr-background-color-row-even);\n",
              "  margin-bottom: 0;\n",
              "}\n",
              "\n",
              ".xr-var-item > .xr-var-name:hover span {\n",
              "  padding-right: 5px;\n",
              "}\n",
              "\n",
              ".xr-var-list > li:nth-child(odd) > div,\n",
              ".xr-var-list > li:nth-child(odd) > label,\n",
              ".xr-var-list > li:nth-child(odd) > .xr-var-name span {\n",
              "  background-color: var(--xr-background-color-row-odd);\n",
              "}\n",
              "\n",
              ".xr-var-name {\n",
              "  grid-column: 1;\n",
              "}\n",
              "\n",
              ".xr-var-dims {\n",
              "  grid-column: 2;\n",
              "}\n",
              "\n",
              ".xr-var-dtype {\n",
              "  grid-column: 3;\n",
              "  text-align: right;\n",
              "  color: var(--xr-font-color2);\n",
              "}\n",
              "\n",
              ".xr-var-preview {\n",
              "  grid-column: 4;\n",
              "}\n",
              "\n",
              ".xr-var-name,\n",
              ".xr-var-dims,\n",
              ".xr-var-dtype,\n",
              ".xr-preview,\n",
              ".xr-attrs dt {\n",
              "  white-space: nowrap;\n",
              "  overflow: hidden;\n",
              "  text-overflow: ellipsis;\n",
              "  padding-right: 10px;\n",
              "}\n",
              "\n",
              ".xr-var-name:hover,\n",
              ".xr-var-dims:hover,\n",
              ".xr-var-dtype:hover,\n",
              ".xr-attrs dt:hover {\n",
              "  overflow: visible;\n",
              "  width: auto;\n",
              "  z-index: 1;\n",
              "}\n",
              "\n",
              ".xr-var-attrs,\n",
              ".xr-var-data {\n",
              "  display: none;\n",
              "  background-color: var(--xr-background-color) !important;\n",
              "  padding-bottom: 5px !important;\n",
              "}\n",
              "\n",
              ".xr-var-attrs-in:checked ~ .xr-var-attrs,\n",
              ".xr-var-data-in:checked ~ .xr-var-data {\n",
              "  display: block;\n",
              "}\n",
              "\n",
              ".xr-var-data > table {\n",
              "  float: right;\n",
              "}\n",
              "\n",
              ".xr-var-name span,\n",
              ".xr-var-data,\n",
              ".xr-attrs {\n",
              "  padding-left: 25px !important;\n",
              "}\n",
              "\n",
              ".xr-attrs,\n",
              ".xr-var-attrs,\n",
              ".xr-var-data {\n",
              "  grid-column: 1 / -1;\n",
              "}\n",
              "\n",
              "dl.xr-attrs {\n",
              "  padding: 0;\n",
              "  margin: 0;\n",
              "  display: grid;\n",
              "  grid-template-columns: 125px auto;\n",
              "}\n",
              "\n",
              ".xr-attrs dt, dd {\n",
              "  padding: 0;\n",
              "  margin: 0;\n",
              "  float: left;\n",
              "  padding-right: 10px;\n",
              "  width: auto;\n",
              "}\n",
              "\n",
              ".xr-attrs dt {\n",
              "  font-weight: normal;\n",
              "  grid-column: 1;\n",
              "}\n",
              "\n",
              ".xr-attrs dt:hover span {\n",
              "  display: inline-block;\n",
              "  background: var(--xr-background-color);\n",
              "  padding-right: 10px;\n",
              "}\n",
              "\n",
              ".xr-attrs dd {\n",
              "  grid-column: 2;\n",
              "  white-space: pre-wrap;\n",
              "  word-break: break-all;\n",
              "}\n",
              "\n",
              ".xr-icon-database,\n",
              ".xr-icon-file-text2 {\n",
              "  display: inline-block;\n",
              "  vertical-align: middle;\n",
              "  width: 1em;\n",
              "  height: 1.5em !important;\n",
              "  stroke-width: 0;\n",
              "  stroke: currentColor;\n",
              "  fill: currentColor;\n",
              "}\n",
              "</style><div class='xr-wrap'><div class='xr-header'><div class='xr-obj-type'>xarray.DataArray</div><div class='xr-array-name'>'eta_t'</div><ul class='xr-dim-list'><li><span class='xr-has-index'>Time</span>: 31</li><li><span class='xr-has-index'>yt_ocean</span>: 1500</li><li><span class='xr-has-index'>xt_ocean</span>: 3600</li></ul></div><ul class='xr-sections'><li class='xr-section-item'><div class='xr-array-wrap'><input id='section-914a32af-4db7-4cc2-a188-f2e2ff193b04' class='xr-array-in' type='checkbox' ><label for='section-914a32af-4db7-4cc2-a188-f2e2ff193b04' title='Show/hide data repr'><svg class='icon xr-icon-database'><use xlink:href='#icon-database'></use></svg></label><div class='xr-array-preview xr-preview'><span>nan nan nan nan ... -0.76296276 -0.76296276 -0.76296276 -0.76296276</span></div><pre class='xr-array-data'>array([[[      nan,       nan, ...,       nan,       nan],\n",
              "        [      nan,       nan, ...,       nan,       nan],\n",
              "        ...,\n",
              "        [-0.824   , -0.793481, ..., -0.824   , -0.824   ],\n",
              "        [-0.762963, -0.762963, ..., -0.762963, -0.762963]],\n",
              "\n",
              "       [[      nan,       nan, ...,       nan,       nan],\n",
              "        [      nan,       nan, ...,       nan,       nan],\n",
              "        ...,\n",
              "        [-0.793481, -0.793481, ..., -0.824   , -0.793481],\n",
              "        [-0.732444, -0.732444, ..., -0.762963, -0.732444]],\n",
              "\n",
              "       ...,\n",
              "\n",
              "       [[      nan,       nan, ...,       nan,       nan],\n",
              "        [      nan,       nan, ...,       nan,       nan],\n",
              "        ...,\n",
              "        [-0.762963, -0.762963, ..., -0.762963, -0.762963],\n",
              "        [-0.732444, -0.762963, ..., -0.732444, -0.732444]],\n",
              "\n",
              "       [[      nan,       nan, ...,       nan,       nan],\n",
              "        [      nan,       nan, ...,       nan,       nan],\n",
              "        ...,\n",
              "        [-0.762963, -0.762963, ..., -0.762963, -0.762963],\n",
              "        [-0.762963, -0.762963, ..., -0.762963, -0.762963]]], dtype=float32)</pre></div></li><li class='xr-section-item'><input id='section-a256d5f9-648f-4e39-816f-c8a49832e082' class='xr-section-summary-in' type='checkbox'  checked><label for='section-a256d5f9-648f-4e39-816f-c8a49832e082' class='xr-section-summary' >Coordinates: <span>(3)</span></label><div class='xr-section-inline-details'></div><div class='xr-section-details'><ul class='xr-var-list'><li class='xr-var-item'><div class='xr-var-name'><span class='xr-has-index'>xt_ocean</span></div><div class='xr-var-dims'>(xt_ocean)</div><div class='xr-var-dtype'>float64</div><div class='xr-var-preview xr-preview'>0.05 0.15 0.25 ... 359.9 360.0</div><input id='attrs-cb562196-60d4-4bc3-ad13-196c6c40a8e1' class='xr-var-attrs-in' type='checkbox' ><label for='attrs-cb562196-60d4-4bc3-ad13-196c6c40a8e1' title='Show/Hide attributes'><svg class='icon xr-icon-file-text2'><use xlink:href='#icon-file-text2'></use></svg></label><input id='data-1c9c1a7c-095e-4ae2-a80c-1f66b0aa892b' class='xr-var-data-in' type='checkbox'><label for='data-1c9c1a7c-095e-4ae2-a80c-1f66b0aa892b' title='Show/Hide data repr'><svg class='icon xr-icon-database'><use xlink:href='#icon-database'></use></svg></label><div class='xr-var-attrs'><dl class='xr-attrs'><dt><span>long_name :</span></dt><dd>tcell longitude</dd><dt><span>units :</span></dt><dd>degrees_E</dd><dt><span>cartesian_axis :</span></dt><dd>X</dd><dt><span>domain_decomposition :</span></dt><dd>[   1 3600    1 1800]</dd></dl></div><pre class='xr-var-data'>array([5.0000e-02, 1.5000e-01, 2.5000e-01, ..., 3.5975e+02, 3.5985e+02,\n",
              "       3.5995e+02])</pre></li><li class='xr-var-item'><div class='xr-var-name'><span class='xr-has-index'>yt_ocean</span></div><div class='xr-var-dims'>(yt_ocean)</div><div class='xr-var-dtype'>float64</div><div class='xr-var-preview xr-preview'>-74.95 -74.85 ... 74.85 74.95</div><input id='attrs-834ac65b-0166-4292-9b0c-3ba0368e6292' class='xr-var-attrs-in' type='checkbox' ><label for='attrs-834ac65b-0166-4292-9b0c-3ba0368e6292' title='Show/Hide attributes'><svg class='icon xr-icon-file-text2'><use xlink:href='#icon-file-text2'></use></svg></label><input id='data-7310a31b-dab5-4162-b6f4-fea024e6e4e1' class='xr-var-data-in' type='checkbox'><label for='data-7310a31b-dab5-4162-b6f4-fea024e6e4e1' title='Show/Hide data repr'><svg class='icon xr-icon-database'><use xlink:href='#icon-database'></use></svg></label><div class='xr-var-attrs'><dl class='xr-attrs'><dt><span>long_name :</span></dt><dd>tcell latitude</dd><dt><span>units :</span></dt><dd>degrees_N</dd><dt><span>cartesian_axis :</span></dt><dd>Y</dd><dt><span>domain_decomposition :</span></dt><dd>[   1 1500    1  150]</dd></dl></div><pre class='xr-var-data'>array([-74.949997, -74.849998, -74.75    , ...,  74.75    ,  74.849998,\n",
              "        74.949997])</pre></li><li class='xr-var-item'><div class='xr-var-name'><span class='xr-has-index'>Time</span></div><div class='xr-var-dims'>(Time)</div><div class='xr-var-dtype'>object</div><div class='xr-var-preview xr-preview'>2000-01-01 12:00:00 ... 2000-01-31 12:00:00</div><input id='attrs-18859614-da24-4287-b247-bf06583982fb' class='xr-var-attrs-in' type='checkbox' ><label for='attrs-18859614-da24-4287-b247-bf06583982fb' title='Show/Hide attributes'><svg class='icon xr-icon-file-text2'><use xlink:href='#icon-file-text2'></use></svg></label><input id='data-a432548d-2968-4b7d-9237-ba9c9fc7cfba' class='xr-var-data-in' type='checkbox'><label for='data-a432548d-2968-4b7d-9237-ba9c9fc7cfba' title='Show/Hide data repr'><svg class='icon xr-icon-database'><use xlink:href='#icon-database'></use></svg></label><div class='xr-var-attrs'><dl class='xr-attrs'><dt><span>long_name :</span></dt><dd>Time</dd><dt><span>cartesian_axis :</span></dt><dd>T</dd><dt><span>calendar_type :</span></dt><dd>GREGORIAN</dd><dt><span>bounds :</span></dt><dd>Time_bounds</dd></dl></div><pre class='xr-var-data'>array([cftime.DatetimeGregorian(2000, 1, 1, 12, 0, 0, 0),\n",
              "       cftime.DatetimeGregorian(2000, 1, 2, 12, 0, 0, 0),\n",
              "       cftime.DatetimeGregorian(2000, 1, 3, 12, 0, 0, 0),\n",
              "       cftime.DatetimeGregorian(2000, 1, 4, 12, 0, 0, 0),\n",
              "       cftime.DatetimeGregorian(2000, 1, 5, 12, 0, 0, 0),\n",
              "       cftime.DatetimeGregorian(2000, 1, 6, 12, 0, 0, 0),\n",
              "       cftime.DatetimeGregorian(2000, 1, 7, 12, 0, 0, 0),\n",
              "       cftime.DatetimeGregorian(2000, 1, 8, 12, 0, 0, 0),\n",
              "       cftime.DatetimeGregorian(2000, 1, 9, 12, 0, 0, 0),\n",
              "       cftime.DatetimeGregorian(2000, 1, 10, 12, 0, 0, 0),\n",
              "       cftime.DatetimeGregorian(2000, 1, 11, 12, 0, 0, 0),\n",
              "       cftime.DatetimeGregorian(2000, 1, 12, 12, 0, 0, 0),\n",
              "       cftime.DatetimeGregorian(2000, 1, 13, 12, 0, 0, 0),\n",
              "       cftime.DatetimeGregorian(2000, 1, 14, 12, 0, 0, 0),\n",
              "       cftime.DatetimeGregorian(2000, 1, 15, 12, 0, 0, 0),\n",
              "       cftime.DatetimeGregorian(2000, 1, 16, 12, 0, 0, 0),\n",
              "       cftime.DatetimeGregorian(2000, 1, 17, 12, 0, 0, 0),\n",
              "       cftime.DatetimeGregorian(2000, 1, 18, 12, 0, 0, 0),\n",
              "       cftime.DatetimeGregorian(2000, 1, 19, 12, 0, 0, 0),\n",
              "       cftime.DatetimeGregorian(2000, 1, 20, 12, 0, 0, 0),\n",
              "       cftime.DatetimeGregorian(2000, 1, 21, 12, 0, 0, 0),\n",
              "       cftime.DatetimeGregorian(2000, 1, 22, 12, 0, 0, 0),\n",
              "       cftime.DatetimeGregorian(2000, 1, 23, 12, 0, 0, 0),\n",
              "       cftime.DatetimeGregorian(2000, 1, 24, 12, 0, 0, 0),\n",
              "       cftime.DatetimeGregorian(2000, 1, 25, 12, 0, 0, 0),\n",
              "       cftime.DatetimeGregorian(2000, 1, 26, 12, 0, 0, 0),\n",
              "       cftime.DatetimeGregorian(2000, 1, 27, 12, 0, 0, 0),\n",
              "       cftime.DatetimeGregorian(2000, 1, 28, 12, 0, 0, 0),\n",
              "       cftime.DatetimeGregorian(2000, 1, 29, 12, 0, 0, 0),\n",
              "       cftime.DatetimeGregorian(2000, 1, 30, 12, 0, 0, 0),\n",
              "       cftime.DatetimeGregorian(2000, 1, 31, 12, 0, 0, 0)], dtype=object)</pre></li></ul></div></li><li class='xr-section-item'><input id='section-61e7d061-699b-4736-8d1a-3dd51b53ed1f' class='xr-section-summary-in' type='checkbox'  checked><label for='section-61e7d061-699b-4736-8d1a-3dd51b53ed1f' class='xr-section-summary' >Attributes: <span>(7)</span></label><div class='xr-section-inline-details'></div><div class='xr-section-details'><dl class='xr-attrs'><dt><span>long_name :</span></dt><dd>surface height on T cells [Boussinesq (volume conserving) model]</dd><dt><span>units :</span></dt><dd>meter</dd><dt><span>valid_range :</span></dt><dd>[-32767  32767]</dd><dt><span>packing :</span></dt><dd>4</dd><dt><span>cell_methods :</span></dt><dd>time: mean</dd><dt><span>time_avg_info :</span></dt><dd>average_T1,average_T2,average_DT</dd><dt><span>coordinates :</span></dt><dd>geolon_t geolat_t</dd></dl></div></li></ul></div></div>"
            ],
            "text/plain": [
              "<xarray.DataArray 'eta_t' (Time: 31, yt_ocean: 1500, xt_ocean: 3600)>\n",
              "array([[[      nan,       nan, ...,       nan,       nan],\n",
              "        [      nan,       nan, ...,       nan,       nan],\n",
              "        ...,\n",
              "        [-0.824   , -0.793481, ..., -0.824   , -0.824   ],\n",
              "        [-0.762963, -0.762963, ..., -0.762963, -0.762963]],\n",
              "\n",
              "       [[      nan,       nan, ...,       nan,       nan],\n",
              "        [      nan,       nan, ...,       nan,       nan],\n",
              "        ...,\n",
              "        [-0.793481, -0.793481, ..., -0.824   , -0.793481],\n",
              "        [-0.732444, -0.732444, ..., -0.762963, -0.732444]],\n",
              "\n",
              "       ...,\n",
              "\n",
              "       [[      nan,       nan, ...,       nan,       nan],\n",
              "        [      nan,       nan, ...,       nan,       nan],\n",
              "        ...,\n",
              "        [-0.762963, -0.762963, ..., -0.762963, -0.762963],\n",
              "        [-0.732444, -0.762963, ..., -0.732444, -0.732444]],\n",
              "\n",
              "       [[      nan,       nan, ...,       nan,       nan],\n",
              "        [      nan,       nan, ...,       nan,       nan],\n",
              "        ...,\n",
              "        [-0.762963, -0.762963, ..., -0.762963, -0.762963],\n",
              "        [-0.762963, -0.762963, ..., -0.762963, -0.762963]]], dtype=float32)\n",
              "Coordinates:\n",
              "  * xt_ocean  (xt_ocean) float64 0.05 0.15 0.25 0.35 ... 359.6 359.8 359.9 360.0\n",
              "  * yt_ocean  (yt_ocean) float64 -74.95 -74.85 -74.75 ... 74.75 74.85 74.95\n",
              "  * Time      (Time) object 2000-01-01 12:00:00 ... 2000-01-31 12:00:00\n",
              "Attributes:\n",
              "    long_name:      surface height on T cells [Boussinesq (volume conserving)...\n",
              "    units:          meter\n",
              "    valid_range:    [-32767  32767]\n",
              "    packing:        4\n",
              "    cell_methods:   time: mean\n",
              "    time_avg_info:  average_T1,average_T2,average_DT\n",
              "    coordinates:    geolon_t geolat_t"
            ]
          },
          "metadata": {
            "tags": []
          },
          "execution_count": 24
        }
      ]
    },
    {
      "cell_type": "code",
      "metadata": {
        "colab": {
          "base_uri": "https://localhost:8080/",
          "height": 265
        },
        "id": "cNdJhmoKTqDf",
        "outputId": "4bdff5ff-e2ae-45d2-c82a-8d2aa61656df"
      },
      "source": [
        "\n",
        "plt.show()"
      ],
      "execution_count": null,
      "outputs": [
        {
          "output_type": "display_data",
          "data": {
            "image/png": "[encoded data removed]",
            "text/plain": [
              "<Figure size 432x288 with 1 Axes>"
            ]
          },
          "metadata": {
            "tags": []
          }
        }
      ]
    },
    {
      "cell_type": "code",
      "metadata": {
        "id": "9OfcTh4Ka1ej"
      },
      "source": [
        "path = [\"c:/users/kush/data.nc\",'']\n",
        "urlt = 'www.smth.com/data.nc'"
      ],
      "execution_count": null,
      "outputs": []
    },
    {
      "cell_type": "code",
      "metadata": {
        "colab": {
          "base_uri": "https://localhost:8080/",
          "height": 211
        },
        "id": "pmsLhEcZK1nJ",
        "outputId": "a4f76733-ef36-42a1-b60c-49bb55b4581e"
      },
      "source": [
        "dataset = netCDF4.MFDataset(urls)"
      ],
      "execution_count": null,
      "outputs": [
        {
          "output_type": "error",
          "ename": "ValueError",
          "evalue": "ignored",
          "traceback": [
            "\u001b[0;31m---------------------------------------------------------------------------\u001b[0m",
            "\u001b[0;31mValueError\u001b[0m                                Traceback (most recent call last)",
            "\u001b[0;32m<ipython-input-42-3961204e41a3>\u001b[0m in \u001b[0;36m<module>\u001b[0;34m()\u001b[0m\n\u001b[0;32m----> 1\u001b[0;31m \u001b[0mdataset\u001b[0m \u001b[0;34m=\u001b[0m \u001b[0mnetCDF4\u001b[0m\u001b[0;34m.\u001b[0m\u001b[0mMFDataset\u001b[0m\u001b[0;34m(\u001b[0m\u001b[0murls\u001b[0m\u001b[0;34m)\u001b[0m\u001b[0;34m\u001b[0m\u001b[0;34m\u001b[0m\u001b[0m\n\u001b[0m",
            "\u001b[0;32msrc/netCDF4/_netCDF4.pyx\u001b[0m in \u001b[0;36mnetCDF4._netCDF4.MFDataset.__init__\u001b[0;34m()\u001b[0m\n",
            "\u001b[0;31mValueError\u001b[0m: cannot using file globbing for remote (OPeNDAP) datasets"
          ]
        }
      ]
    },
    {
      "cell_type": "code",
      "metadata": {
        "colab": {
          "base_uri": "https://localhost:8080/"
        },
        "id": "AQpoHLWKK8_D",
        "outputId": "fe50fe5c-138e-45ac-844a-25f8988ff591"
      },
      "source": [
        "dataset.variables.keys()"
      ],
      "execution_count": null,
      "outputs": [
        {
          "output_type": "execute_result",
          "data": {
            "text/plain": [
              "dict_keys(['xt_ocean', 'yt_ocean', 'Time', 'nv', 'average_T1', 'average_T2', 'average_DT', 'Time_bounds', 'eta_t'])"
            ]
          },
          "metadata": {
            "tags": []
          },
          "execution_count": 11
        }
      ]
    },
    {
      "cell_type": "code",
      "metadata": {
        "colab": {
          "base_uri": "https://localhost:8080/",
          "height": 174
        },
        "id": "MuM4thi3NJCR",
        "outputId": "d7c19861-294c-47c5-904f-14256693c667"
      },
      "source": [
        "xt_ocean = dataset['xt_ocean'][:]"
      ],
      "execution_count": null,
      "outputs": [
        {
          "output_type": "error",
          "ename": "NameError",
          "evalue": "ignored",
          "traceback": [
            "\u001b[0;31m---------------------------------------------------------------------------\u001b[0m",
            "\u001b[0;31mNameError\u001b[0m                                 Traceback (most recent call last)",
            "\u001b[0;32m<ipython-input-73-c1d9115f36ad>\u001b[0m in \u001b[0;36m<module>\u001b[0;34m()\u001b[0m\n\u001b[0;32m----> 1\u001b[0;31m \u001b[0mxt_ocean\u001b[0m \u001b[0;34m=\u001b[0m \u001b[0mdataset\u001b[0m\u001b[0;34m[\u001b[0m\u001b[0;34m'xt_ocean'\u001b[0m\u001b[0;34m]\u001b[0m\u001b[0;34m[\u001b[0m\u001b[0;34m:\u001b[0m\u001b[0;34m]\u001b[0m\u001b[0;34m\u001b[0m\u001b[0;34m\u001b[0m\u001b[0m\n\u001b[0m",
            "\u001b[0;31mNameError\u001b[0m: name 'dataset' is not defined"
          ]
        }
      ]
    },
    {
      "cell_type": "code",
      "metadata": {
        "colab": {
          "base_uri": "https://localhost:8080/"
        },
        "id": "BqwAIzPJNM81",
        "outputId": "e960dec1-1c8b-4e91-d5e5-c50738303b15"
      },
      "source": [
        "xt_ocean"
      ],
      "execution_count": null,
      "outputs": [
        {
          "output_type": "execute_result",
          "data": {
            "text/plain": [
              "<class 'netCDF4._netCDF4.Variable'>\n",
              "float64 xt_ocean(xt_ocean)\n",
              "    long_name: tcell longitude\n",
              "    units: degrees_E\n",
              "    cartesian_axis: X\n",
              "    domain_decomposition: [   1 3600    1 1800]\n",
              "unlimited dimensions: \n",
              "current shape = (3600,)\n",
              "filling off"
            ]
          },
          "metadata": {
            "tags": []
          },
          "execution_count": 13
        }
      ]
    }
  ]
}